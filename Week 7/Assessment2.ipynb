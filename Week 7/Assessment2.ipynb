{
 "nbformat": 4,
 "nbformat_minor": 0,
 "metadata": {
  "colab": {
   "name": "Assessment2.ipynb",
   "provenance": [],
   "collapsed_sections": []
  },
  "kernelspec": {
   "display_name": "Python 3",
   "language": "python",
   "name": "python3"
  },
  "language_info": {
   "codemirror_mode": {
    "name": "ipython",
    "version": 3
   },
   "file_extension": ".py",
   "mimetype": "text/x-python",
   "name": "python",
   "nbconvert_exporter": "python",
   "pygments_lexer": "ipython3",
   "version": "3.7.4"
  },
  "widgets": {
   "application/vnd.jupyter.widget-state+json": {
    "75d596801b954966bb7f27cf74257747": {
     "model_module": "@jupyter-widgets/controls",
     "model_name": "HBoxModel",
     "state": {
      "_view_name": "HBoxView",
      "_dom_classes": [],
      "_model_name": "HBoxModel",
      "_view_module": "@jupyter-widgets/controls",
      "_model_module_version": "1.5.0",
      "_view_count": null,
      "_view_module_version": "1.5.0",
      "box_style": "",
      "layout": "IPY_MODEL_ad5826916b32463e97792d580bdb0258",
      "_model_module": "@jupyter-widgets/controls",
      "children": [
       "IPY_MODEL_adcadbc22a694abcaec24791bf330410",
       "IPY_MODEL_7e7577eee9fd45a2989c1a0a3206d7ec"
      ]
     }
    },
    "ad5826916b32463e97792d580bdb0258": {
     "model_module": "@jupyter-widgets/base",
     "model_name": "LayoutModel",
     "state": {
      "_view_name": "LayoutView",
      "grid_template_rows": null,
      "right": null,
      "justify_content": null,
      "_view_module": "@jupyter-widgets/base",
      "overflow": null,
      "_model_module_version": "1.2.0",
      "_view_count": null,
      "flex_flow": null,
      "width": null,
      "min_width": null,
      "border": null,
      "align_items": null,
      "bottom": null,
      "_model_module": "@jupyter-widgets/base",
      "top": null,
      "grid_column": null,
      "overflow_y": null,
      "overflow_x": null,
      "grid_auto_flow": null,
      "grid_area": null,
      "grid_template_columns": null,
      "flex": null,
      "_model_name": "LayoutModel",
      "justify_items": null,
      "grid_row": null,
      "max_height": null,
      "align_content": null,
      "visibility": null,
      "align_self": null,
      "height": null,
      "min_height": null,
      "padding": null,
      "grid_auto_rows": null,
      "grid_gap": null,
      "max_width": null,
      "order": null,
      "_view_module_version": "1.2.0",
      "grid_template_areas": null,
      "object_position": null,
      "object_fit": null,
      "grid_auto_columns": null,
      "margin": null,
      "display": null,
      "left": null
     }
    },
    "adcadbc22a694abcaec24791bf330410": {
     "model_module": "@jupyter-widgets/controls",
     "model_name": "FloatProgressModel",
     "state": {
      "_view_name": "ProgressView",
      "style": "IPY_MODEL_dc773222495240c6bde754e916380e58",
      "_dom_classes": [],
      "description": "",
      "_model_name": "FloatProgressModel",
      "bar_style": "success",
      "max": 1,
      "_view_module": "@jupyter-widgets/controls",
      "_model_module_version": "1.5.0",
      "value": 1,
      "_view_count": null,
      "_view_module_version": "1.5.0",
      "orientation": "horizontal",
      "min": 0,
      "description_tooltip": null,
      "_model_module": "@jupyter-widgets/controls",
      "layout": "IPY_MODEL_b2eb547a90c6406fba6a22d6954e55d6"
     }
    },
    "7e7577eee9fd45a2989c1a0a3206d7ec": {
     "model_module": "@jupyter-widgets/controls",
     "model_name": "HTMLModel",
     "state": {
      "_view_name": "HTMLView",
      "style": "IPY_MODEL_267bacaa7b064ac8a2b9b8d2a1c356c5",
      "_dom_classes": [],
      "description": "",
      "_model_name": "HTMLModel",
      "placeholder": "​",
      "_view_module": "@jupyter-widgets/controls",
      "_model_module_version": "1.5.0",
      "value": " 9920512/? [00:06&lt;00:00, 1574782.79it/s]",
      "_view_count": null,
      "_view_module_version": "1.5.0",
      "description_tooltip": null,
      "_model_module": "@jupyter-widgets/controls",
      "layout": "IPY_MODEL_aaaff4914f3b4f39878195f465a9bb4e"
     }
    },
    "dc773222495240c6bde754e916380e58": {
     "model_module": "@jupyter-widgets/controls",
     "model_name": "ProgressStyleModel",
     "state": {
      "_view_name": "StyleView",
      "_model_name": "ProgressStyleModel",
      "description_width": "initial",
      "_view_module": "@jupyter-widgets/base",
      "_model_module_version": "1.5.0",
      "_view_count": null,
      "_view_module_version": "1.2.0",
      "bar_color": null,
      "_model_module": "@jupyter-widgets/controls"
     }
    },
    "b2eb547a90c6406fba6a22d6954e55d6": {
     "model_module": "@jupyter-widgets/base",
     "model_name": "LayoutModel",
     "state": {
      "_view_name": "LayoutView",
      "grid_template_rows": null,
      "right": null,
      "justify_content": null,
      "_view_module": "@jupyter-widgets/base",
      "overflow": null,
      "_model_module_version": "1.2.0",
      "_view_count": null,
      "flex_flow": null,
      "width": null,
      "min_width": null,
      "border": null,
      "align_items": null,
      "bottom": null,
      "_model_module": "@jupyter-widgets/base",
      "top": null,
      "grid_column": null,
      "overflow_y": null,
      "overflow_x": null,
      "grid_auto_flow": null,
      "grid_area": null,
      "grid_template_columns": null,
      "flex": null,
      "_model_name": "LayoutModel",
      "justify_items": null,
      "grid_row": null,
      "max_height": null,
      "align_content": null,
      "visibility": null,
      "align_self": null,
      "height": null,
      "min_height": null,
      "padding": null,
      "grid_auto_rows": null,
      "grid_gap": null,
      "max_width": null,
      "order": null,
      "_view_module_version": "1.2.0",
      "grid_template_areas": null,
      "object_position": null,
      "object_fit": null,
      "grid_auto_columns": null,
      "margin": null,
      "display": null,
      "left": null
     }
    },
    "267bacaa7b064ac8a2b9b8d2a1c356c5": {
     "model_module": "@jupyter-widgets/controls",
     "model_name": "DescriptionStyleModel",
     "state": {
      "_view_name": "StyleView",
      "_model_name": "DescriptionStyleModel",
      "description_width": "",
      "_view_module": "@jupyter-widgets/base",
      "_model_module_version": "1.5.0",
      "_view_count": null,
      "_view_module_version": "1.2.0",
      "_model_module": "@jupyter-widgets/controls"
     }
    },
    "aaaff4914f3b4f39878195f465a9bb4e": {
     "model_module": "@jupyter-widgets/base",
     "model_name": "LayoutModel",
     "state": {
      "_view_name": "LayoutView",
      "grid_template_rows": null,
      "right": null,
      "justify_content": null,
      "_view_module": "@jupyter-widgets/base",
      "overflow": null,
      "_model_module_version": "1.2.0",
      "_view_count": null,
      "flex_flow": null,
      "width": null,
      "min_width": null,
      "border": null,
      "align_items": null,
      "bottom": null,
      "_model_module": "@jupyter-widgets/base",
      "top": null,
      "grid_column": null,
      "overflow_y": null,
      "overflow_x": null,
      "grid_auto_flow": null,
      "grid_area": null,
      "grid_template_columns": null,
      "flex": null,
      "_model_name": "LayoutModel",
      "justify_items": null,
      "grid_row": null,
      "max_height": null,
      "align_content": null,
      "visibility": null,
      "align_self": null,
      "height": null,
      "min_height": null,
      "padding": null,
      "grid_auto_rows": null,
      "grid_gap": null,
      "max_width": null,
      "order": null,
      "_view_module_version": "1.2.0",
      "grid_template_areas": null,
      "object_position": null,
      "object_fit": null,
      "grid_auto_columns": null,
      "margin": null,
      "display": null,
      "left": null
     }
    },
    "654c583f2eac4286916f5a3d8c0278ac": {
     "model_module": "@jupyter-widgets/controls",
     "model_name": "HBoxModel",
     "state": {
      "_view_name": "HBoxView",
      "_dom_classes": [],
      "_model_name": "HBoxModel",
      "_view_module": "@jupyter-widgets/controls",
      "_model_module_version": "1.5.0",
      "_view_count": null,
      "_view_module_version": "1.5.0",
      "box_style": "",
      "layout": "IPY_MODEL_e1dc7b84b34c409683f08abeafe732b0",
      "_model_module": "@jupyter-widgets/controls",
      "children": [
       "IPY_MODEL_2da77d3d66774e40822169d467882b5d",
       "IPY_MODEL_abd26e7c413c4787b2cfedeb358505aa"
      ]
     }
    },
    "e1dc7b84b34c409683f08abeafe732b0": {
     "model_module": "@jupyter-widgets/base",
     "model_name": "LayoutModel",
     "state": {
      "_view_name": "LayoutView",
      "grid_template_rows": null,
      "right": null,
      "justify_content": null,
      "_view_module": "@jupyter-widgets/base",
      "overflow": null,
      "_model_module_version": "1.2.0",
      "_view_count": null,
      "flex_flow": null,
      "width": null,
      "min_width": null,
      "border": null,
      "align_items": null,
      "bottom": null,
      "_model_module": "@jupyter-widgets/base",
      "top": null,
      "grid_column": null,
      "overflow_y": null,
      "overflow_x": null,
      "grid_auto_flow": null,
      "grid_area": null,
      "grid_template_columns": null,
      "flex": null,
      "_model_name": "LayoutModel",
      "justify_items": null,
      "grid_row": null,
      "max_height": null,
      "align_content": null,
      "visibility": null,
      "align_self": null,
      "height": null,
      "min_height": null,
      "padding": null,
      "grid_auto_rows": null,
      "grid_gap": null,
      "max_width": null,
      "order": null,
      "_view_module_version": "1.2.0",
      "grid_template_areas": null,
      "object_position": null,
      "object_fit": null,
      "grid_auto_columns": null,
      "margin": null,
      "display": null,
      "left": null
     }
    },
    "2da77d3d66774e40822169d467882b5d": {
     "model_module": "@jupyter-widgets/controls",
     "model_name": "FloatProgressModel",
     "state": {
      "_view_name": "ProgressView",
      "style": "IPY_MODEL_b9aef1f94d4c45a0bd84a2e62d330be9",
      "_dom_classes": [],
      "description": "",
      "_model_name": "FloatProgressModel",
      "bar_style": "success",
      "max": 1,
      "_view_module": "@jupyter-widgets/controls",
      "_model_module_version": "1.5.0",
      "value": 1,
      "_view_count": null,
      "_view_module_version": "1.5.0",
      "orientation": "horizontal",
      "min": 0,
      "description_tooltip": null,
      "_model_module": "@jupyter-widgets/controls",
      "layout": "IPY_MODEL_565487ec696248a7b669d9b9ab1dde0b"
     }
    },
    "abd26e7c413c4787b2cfedeb358505aa": {
     "model_module": "@jupyter-widgets/controls",
     "model_name": "HTMLModel",
     "state": {
      "_view_name": "HTMLView",
      "style": "IPY_MODEL_0d324f699aab4c3a86eae3a0e98d48f9",
      "_dom_classes": [],
      "description": "",
      "_model_name": "HTMLModel",
      "placeholder": "​",
      "_view_module": "@jupyter-widgets/controls",
      "_model_module_version": "1.5.0",
      "value": " 32768/? [00:03&lt;00:00, 9519.36it/s]",
      "_view_count": null,
      "_view_module_version": "1.5.0",
      "description_tooltip": null,
      "_model_module": "@jupyter-widgets/controls",
      "layout": "IPY_MODEL_97aee4a5d40946e0986f2b9764b2f366"
     }
    },
    "b9aef1f94d4c45a0bd84a2e62d330be9": {
     "model_module": "@jupyter-widgets/controls",
     "model_name": "ProgressStyleModel",
     "state": {
      "_view_name": "StyleView",
      "_model_name": "ProgressStyleModel",
      "description_width": "initial",
      "_view_module": "@jupyter-widgets/base",
      "_model_module_version": "1.5.0",
      "_view_count": null,
      "_view_module_version": "1.2.0",
      "bar_color": null,
      "_model_module": "@jupyter-widgets/controls"
     }
    },
    "565487ec696248a7b669d9b9ab1dde0b": {
     "model_module": "@jupyter-widgets/base",
     "model_name": "LayoutModel",
     "state": {
      "_view_name": "LayoutView",
      "grid_template_rows": null,
      "right": null,
      "justify_content": null,
      "_view_module": "@jupyter-widgets/base",
      "overflow": null,
      "_model_module_version": "1.2.0",
      "_view_count": null,
      "flex_flow": null,
      "width": null,
      "min_width": null,
      "border": null,
      "align_items": null,
      "bottom": null,
      "_model_module": "@jupyter-widgets/base",
      "top": null,
      "grid_column": null,
      "overflow_y": null,
      "overflow_x": null,
      "grid_auto_flow": null,
      "grid_area": null,
      "grid_template_columns": null,
      "flex": null,
      "_model_name": "LayoutModel",
      "justify_items": null,
      "grid_row": null,
      "max_height": null,
      "align_content": null,
      "visibility": null,
      "align_self": null,
      "height": null,
      "min_height": null,
      "padding": null,
      "grid_auto_rows": null,
      "grid_gap": null,
      "max_width": null,
      "order": null,
      "_view_module_version": "1.2.0",
      "grid_template_areas": null,
      "object_position": null,
      "object_fit": null,
      "grid_auto_columns": null,
      "margin": null,
      "display": null,
      "left": null
     }
    },
    "0d324f699aab4c3a86eae3a0e98d48f9": {
     "model_module": "@jupyter-widgets/controls",
     "model_name": "DescriptionStyleModel",
     "state": {
      "_view_name": "StyleView",
      "_model_name": "DescriptionStyleModel",
      "description_width": "",
      "_view_module": "@jupyter-widgets/base",
      "_model_module_version": "1.5.0",
      "_view_count": null,
      "_view_module_version": "1.2.0",
      "_model_module": "@jupyter-widgets/controls"
     }
    },
    "97aee4a5d40946e0986f2b9764b2f366": {
     "model_module": "@jupyter-widgets/base",
     "model_name": "LayoutModel",
     "state": {
      "_view_name": "LayoutView",
      "grid_template_rows": null,
      "right": null,
      "justify_content": null,
      "_view_module": "@jupyter-widgets/base",
      "overflow": null,
      "_model_module_version": "1.2.0",
      "_view_count": null,
      "flex_flow": null,
      "width": null,
      "min_width": null,
      "border": null,
      "align_items": null,
      "bottom": null,
      "_model_module": "@jupyter-widgets/base",
      "top": null,
      "grid_column": null,
      "overflow_y": null,
      "overflow_x": null,
      "grid_auto_flow": null,
      "grid_area": null,
      "grid_template_columns": null,
      "flex": null,
      "_model_name": "LayoutModel",
      "justify_items": null,
      "grid_row": null,
      "max_height": null,
      "align_content": null,
      "visibility": null,
      "align_self": null,
      "height": null,
      "min_height": null,
      "padding": null,
      "grid_auto_rows": null,
      "grid_gap": null,
      "max_width": null,
      "order": null,
      "_view_module_version": "1.2.0",
      "grid_template_areas": null,
      "object_position": null,
      "object_fit": null,
      "grid_auto_columns": null,
      "margin": null,
      "display": null,
      "left": null
     }
    },
    "0f253758da8d4a0d8a1375a9d4bd0ce1": {
     "model_module": "@jupyter-widgets/controls",
     "model_name": "HBoxModel",
     "state": {
      "_view_name": "HBoxView",
      "_dom_classes": [],
      "_model_name": "HBoxModel",
      "_view_module": "@jupyter-widgets/controls",
      "_model_module_version": "1.5.0",
      "_view_count": null,
      "_view_module_version": "1.5.0",
      "box_style": "",
      "layout": "IPY_MODEL_c65cf1d131a94fbdb1478e39ff49faa0",
      "_model_module": "@jupyter-widgets/controls",
      "children": [
       "IPY_MODEL_a16956e7b2fb483bb7d3827adc875189",
       "IPY_MODEL_baa2ba55720a43e8bb67f0e3e8f52775"
      ]
     }
    },
    "c65cf1d131a94fbdb1478e39ff49faa0": {
     "model_module": "@jupyter-widgets/base",
     "model_name": "LayoutModel",
     "state": {
      "_view_name": "LayoutView",
      "grid_template_rows": null,
      "right": null,
      "justify_content": null,
      "_view_module": "@jupyter-widgets/base",
      "overflow": null,
      "_model_module_version": "1.2.0",
      "_view_count": null,
      "flex_flow": null,
      "width": null,
      "min_width": null,
      "border": null,
      "align_items": null,
      "bottom": null,
      "_model_module": "@jupyter-widgets/base",
      "top": null,
      "grid_column": null,
      "overflow_y": null,
      "overflow_x": null,
      "grid_auto_flow": null,
      "grid_area": null,
      "grid_template_columns": null,
      "flex": null,
      "_model_name": "LayoutModel",
      "justify_items": null,
      "grid_row": null,
      "max_height": null,
      "align_content": null,
      "visibility": null,
      "align_self": null,
      "height": null,
      "min_height": null,
      "padding": null,
      "grid_auto_rows": null,
      "grid_gap": null,
      "max_width": null,
      "order": null,
      "_view_module_version": "1.2.0",
      "grid_template_areas": null,
      "object_position": null,
      "object_fit": null,
      "grid_auto_columns": null,
      "margin": null,
      "display": null,
      "left": null
     }
    },
    "a16956e7b2fb483bb7d3827adc875189": {
     "model_module": "@jupyter-widgets/controls",
     "model_name": "FloatProgressModel",
     "state": {
      "_view_name": "ProgressView",
      "style": "IPY_MODEL_f8bde6db3c53475abed70341c154a700",
      "_dom_classes": [],
      "description": "",
      "_model_name": "FloatProgressModel",
      "bar_style": "success",
      "max": 1,
      "_view_module": "@jupyter-widgets/controls",
      "_model_module_version": "1.5.0",
      "value": 1,
      "_view_count": null,
      "_view_module_version": "1.5.0",
      "orientation": "horizontal",
      "min": 0,
      "description_tooltip": null,
      "_model_module": "@jupyter-widgets/controls",
      "layout": "IPY_MODEL_8c7390c23d0a4e43b69aaf11d7626784"
     }
    },
    "baa2ba55720a43e8bb67f0e3e8f52775": {
     "model_module": "@jupyter-widgets/controls",
     "model_name": "HTMLModel",
     "state": {
      "_view_name": "HTMLView",
      "style": "IPY_MODEL_3d10747b85ae449c9faa6dbe4b6f41a8",
      "_dom_classes": [],
      "description": "",
      "_model_name": "HTMLModel",
      "placeholder": "​",
      "_view_module": "@jupyter-widgets/controls",
      "_model_module_version": "1.5.0",
      "value": " 1654784/? [00:02&lt;00:00, 646825.43it/s]",
      "_view_count": null,
      "_view_module_version": "1.5.0",
      "description_tooltip": null,
      "_model_module": "@jupyter-widgets/controls",
      "layout": "IPY_MODEL_8967f68c73c345f0a59e267c9134f0f8"
     }
    },
    "f8bde6db3c53475abed70341c154a700": {
     "model_module": "@jupyter-widgets/controls",
     "model_name": "ProgressStyleModel",
     "state": {
      "_view_name": "StyleView",
      "_model_name": "ProgressStyleModel",
      "description_width": "initial",
      "_view_module": "@jupyter-widgets/base",
      "_model_module_version": "1.5.0",
      "_view_count": null,
      "_view_module_version": "1.2.0",
      "bar_color": null,
      "_model_module": "@jupyter-widgets/controls"
     }
    },
    "8c7390c23d0a4e43b69aaf11d7626784": {
     "model_module": "@jupyter-widgets/base",
     "model_name": "LayoutModel",
     "state": {
      "_view_name": "LayoutView",
      "grid_template_rows": null,
      "right": null,
      "justify_content": null,
      "_view_module": "@jupyter-widgets/base",
      "overflow": null,
      "_model_module_version": "1.2.0",
      "_view_count": null,
      "flex_flow": null,
      "width": null,
      "min_width": null,
      "border": null,
      "align_items": null,
      "bottom": null,
      "_model_module": "@jupyter-widgets/base",
      "top": null,
      "grid_column": null,
      "overflow_y": null,
      "overflow_x": null,
      "grid_auto_flow": null,
      "grid_area": null,
      "grid_template_columns": null,
      "flex": null,
      "_model_name": "LayoutModel",
      "justify_items": null,
      "grid_row": null,
      "max_height": null,
      "align_content": null,
      "visibility": null,
      "align_self": null,
      "height": null,
      "min_height": null,
      "padding": null,
      "grid_auto_rows": null,
      "grid_gap": null,
      "max_width": null,
      "order": null,
      "_view_module_version": "1.2.0",
      "grid_template_areas": null,
      "object_position": null,
      "object_fit": null,
      "grid_auto_columns": null,
      "margin": null,
      "display": null,
      "left": null
     }
    },
    "3d10747b85ae449c9faa6dbe4b6f41a8": {
     "model_module": "@jupyter-widgets/controls",
     "model_name": "DescriptionStyleModel",
     "state": {
      "_view_name": "StyleView",
      "_model_name": "DescriptionStyleModel",
      "description_width": "",
      "_view_module": "@jupyter-widgets/base",
      "_model_module_version": "1.5.0",
      "_view_count": null,
      "_view_module_version": "1.2.0",
      "_model_module": "@jupyter-widgets/controls"
     }
    },
    "8967f68c73c345f0a59e267c9134f0f8": {
     "model_module": "@jupyter-widgets/base",
     "model_name": "LayoutModel",
     "state": {
      "_view_name": "LayoutView",
      "grid_template_rows": null,
      "right": null,
      "justify_content": null,
      "_view_module": "@jupyter-widgets/base",
      "overflow": null,
      "_model_module_version": "1.2.0",
      "_view_count": null,
      "flex_flow": null,
      "width": null,
      "min_width": null,
      "border": null,
      "align_items": null,
      "bottom": null,
      "_model_module": "@jupyter-widgets/base",
      "top": null,
      "grid_column": null,
      "overflow_y": null,
      "overflow_x": null,
      "grid_auto_flow": null,
      "grid_area": null,
      "grid_template_columns": null,
      "flex": null,
      "_model_name": "LayoutModel",
      "justify_items": null,
      "grid_row": null,
      "max_height": null,
      "align_content": null,
      "visibility": null,
      "align_self": null,
      "height": null,
      "min_height": null,
      "padding": null,
      "grid_auto_rows": null,
      "grid_gap": null,
      "max_width": null,
      "order": null,
      "_view_module_version": "1.2.0",
      "grid_template_areas": null,
      "object_position": null,
      "object_fit": null,
      "grid_auto_columns": null,
      "margin": null,
      "display": null,
      "left": null
     }
    },
    "cb54fb29f4f344939e5473ddb116b9d7": {
     "model_module": "@jupyter-widgets/controls",
     "model_name": "HBoxModel",
     "state": {
      "_view_name": "HBoxView",
      "_dom_classes": [],
      "_model_name": "HBoxModel",
      "_view_module": "@jupyter-widgets/controls",
      "_model_module_version": "1.5.0",
      "_view_count": null,
      "_view_module_version": "1.5.0",
      "box_style": "",
      "layout": "IPY_MODEL_4862f9230342451d872c846959102a22",
      "_model_module": "@jupyter-widgets/controls",
      "children": [
       "IPY_MODEL_29dbffced93a4945ba520432245f0402",
       "IPY_MODEL_b4d364c11bd546b99833a98bc60e3127"
      ]
     }
    },
    "4862f9230342451d872c846959102a22": {
     "model_module": "@jupyter-widgets/base",
     "model_name": "LayoutModel",
     "state": {
      "_view_name": "LayoutView",
      "grid_template_rows": null,
      "right": null,
      "justify_content": null,
      "_view_module": "@jupyter-widgets/base",
      "overflow": null,
      "_model_module_version": "1.2.0",
      "_view_count": null,
      "flex_flow": null,
      "width": null,
      "min_width": null,
      "border": null,
      "align_items": null,
      "bottom": null,
      "_model_module": "@jupyter-widgets/base",
      "top": null,
      "grid_column": null,
      "overflow_y": null,
      "overflow_x": null,
      "grid_auto_flow": null,
      "grid_area": null,
      "grid_template_columns": null,
      "flex": null,
      "_model_name": "LayoutModel",
      "justify_items": null,
      "grid_row": null,
      "max_height": null,
      "align_content": null,
      "visibility": null,
      "align_self": null,
      "height": null,
      "min_height": null,
      "padding": null,
      "grid_auto_rows": null,
      "grid_gap": null,
      "max_width": null,
      "order": null,
      "_view_module_version": "1.2.0",
      "grid_template_areas": null,
      "object_position": null,
      "object_fit": null,
      "grid_auto_columns": null,
      "margin": null,
      "display": null,
      "left": null
     }
    },
    "29dbffced93a4945ba520432245f0402": {
     "model_module": "@jupyter-widgets/controls",
     "model_name": "FloatProgressModel",
     "state": {
      "_view_name": "ProgressView",
      "style": "IPY_MODEL_7c68376e41184079bc71dbbc19709c6d",
      "_dom_classes": [],
      "description": "",
      "_model_name": "FloatProgressModel",
      "bar_style": "success",
      "max": 1,
      "_view_module": "@jupyter-widgets/controls",
      "_model_module_version": "1.5.0",
      "value": 1,
      "_view_count": null,
      "_view_module_version": "1.5.0",
      "orientation": "horizontal",
      "min": 0,
      "description_tooltip": null,
      "_model_module": "@jupyter-widgets/controls",
      "layout": "IPY_MODEL_2cbb6b1e8c4a4e19b756cf1a3da69554"
     }
    },
    "b4d364c11bd546b99833a98bc60e3127": {
     "model_module": "@jupyter-widgets/controls",
     "model_name": "HTMLModel",
     "state": {
      "_view_name": "HTMLView",
      "style": "IPY_MODEL_8b89f5729be94b0db093fc69b910bef2",
      "_dom_classes": [],
      "description": "",
      "_model_name": "HTMLModel",
      "placeholder": "​",
      "_view_module": "@jupyter-widgets/controls",
      "_model_module_version": "1.5.0",
      "value": " 8192/? [00:00&lt;00:00, 11465.54it/s]",
      "_view_count": null,
      "_view_module_version": "1.5.0",
      "description_tooltip": null,
      "_model_module": "@jupyter-widgets/controls",
      "layout": "IPY_MODEL_63825472c80e46828376009750b06e27"
     }
    },
    "7c68376e41184079bc71dbbc19709c6d": {
     "model_module": "@jupyter-widgets/controls",
     "model_name": "ProgressStyleModel",
     "state": {
      "_view_name": "StyleView",
      "_model_name": "ProgressStyleModel",
      "description_width": "initial",
      "_view_module": "@jupyter-widgets/base",
      "_model_module_version": "1.5.0",
      "_view_count": null,
      "_view_module_version": "1.2.0",
      "bar_color": null,
      "_model_module": "@jupyter-widgets/controls"
     }
    },
    "2cbb6b1e8c4a4e19b756cf1a3da69554": {
     "model_module": "@jupyter-widgets/base",
     "model_name": "LayoutModel",
     "state": {
      "_view_name": "LayoutView",
      "grid_template_rows": null,
      "right": null,
      "justify_content": null,
      "_view_module": "@jupyter-widgets/base",
      "overflow": null,
      "_model_module_version": "1.2.0",
      "_view_count": null,
      "flex_flow": null,
      "width": null,
      "min_width": null,
      "border": null,
      "align_items": null,
      "bottom": null,
      "_model_module": "@jupyter-widgets/base",
      "top": null,
      "grid_column": null,
      "overflow_y": null,
      "overflow_x": null,
      "grid_auto_flow": null,
      "grid_area": null,
      "grid_template_columns": null,
      "flex": null,
      "_model_name": "LayoutModel",
      "justify_items": null,
      "grid_row": null,
      "max_height": null,
      "align_content": null,
      "visibility": null,
      "align_self": null,
      "height": null,
      "min_height": null,
      "padding": null,
      "grid_auto_rows": null,
      "grid_gap": null,
      "max_width": null,
      "order": null,
      "_view_module_version": "1.2.0",
      "grid_template_areas": null,
      "object_position": null,
      "object_fit": null,
      "grid_auto_columns": null,
      "margin": null,
      "display": null,
      "left": null
     }
    },
    "8b89f5729be94b0db093fc69b910bef2": {
     "model_module": "@jupyter-widgets/controls",
     "model_name": "DescriptionStyleModel",
     "state": {
      "_view_name": "StyleView",
      "_model_name": "DescriptionStyleModel",
      "description_width": "",
      "_view_module": "@jupyter-widgets/base",
      "_model_module_version": "1.5.0",
      "_view_count": null,
      "_view_module_version": "1.2.0",
      "_model_module": "@jupyter-widgets/controls"
     }
    },
    "63825472c80e46828376009750b06e27": {
     "model_module": "@jupyter-widgets/base",
     "model_name": "LayoutModel",
     "state": {
      "_view_name": "LayoutView",
      "grid_template_rows": null,
      "right": null,
      "justify_content": null,
      "_view_module": "@jupyter-widgets/base",
      "overflow": null,
      "_model_module_version": "1.2.0",
      "_view_count": null,
      "flex_flow": null,
      "width": null,
      "min_width": null,
      "border": null,
      "align_items": null,
      "bottom": null,
      "_model_module": "@jupyter-widgets/base",
      "top": null,
      "grid_column": null,
      "overflow_y": null,
      "overflow_x": null,
      "grid_auto_flow": null,
      "grid_area": null,
      "grid_template_columns": null,
      "flex": null,
      "_model_name": "LayoutModel",
      "justify_items": null,
      "grid_row": null,
      "max_height": null,
      "align_content": null,
      "visibility": null,
      "align_self": null,
      "height": null,
      "min_height": null,
      "padding": null,
      "grid_auto_rows": null,
      "grid_gap": null,
      "max_width": null,
      "order": null,
      "_view_module_version": "1.2.0",
      "grid_template_areas": null,
      "object_position": null,
      "object_fit": null,
      "grid_auto_columns": null,
      "margin": null,
      "display": null,
      "left": null
     }
    }
   }
  }
 },
 "cells": [
  {
   "cell_type": "markdown",
   "source": [],
   "metadata": {
    "collapsed": false,
    "pycharm": {
     "name": "#%% md\n"
    }
   }
  },
  {
   "cell_type": "code",
   "metadata": {
    "id": "W8gHOhj1D7vg",
    "executionInfo": {
     "status": "ok",
     "timestamp": 1603202828680,
     "user_tz": -330,
     "elapsed": 5106,
     "user": {
      "displayName": "Appstek Innovative Labs",
      "photoUrl": "",
      "userId": "04728396421173214517"
     }
    },
    "pycharm": {
     "name": "#%%\n"
    }
   },
   "source": [
    "# Importing torch library, which is a popular one for deep learning\n",
    "import torch\n",
    "import torch.nn as nn\n",
    "import torch.utils as utils\n",
    "from torch.autograd import Variable\n",
    "import torchvision\n",
    "import torchvision.transforms as transforms\n",
    "import torch.utils.data as Data\n",
    "import torch.nn.functional as F\n",
    "\n",
    "# OS is a standard python library, which we use for accessing the file system.\n",
    "import os\n",
    "\n",
    "# Matplotllib is used for ploting graphs\n",
    "import matplotlib.pyplot as plt\n",
    "%matplotlib inline\n",
    "\n",
    "from IPython import display"
   ],
   "execution_count": 1,
   "outputs": []
  },
  {
   "cell_type": "code",
   "metadata": {
    "id": "zM86RXOmEFhn",
    "executionInfo": {
     "status": "ok",
     "timestamp": 1603202841429,
     "user_tz": -330,
     "elapsed": 9899,
     "user": {
      "displayName": "Appstek Innovative Labs",
      "photoUrl": "",
      "userId": "04728396421173214517"
     }
    },
    "outputId": "6ab8f808-a9c0-45f2-c5f4-42a66d79afe5",
    "colab": {
     "base_uri": "https://localhost:8080/",
     "height": 888,
     "referenced_widgets": [
      "75d596801b954966bb7f27cf74257747",
      "ad5826916b32463e97792d580bdb0258",
      "adcadbc22a694abcaec24791bf330410",
      "7e7577eee9fd45a2989c1a0a3206d7ec",
      "dc773222495240c6bde754e916380e58",
      "b2eb547a90c6406fba6a22d6954e55d6",
      "267bacaa7b064ac8a2b9b8d2a1c356c5",
      "aaaff4914f3b4f39878195f465a9bb4e",
      "654c583f2eac4286916f5a3d8c0278ac",
      "e1dc7b84b34c409683f08abeafe732b0",
      "2da77d3d66774e40822169d467882b5d",
      "abd26e7c413c4787b2cfedeb358505aa",
      "b9aef1f94d4c45a0bd84a2e62d330be9",
      "565487ec696248a7b669d9b9ab1dde0b",
      "0d324f699aab4c3a86eae3a0e98d48f9",
      "97aee4a5d40946e0986f2b9764b2f366",
      "0f253758da8d4a0d8a1375a9d4bd0ce1",
      "c65cf1d131a94fbdb1478e39ff49faa0",
      "a16956e7b2fb483bb7d3827adc875189",
      "baa2ba55720a43e8bb67f0e3e8f52775",
      "f8bde6db3c53475abed70341c154a700",
      "8c7390c23d0a4e43b69aaf11d7626784",
      "3d10747b85ae449c9faa6dbe4b6f41a8",
      "8967f68c73c345f0a59e267c9134f0f8",
      "cb54fb29f4f344939e5473ddb116b9d7",
      "4862f9230342451d872c846959102a22",
      "29dbffced93a4945ba520432245f0402",
      "b4d364c11bd546b99833a98bc60e3127",
      "7c68376e41184079bc71dbbc19709c6d",
      "2cbb6b1e8c4a4e19b756cf1a3da69554",
      "8b89f5729be94b0db093fc69b910bef2",
      "63825472c80e46828376009750b06e27"
     ]
    },
    "pycharm": {
     "name": "#%%\n"
    }
   },
   "source": [
    "# Some code, to check if dataset is already downloaded.\n",
    "DOWNLOAD_MNIST = False\n",
    "if not(os.path.exists('./mnist/')) or not os.listdir('./mnist/'):\n",
    "    DOWNLOAD_MNIST = True\n",
    "\n",
    "# Loading the training data\n",
    "mnist_train = torchvision.datasets.MNIST(\n",
    "    root='./mnist/',\n",
    "    train=True,                                     # this is training data\n",
    "    transform=torchvision.transforms.ToTensor(),    # Converts a PIL.Image or numpy.ndarray to\n",
    "                                                    # torch.FloatTensor of shape (C x H x W) and normalize in the range [0.0, 1.0]\n",
    "    download=DOWNLOAD_MNIST,\n",
    ")\n",
    "\n",
    "# Similarly loading the testing data\n",
    "mnist_test = torchvision.datasets.MNIST(\n",
    "    root='./mnist/',\n",
    "    train=False,                                     \n",
    "    transform=torchvision.transforms.ToTensor(),    \n",
    "    download=DOWNLOAD_MNIST,\n",
    ")\n",
    "\n",
    "\n",
    "# ploting one example\n",
    "print(\"Shape of the training data (no of images, height, width) : \", mnist_train.train_data.size()) # (60000, 28, 28)\n",
    "print(\"Shape of the testing data (no of images, height, width) : \", mnist_test.test_data.size())  # (10000, 28, 28)\n",
    "print(\"\\n\")\n",
    "print(\"###### An Example Image, Label pair ############\")\n",
    "plt.imshow(mnist_train.train_data[0].numpy(), cmap='gray')\n",
    "plt.title('Label : %i' % mnist_train.train_labels[0])\n",
    "plt.show()\n",
    "\n"
   ],
   "execution_count": 2,
   "outputs": [
    {
     "name": "stderr",
     "output_type": "stream",
     "text": [
      "C:\\Users\\tenu0.LABRINTH\\anaconda3\\lib\\site-packages\\torchvision\\datasets\\mnist.py:75: UserWarning: train_data has been renamed data\n",
      "  warnings.warn(\"train_data has been renamed data\")\n",
      "C:\\Users\\tenu0.LABRINTH\\anaconda3\\lib\\site-packages\\torchvision\\datasets\\mnist.py:80: UserWarning: test_data has been renamed data\n",
      "  warnings.warn(\"test_data has been renamed data\")\n",
      "C:\\Users\\tenu0.LABRINTH\\anaconda3\\lib\\site-packages\\torchvision\\datasets\\mnist.py:65: UserWarning: train_labels has been renamed targets\n",
      "  warnings.warn(\"train_labels has been renamed targets\")\n"
     ]
    },
    {
     "name": "stdout",
     "output_type": "stream",
     "text": [
      "Shape of the training data (no of images, height, width) :  torch.Size([60000, 28, 28])\n",
      "Shape of the testing data (no of images, height, width) :  torch.Size([10000, 28, 28])\n",
      "\n",
      "\n",
      "###### An Example Image, Label pair ############\n"
     ]
    },
    {
     "data": {
      "text/plain": "<Figure size 432x288 with 1 Axes>",
      "image/png": "[encoded data removed]"
     },
     "metadata": {
      "needs_background": "light"
     },
     "output_type": "display_data"
    }
   ]
  },
  {
   "cell_type": "code",
   "metadata": {
    "id": "5-hXAjuOENyk",
    "executionInfo": {
     "status": "ok",
     "timestamp": 1603202872302,
     "user_tz": -330,
     "elapsed": 2263,
     "user": {
      "displayName": "Appstek Innovative Labs",
      "photoUrl": "",
      "userId": "04728396421173214517"
     }
    },
    "outputId": "49864fb1-3405-444d-d4ad-84a547eedeae",
    "colab": {
     "base_uri": "https://localhost:8080/",
     "height": 1000
    },
    "pycharm": {
     "name": "#%%\n"
    }
   },
   "source": [
    "batch_size = 1000 # The mini batch size used for doing the training\n",
    "\n",
    "\n",
    "# Data Loader for easy mini-batch return in training, the image batch shape will be (batch_size, 1, 28, 28)\n",
    "train_loader = Data.DataLoader(dataset=mnist_train, batch_size=batch_size, shuffle=True)\n",
    "test_loader = Data.DataLoader(dataset=mnist_test, batch_size=batch_size, shuffle=True)\n",
    "\n",
    "count = 0\n",
    "for mini_batch in train_loader:\n",
    "    images, labels = mini_batch\n",
    "    print('Mini batch size: images -', images.size(), ' labels - ', labels.size())\n",
    "    for j in range(batch_size):\n",
    "        print(images[j].size(), labels[j])\n",
    "        plt.imshow(images[j][0].numpy(), cmap='gray')\n",
    "        plt.title('Label : %i' % labels[j])\n",
    "        plt.show()\n",
    "\n",
    "# Some logic to break the loops so that we dont print the whole dataset.\n",
    "        if j == 1:\n",
    "            break\n",
    "    if count == 1:\n",
    "        break\n",
    "        \n",
    "    count +=1\n",
    "    \n"
   ],
   "execution_count": 3,
   "outputs": [
    {
     "name": "stdout",
     "output_type": "stream",
     "text": [
      "Mini batch size: images - torch.Size([1000, 1, 28, 28])  labels -  torch.Size([1000])\n",
      "torch.Size([1, 28, 28]) tensor(9)\n"
     ]
    },
    {
     "data": {
      "text/plain": "<Figure size 432x288 with 1 Axes>",
      "image/png": "[encoded data removed]"
     },
     "metadata": {
      "needs_background": "light"
     },
     "output_type": "display_data"
    },
    {
     "name": "stdout",
     "output_type": "stream",
     "text": [
      "torch.Size([1, 28, 28]) tensor(5)\n"
     ]
    },
    {
     "data": {
      "text/plain": "<Figure size 432x288 with 1 Axes>",
      "image/png": "[encoded data removed]"
     },
     "metadata": {
      "needs_background": "light"
     },
     "output_type": "display_data"
    },
    {
     "name": "stdout",
     "output_type": "stream",
     "text": [
      "Mini batch size: images - torch.Size([1000, 1, 28, 28])  labels -  torch.Size([1000])\n",
      "torch.Size([1, 28, 28]) tensor(2)\n"
     ]
    },
    {
     "data": {
      "text/plain": "<Figure size 432x288 with 1 Axes>",
      "image/png": "[encoded data removed]"
     },
     "metadata": {
      "needs_background": "light"
     },
     "output_type": "display_data"
    },
    {
     "name": "stdout",
     "output_type": "stream",
     "text": [
      "torch.Size([1, 28, 28]) tensor(2)\n"
     ]
    },
    {
     "data": {
      "text/plain": "<Figure size 432x288 with 1 Axes>",
      "image/png": "[encoded data removed]"
     },
     "metadata": {
      "needs_background": "light"
     },
     "output_type": "display_data"
    }
   ]
  },
  {
   "cell_type": "code",
   "metadata": {
    "id": "vAyllQqoESSc",
    "executionInfo": {
     "status": "ok",
     "timestamp": 1603202876052,
     "user_tz": -330,
     "elapsed": 1085,
     "user": {
      "displayName": "Appstek Innovative Labs",
      "photoUrl": "",
      "userId": "04728396421173214517"
     }
    },
    "pycharm": {
     "name": "#%%\n"
    }
   },
   "source": [
    "# A CNN based Feature extractor\n",
    "# Definining neural network in python by a class which inherits from nn.Module\n",
    "class LeNet(nn.Module):\n",
    "    \"\"\"LeNet feature extractor model.\"\"\"\n",
    "\n",
    "    def __init__(self):\n",
    "        \"\"\"Init LeNet feature extractor model.\"\"\"\n",
    "        super(LeNet, self).__init__()\n",
    "\n",
    "        # Defining the CNNfeature Extractor\n",
    "        self.feature_extractor = nn.Sequential(\n",
    "            # 1st conv layer\n",
    "            # input [1 x 28 x 28]\n",
    "            # output [20 x 12 x 12]\n",
    "            nn.Conv2d(1, 6, kernel_size=5), # A Conv which converts an input with 1 channel to an output with 6 channels\n",
    "            nn.MaxPool2d(kernel_size=2), # Max pooling subsampling operation\n",
    "            nn.ReLU(), # Non linear activation function\n",
    "            # 2nd conv layer\n",
    "            # input [20 x 12 x 12]\n",
    "            # output [50 x 4 x 4]\n",
    "            nn.Conv2d(6, 16, kernel_size=5),\n",
    "            nn.MaxPool2d(kernel_size=2),\n",
    "            nn.ReLU()\n",
    "        )\n",
    "        \n",
    "        # Defining the Classifier\n",
    "        self.classifier = nn.Sequential(\n",
    "            nn.Linear(16 * 4 * 4, 120),\n",
    "            nn.Linear(120, 84),\n",
    "            nn.ReLU(),\n",
    "            nn.Linear(84, 10)\n",
    "        )\n",
    "        \n",
    "    def forward(self, input):\n",
    "        \"\"\"Define a Forward pass of the LeNet.\"\"\"\n",
    "        out = self.feature_extractor(input) # Pass input through the feature extractor\n",
    "        out = out.view(-1, 16 * 4 * 4) # Reshape the 2D to a vector\n",
    "        out = self.classifier(out) # pass features through the classifier to get predictions\n",
    "        return out\n",
    "\n",
    "\n"
   ],
   "execution_count": 4,
   "outputs": []
  },
  {
   "cell_type": "code",
   "metadata": {
    "id": "fYIbsAbmEV7r",
    "executionInfo": {
     "status": "ok",
     "timestamp": 1603202880051,
     "user_tz": -330,
     "elapsed": 1553,
     "user": {
      "displayName": "Appstek Innovative Labs",
      "photoUrl": "",
      "userId": "04728396421173214517"
     }
    },
    "outputId": "2cb01f8b-96b7-4050-aed5-2997957f67bf",
    "colab": {
     "base_uri": "https://localhost:8080/",
     "height": 527
    },
    "pycharm": {
     "name": "#%%\n"
    }
   },
   "source": [
    "# Create an instance of the model\n",
    "lenet = LeNet()\n",
    "\n",
    "\n",
    "use_gpu = torch.cuda.is_available()\n",
    "if use_gpu:\n",
    "    lenet.cuda()\n",
    "\n",
    "# Print out the size of parameters of each layer\n",
    "for name, param in lenet.state_dict().items():\n",
    "    print(name, '\\n', param.size(), '\\n')"
   ],
   "execution_count": 5,
   "outputs": [
    {
     "name": "stdout",
     "output_type": "stream",
     "text": [
      "feature_extractor.0.weight \n",
      " torch.Size([6, 1, 5, 5]) \n",
      "\n",
      "feature_extractor.0.bias \n",
      " torch.Size([6]) \n",
      "\n",
      "feature_extractor.3.weight \n",
      " torch.Size([16, 6, 5, 5]) \n",
      "\n",
      "feature_extractor.3.bias \n",
      " torch.Size([16]) \n",
      "\n",
      "classifier.0.weight \n",
      " torch.Size([120, 256]) \n",
      "\n",
      "classifier.0.bias \n",
      " torch.Size([120]) \n",
      "\n",
      "classifier.1.weight \n",
      " torch.Size([84, 120]) \n",
      "\n",
      "classifier.1.bias \n",
      " torch.Size([84]) \n",
      "\n",
      "classifier.3.weight \n",
      " torch.Size([10, 84]) \n",
      "\n",
      "classifier.3.bias \n",
      " torch.Size([10]) \n",
      "\n"
     ]
    }
   ]
  },
  {
   "cell_type": "code",
   "metadata": {
    "id": "NbZFjvcTEas7",
    "executionInfo": {
     "status": "ok",
     "timestamp": 1603202891907,
     "user_tz": -330,
     "elapsed": 9789,
     "user": {
      "displayName": "Appstek Innovative Labs",
      "photoUrl": "",
      "userId": "04728396421173214517"
     }
    },
    "outputId": "0cfa0c21-61df-4421-fe8d-a8477265faee",
    "colab": {
     "base_uri": "https://localhost:8080/",
     "height": 71
    },
    "pycharm": {
     "name": "#%%\n"
    }
   },
   "source": [
    "correct = 0.0\n",
    "total = 0.0\n",
    "for mini_batch in train_loader:\n",
    "    images, labels = mini_batch\n",
    "    \n",
    "    # You can try with and without using GPUs, by setting this variable before the loop\n",
    "    if use_gpu:\n",
    "        images = images.cuda()\n",
    "        labels = labels.cuda()\n",
    "        \n",
    "    images = Variable(images)\n",
    "    \n",
    "    # Doing the Forward pass\n",
    "    result = lenet(images)\n",
    "    \n",
    "    # Coverting the predictions to probabilities, by applying the softmax function\n",
    "    result = F.softmax(result)\n",
    " \n",
    "    # Finding the prediction with the largest probability\n",
    "    _,pred = torch.max(result.data,1)\n",
    "    \n",
    "    total += labels.size(0)\n",
    "    # correct is incremented by the numer of prediction which are correct (equal to the ground truth labels)\n",
    "    correct += (pred == labels).sum()\n",
    "    \n",
    "print(\"Accuracy of Test Data: {0:.2f}%\".format(correct/total *100))"
   ],
   "execution_count": 6,
   "outputs": [
    {
     "name": "stderr",
     "output_type": "stream",
     "text": [
      "C:\\Users\\tenu0.LABRINTH\\AppData\\Local\\Temp\\ipykernel_6316\\1169358648.py:17: UserWarning: Implicit dimension choice for softmax has been deprecated. Change the call to include dim=X as an argument.\n",
      "  result = F.softmax(result)\n"
     ]
    },
    {
     "name": "stdout",
     "output_type": "stream",
     "text": [
      "Accuracy of Test Data: 13.43%\n"
     ]
    }
   ]
  },
  {
   "cell_type": "code",
   "metadata": {
    "id": "5IAZr1XkEg_D",
    "executionInfo": {
     "status": "ok",
     "timestamp": 1603202897288,
     "user_tz": -330,
     "elapsed": 1293,
     "user": {
      "displayName": "Appstek Innovative Labs",
      "photoUrl": "",
      "userId": "04728396421173214517"
     }
    },
    "pycharm": {
     "name": "#%%\n"
    }
   },
   "source": [
    "loss_func = nn.CrossEntropyLoss()\n",
    "\n",
    "# Set the learning rate\n",
    "learning_rate = 0.001\n",
    "\n",
    "optimizer = torch.optim.Adam(lenet.parameters(), lr=learning_rate)\n",
    "# optimizer = torch.optim.SGD(lenet.parameters(), lr=learning_rate, momentum=0.0)"
   ],
   "execution_count": 7,
   "outputs": []
  },
  {
   "cell_type": "code",
   "metadata": {
    "id": "nrqrD8H-EkvT",
    "executionInfo": {
     "status": "ok",
     "timestamp": 1603203024592,
     "user_tz": -330,
     "elapsed": 124258,
     "user": {
      "displayName": "Appstek Innovative Labs",
      "photoUrl": "",
      "userId": "04728396421173214517"
     }
    },
    "outputId": "5c90d234-f064-4bde-d184-a14e3869a9bb",
    "colab": {
     "base_uri": "https://localhost:8080/",
     "height": 401
    },
    "pycharm": {
     "name": "#%%\n"
    }
   },
   "source": [
    "# The number of times we should iterate over the training data. 1 epoch = 1 pass over the training data\n",
    "epoch = 8\n",
    "\n",
    "# Train Model with train data\n",
    "\n",
    "loss_history = []\n",
    "\n",
    "for i in range(epoch):\n",
    "    print('####### Epoch ', i)\n",
    "    for j,[image,label] in enumerate(train_loader):\n",
    "        # You can try with and without using GPUs, by setting this variable before the loop\n",
    "        if use_gpu:\n",
    "            image = image.cuda()\n",
    "            label = label.cuda()\n",
    "            \n",
    "        image = Variable(image)\n",
    "        label = Variable(label)\n",
    "        \n",
    "        \n",
    "        optimizer.zero_grad() # zero out the gradients from the preivous step \n",
    "        predictions = lenet.forward(image) # Do forward pass on the current mini batch\n",
    "        loss = loss_func(predictions, label) # Compute loss on the current mini batch\n",
    "        loss.backward() # Do backward pass. That is compute all the gradients for the current minibatch\n",
    "        optimizer.step() # Update the parameters using the gradients with the learning rate\n",
    "        \n",
    "        if j % 100 == 0:\n",
    "            loss_history.append(loss.data.cpu().numpy())\n",
    "                    \n",
    "       # display.clear_output(wait=True)\n",
    "plt.plot(loss_history)\n",
    "plt.show()"
   ],
   "execution_count": 8,
   "outputs": [
    {
     "name": "stdout",
     "output_type": "stream",
     "text": [
      "####### Epoch  0\n",
      "####### Epoch  1\n",
      "####### Epoch  2\n",
      "####### Epoch  3\n",
      "####### Epoch  4\n",
      "####### Epoch  5\n",
      "####### Epoch  6\n",
      "####### Epoch  7\n"
     ]
    },
    {
     "data": {
      "text/plain": "<Figure size 432x288 with 1 Axes>",
      "image/png": "[encoded data removed]"
     },
     "metadata": {
      "needs_background": "light"
     },
     "output_type": "display_data"
    }
   ]
  },
  {
   "cell_type": "code",
   "metadata": {
    "id": "3FifPtcrE4iK",
    "executionInfo": {
     "status": "ok",
     "timestamp": 1603203062208,
     "user_tz": -330,
     "elapsed": 2945,
     "user": {
      "displayName": "Appstek Innovative Labs",
      "photoUrl": "",
      "userId": "04728396421173214517"
     }
    },
    "outputId": "a9e9fa21-f816-4b27-922e-7fe38c100b81",
    "colab": {
     "base_uri": "https://localhost:8080/",
     "height": 71
    },
    "pycharm": {
     "name": "#%%\n"
    }
   },
   "source": [
    "correct = 0.0\n",
    "total = 0.0\n",
    "for mini_batch in test_loader:\n",
    "    images, labels = mini_batch\n",
    "    \n",
    "    # You can try with and without using GPUs, by setting this variable before the loop\n",
    "    if use_gpu:\n",
    "        images = images.cuda()\n",
    "        labels = labels.cuda()\n",
    "        \n",
    "    images = Variable(images)\n",
    "    \n",
    "    # Doing the Forward pass\n",
    "    result = lenet(images)\n",
    "    \n",
    "    # Coverting the predictions to probabilities, by applying the softmax function\n",
    "    result = F.softmax(result)\n",
    " \n",
    "    # Finding the prediction with the largest probability\n",
    "    _,pred = torch.max(result.data,1)\n",
    "    \n",
    "    total += labels.size(0)\n",
    "    # correct is incremented by the numer of prediction which are correct (equal to the ground truth labels)\n",
    "    correct += (pred == labels).sum()\n",
    "    \n",
    "print(\"Accuracy of Test Data: {0:.2f}%\".format(correct/total *100))"
   ],
   "execution_count": 9,
   "outputs": [
    {
     "name": "stderr",
     "output_type": "stream",
     "text": [
      "C:\\Users\\tenu0.LABRINTH\\AppData\\Local\\Temp\\ipykernel_6316\\2680401752.py:17: UserWarning: Implicit dimension choice for softmax has been deprecated. Change the call to include dim=X as an argument.\n",
      "  result = F.softmax(result)\n"
     ]
    },
    {
     "name": "stdout",
     "output_type": "stream",
     "text": [
      "Accuracy of Test Data: 97.71%\n"
     ]
    }
   ]
  }
 ]
}