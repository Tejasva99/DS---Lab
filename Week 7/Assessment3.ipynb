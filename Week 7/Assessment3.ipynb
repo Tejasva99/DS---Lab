{
 "nbformat": 4,
 "nbformat_minor": 0,
 "metadata": {
  "kernelspec": {
   "display_name": "Python 3",
   "language": "python",
   "name": "python3"
  },
  "language_info": {
   "codemirror_mode": {
    "name": "ipython",
    "version": 3
   },
   "file_extension": ".py",
   "mimetype": "text/x-python",
   "name": "python",
   "nbconvert_exporter": "python",
   "pygments_lexer": "ipython3",
   "version": "3.7.4"
  },
  "colab": {
   "provenance": []
  }
 },
 "cells": [
  {
   "cell_type": "markdown",
   "metadata": {
    "id": "ZyUd9crEWvrB",
    "pycharm": {
     "name": "#%% md\n"
    }
   },
   "source": [
    "**RNN**"
   ]
  },
  {
   "cell_type": "code",
   "execution_count": 8,
   "outputs": [],
   "source": [
    "## Importing required packages\n",
    "import unidecode\n",
    "import string\n",
    "import random\n",
    "import re"
   ],
   "metadata": {
    "collapsed": false,
    "pycharm": {
     "name": "#%%\n"
    }
   }
  },
  {
   "cell_type": "code",
   "execution_count": 11,
   "outputs": [
    {
     "name": "stdout",
     "output_type": "stream",
     "text": [
      "file_len = 1115393\n"
     ]
    }
   ],
   "source": [
    "all_characters = string.printable\n",
    "## code to find length of all_characters and storing the value in n_characters\n",
    "n_characters = len(all_characters)\n",
    "## code to convert unicode characters into plain ASCII.\n",
    "file = unidecode.unidecode(open(r'C:\\Users\\tenu0.LABRINTH\\DataspellProjects\\DS-Lab\\Week 7\\Data\\shakespeare.txt').read())\n",
    "## code to find length of the file\n",
    "file_len = len(file)\n",
    "## printing the length of the file\n",
    "print('file_len =', file_len)"
   ],
   "metadata": {
    "collapsed": false,
    "pycharm": {
     "name": "#%%\n"
    }
   }
  },
  {
   "cell_type": "code",
   "metadata": {
    "scrolled": true,
    "id": "qEP-e_aEWqVX",
    "outputId": "f15a28b6-c583-4a3a-d1fe-5775f6b8ba83",
    "pycharm": {
     "name": "#%%\n"
    }
   },
   "source": [
    "file[:1000]"
   ],
   "execution_count": 12,
   "outputs": [
    {
     "data": {
      "text/plain": "\"First Citizen:\\nBefore we proceed any further, hear me speak.\\n\\nAll:\\nSpeak, speak.\\n\\nFirst Citizen:\\nYou are all resolved rather to die than to famish?\\n\\nAll:\\nResolved. resolved.\\n\\nFirst Citizen:\\nFirst, you know Caius Marcius is chief enemy to the people.\\n\\nAll:\\nWe know't, we know't.\\n\\nFirst Citizen:\\nLet us kill him, and we'll have corn at our own price.\\nIs't a verdict?\\n\\nAll:\\nNo more talking on't; let it be done: away, away!\\n\\nSecond Citizen:\\nOne word, good citizens.\\n\\nFirst Citizen:\\nWe are accounted poor citizens, the patricians good.\\nWhat authority surfeits on would relieve us: if they\\nwould yield us but the superfluity, while it were\\nwholesome, we might guess they relieved us humanely;\\nbut they think we are too dear: the leanness that\\nafflicts us, the object of our misery, is as an\\ninventory to particularise their abundance; our\\nsufferance is a gain to them Let us revenge this with\\nour pikes, ere we become rakes: for the gods know I\\nspeak this in hunger for bread, not in thirst for revenge.\\n\\n\""
     },
     "execution_count": 12,
     "metadata": {},
     "output_type": "execute_result"
    }
   ]
  },
  {
   "cell_type": "code",
   "metadata": {
    "id": "O0tSbQCJWqVb",
    "outputId": "e10cd1d6-7ca2-4ae4-d2bb-f0f9e8b77bf0",
    "pycharm": {
     "name": "#%%\n"
    }
   },
   "source": [
    "## Initializing the length of chunk\n",
    "chunk_len = 200\n",
    "## Function to split the string into chunks\n",
    "def random_chunk():\n",
    "    ## Initializing the starting index value of the big string \n",
    "    start_index = random.randint(0, file_len - chunk_len)\n",
    "    ## Initializing the ending index of the string \n",
    "    end_index = start_index + chunk_len + 1\n",
    "    ## returning the chunk\n",
    "    return file[start_index:end_index]\n",
    "\n",
    "print(random_chunk())"
   ],
   "execution_count": 13,
   "outputs": [
    {
     "name": "stdout",
     "output_type": "stream",
     "text": [
      "ch Capulet:\n",
      "As mine on hers, so hers is set on mine;\n",
      "And all combined, save what thou must combine\n",
      "By holy marriage: when and where and how\n",
      "We met, we woo'd and made exchange of vow,\n",
      "I'll tell thee as \n"
     ]
    }
   ]
  },
  {
   "cell_type": "code",
   "metadata": {
    "id": "5en8K907WqVf",
    "pycharm": {
     "name": "#%%\n"
    }
   },
   "source": [
    "###importing required packages\n",
    "import torch\n",
    "import torch.nn as nn\n",
    "from torch.autograd import Variable\n",
    "\n",
    "### Creating recurrent neural network\n",
    "class RNN(nn.Module):\n",
    "    \n",
    "    def __init__(self, input_size, hidden_size, output_size, n_layers=1):\n",
    "        super(RNN, self).__init__()\n",
    "        self.input_size = input_size\n",
    "        self.hidden_size = hidden_size\n",
    "        self.output_size = output_size\n",
    "        self.n_layers = n_layers\n",
    "        self.encoder = nn.Embedding(input_size, hidden_size)\n",
    "        self.gru = nn.GRU(hidden_size, hidden_size, n_layers)\n",
    "        self.decoder = nn.Linear(hidden_size, output_size)\n",
    "    \n",
    "    def forward(self, input, hidden):\n",
    "        input = self.encoder(input.view(1, -1))\n",
    "        output, hidden = self.gru(input.view(1, 1, -1), hidden)\n",
    "        output = self.decoder(output.view(1, -1))\n",
    "        return output, hidden\n",
    "\n",
    "    def init_hidden(self):\n",
    "        return Variable(torch.zeros(self.n_layers, 1, self.hidden_size))"
   ],
   "execution_count": 14,
   "outputs": []
  },
  {
   "cell_type": "code",
   "metadata": {
    "id": "zrr6wRctWqVj",
    "outputId": "753ffe90-2a09-4b11-eb30-69e2893377e0",
    "pycharm": {
     "name": "#%%\n"
    }
   },
   "source": [
    "# Turn string into list of longs\n",
    "def char_tensor(string):\n",
    "    ## tensor is a array\n",
    "    tensor = torch.zeros(len(string)).long()\n",
    "    for c in range(len(string)):\n",
    "        tensor[c] = all_characters.index(string[c])\n",
    "    return Variable(tensor)\n",
    "\n",
    "print(char_tensor('abcDEF'))"
   ],
   "execution_count": 15,
   "outputs": [
    {
     "name": "stdout",
     "output_type": "stream",
     "text": [
      "tensor([10, 11, 12, 39, 40, 41])\n"
     ]
    }
   ]
  },
  {
   "cell_type": "code",
   "metadata": {
    "id": "aKgQNHuGWqVn",
    "pycharm": {
     "name": "#%%\n"
    }
   },
   "source": [
    "def random_training_set():    \n",
    "    chunk = random_chunk()\n",
    "    inp = char_tensor(chunk[:-1])\n",
    "    target = char_tensor(chunk[1:])\n",
    "    return inp, target"
   ],
   "execution_count": 16,
   "outputs": []
  },
  {
   "cell_type": "code",
   "metadata": {
    "id": "qnGOmNP7WqVr",
    "pycharm": {
     "name": "#%%\n"
    }
   },
   "source": [
    "def evaluate(prime_str='A', predict_len=100, temperature=0.8):\n",
    "    hidden = decoder.init_hidden()\n",
    "    prime_input = char_tensor(prime_str)\n",
    "    predicted = prime_str\n",
    "\n",
    "    # Use priming string to \"build up\" hidden state\n",
    "    for p in range(len(prime_str) - 1):\n",
    "        _, hidden = decoder(prime_input[p], hidden)\n",
    "    inp = prime_input[-1]\n",
    "    \n",
    "    for p in range(predict_len):\n",
    "        output, hidden = decoder(inp, hidden)\n",
    "        \n",
    "        # Sample from the network as a multinomial distribution\n",
    "        output_dist = output.data.view(-1).div(temperature).exp()\n",
    "        top_i = torch.multinomial(output_dist, 1)[0]\n",
    "        \n",
    "        # Add predicted character to string and use as next input\n",
    "        predicted_char = all_characters[top_i]\n",
    "        predicted += predicted_char\n",
    "        inp = char_tensor(predicted_char)\n",
    "\n",
    "    return predicted"
   ],
   "execution_count": 17,
   "outputs": []
  },
  {
   "cell_type": "code",
   "metadata": {
    "id": "KB1WzcnKWqVv",
    "pycharm": {
     "name": "#%%\n"
    }
   },
   "source": [
    "## Importing required packages\n",
    "import time, math\n",
    "## function to print amount of time passed\n",
    "def time_since(since):\n",
    "    s = time.time() - since\n",
    "    m = math.floor(s / 60)\n",
    "    s -= m * 60\n",
    "    return '%dm %ds' % (m, s)"
   ],
   "execution_count": 18,
   "outputs": []
  },
  {
   "cell_type": "code",
   "metadata": {
    "id": "EBMneDXLWqVz",
    "pycharm": {
     "name": "#%%\n"
    }
   },
   "source": [
    "def train(inp, target):\n",
    "    hidden = decoder.init_hidden()\n",
    "    decoder.zero_grad()\n",
    "    loss = 0\n",
    "\n",
    "    for c in range(chunk_len):\n",
    "        output, hidden = decoder(inp[c], hidden)\n",
    "        loss += criterion(output, target[c].unsqueeze(0))\n",
    "\n",
    "    loss.backward()\n",
    "    decoder_optimizer.step()\n",
    "\n",
    "    return loss.data.item() / chunk_len"
   ],
   "execution_count": 19,
   "outputs": []
  },
  {
   "cell_type": "code",
   "metadata": {
    "id": "oVWks1jQWqV2",
    "outputId": "e3e18bf4-d87e-41e3-b743-69c2a3c8f234",
    "pycharm": {
     "name": "#%%\n"
    }
   },
   "source": [
    "n_epochs = 2000 #Number of epochs\n",
    "print_every = 50\n",
    "plot_every = 20\n",
    "hidden_size = 100\n",
    "n_layers = 1\n",
    "lr = 0.005\n",
    "\n",
    "decoder = RNN(n_characters, hidden_size, n_characters, n_layers)\n",
    "## Optimizer\n",
    "decoder_optimizer = torch.optim.Adam(decoder.parameters(), lr=lr)\n",
    "## Loss function\n",
    "criterion = nn.CrossEntropyLoss()\n",
    "\n",
    "start = time.time()\n",
    "all_losses = []\n",
    "loss_avg = 0\n",
    "\n",
    "#In this for loop for every 100th iteration we are printing the time taken, loss and the chunk.\n",
    "for epoch in range(1, n_epochs + 1):\n",
    "    loss = train(*random_training_set())       \n",
    "    loss_avg += loss\n",
    "\n",
    "    if epoch % print_every == 0:\n",
    "        print('[%s (%d %d%%) %.4f]' % (time_since(start), epoch, epoch / n_epochs * 100, loss))\n",
    "        print(evaluate('Wh', 100), '\\n')\n",
    "\n",
    "    if epoch % plot_every == 0:\n",
    "        all_losses.append(loss_avg / plot_every)\n",
    "        loss_avg = 0"
   ],
   "execution_count": 20,
   "outputs": [
    {
     "name": "stdout",
     "output_type": "stream",
     "text": [
      "[0m 12s (50 2%) 2.4705]\n",
      "Whes hou ssps indre reissllor pif to thad toy firs ar thandou hapant thin ousre the net cou mdat I yos \n",
      "\n",
      "[0m 23s (100 5%) 2.3035]\n",
      "Whertelce,\n",
      "Mor,\n",
      "Ae whout fordt courrs norg the I of hene keng foriin frar it at me, the pory be thery  \n",
      "\n",
      "[0m 34s (150 7%) 2.1479]\n",
      "Whe math her want sime for: weere, I hou mane wulf thee to the weer'd some your my the cithe so me you \n",
      "\n",
      "[0m 46s (200 10%) 2.2348]\n",
      "Whe you preastle as all nence I at have lalim a ane thich.\n",
      "\n",
      "QUELEALA:\n",
      "Mare sarin; a thy donse bealace; \n",
      "\n",
      "[0m 59s (250 12%) 2.3461]\n",
      "Whirse done hake there thim ther the ing ond have pes masses ongong.\n",
      "\n",
      "LUCO:\n",
      "O some weals ucour his wim \n",
      "\n",
      "[1m 10s (300 15%) 2.0282]\n",
      "Whall thee glidionss word?\n",
      "\n",
      "ISdird? I praring gonces on thou hon the wereblar! all you, make of apllar \n",
      "\n",
      "[1m 23s (350 17%) 1.9306]\n",
      "What wear'd ent and to tuangut Cive grat latel.\n",
      "What is of to in are the thy that pire grogent wande t \n",
      "\n",
      "[1m 37s (400 20%) 2.2028]\n",
      "Whang, Gul:\n",
      "Seall he hither.\n",
      "\n",
      "CKy Sorce:\n",
      "Thou trecing's monglals; pight thour that the thy of pratuaci \n",
      "\n",
      "[1m 47s (450 22%) 2.1622]\n",
      "Whournears and now we vicones nood sefers?\n",
      "\n",
      "MENTENENCE:\n",
      "Nor my hall port inest as suins plang shatumed \n",
      "\n",
      "[1m 58s (500 25%) 2.1532]\n",
      "Whingy.\n",
      "Bate lordese foreck, to your im not spot you thans, sheant and.\n",
      "\n",
      "LORTIO:\n",
      "Woliy sakes elice min \n",
      "\n",
      "[2m 11s (550 27%) 2.0387]\n",
      "Wher wis word to this the prigh?\n",
      "\n",
      "Firs the iy, the or this dost.\n",
      "\n",
      "QUEEN ELEV:\n",
      "A with to not saidst fro \n",
      "\n",
      "[2m 23s (600 30%) 2.0192]\n",
      "Whacen whnine and morky speath,\n",
      "Your howlhall what lants mappien to hothy her the the some the\n",
      "Id soou \n",
      "\n",
      "[2m 37s (650 32%) 1.9038]\n",
      "Where:\n",
      "Which he ware hits shal the he starath are he starrach the hain day and the expeds and all the  \n",
      "\n",
      "[2m 50s (700 35%) 2.0407]\n",
      "Whade son have youble thy dear of he shadioth your of the gives\n",
      "tur ver warn. A parthing Gay, by had s \n",
      "\n",
      "[3m 3s (750 37%) 2.1361]\n",
      "Whe maw Verad but have eake for by to thearter\n",
      "As as I pring love are a come\n",
      "Till, the plow, not by ar \n",
      "\n",
      "[3m 15s (800 40%) 2.1539]\n",
      "Whill broth be coloued the make I mack be heath.\n",
      "\n",
      "Sso it seem, as ercioust do the e harn tirs\n",
      "Whis tel \n",
      "\n",
      "[3m 28s (850 42%) 1.7979]\n",
      "Which I kind his prodges,\n",
      "The spee bity sire: not ingue theark it hild the ises.\n",
      "\n",
      "BRUCHIO:\n",
      "Prion our h \n",
      "\n",
      "[3m 41s (900 45%) 1.9294]\n",
      "Whered theat be fingine?\n",
      "\n",
      "BARD IV:\n",
      "What thou bost the here\n",
      "The know greast what his farters\n",
      "With hath  \n",
      "\n",
      "[3m 52s (950 47%) 1.7408]\n",
      "Whould thee stenst say. O IINCINTIO:\n",
      "My to ounting a deat its sollouse,\n",
      "I man maun to thour to chawn h \n",
      "\n",
      "[4m 4s (1000 50%) 1.8718]\n",
      "Whant good, wicle's grow sold at. ThaLINI Auinsesed party have at arttase utle ull have.\n",
      "\n",
      "FRYORK:\n",
      "Abof \n",
      "\n",
      "[4m 18s (1050 52%) 2.0144]\n",
      "When on much soll for are my misssell\n",
      "To be worgtaly tay, as belook.\n",
      "\n",
      "AN, de, Ropen:\n",
      "That bist on did  \n",
      "\n",
      "[4m 30s (1100 55%) 2.0931]\n",
      "Whent do old their and well.\n",
      "Whas elpelly the pese.\n",
      "\n",
      "DUKE OFE YORK:\n",
      "Ctidy genot him.\n",
      "\n",
      "LUCENIUS:\n",
      "Here d \n",
      "\n",
      "[4m 44s (1150 57%) 1.9185]\n",
      "Whow all bitine and thy not that the\n",
      "To redermies is lord for he Kan not, to thou now to more manes, t \n",
      "\n",
      "[5m 0s (1200 60%) 1.8454]\n",
      "Whe hand a master\n",
      "Unshad quode neetse this mine this aist messt I say, commine,\n",
      "For here, Offisoudened \n",
      "\n",
      "[5m 14s (1250 62%) 1.8290]\n",
      "Whorack, shall pary love is beasont,\n",
      "For thy lonved pire for off make murs'd:\n",
      "Iscle strantion, shalt p \n",
      "\n",
      "[5m 37s (1300 65%) 1.7568]\n",
      "Whopoor the ento partarmen,\n",
      "I nare the the loving be for brase id affer thee\n",
      "That uther the treen the  \n",
      "\n",
      "[5m 57s (1350 67%) 1.6735]\n",
      "Wher armorturness ofters:\n",
      "Thou would hope his will prevermiunt and you poor more.\n",
      "\n",
      "BRUTUS:\n",
      "My will I w \n",
      "\n",
      "[6m 20s (1400 70%) 2.0371]\n",
      "Whan art with the good head kins.\n",
      "\n",
      "PALLA:\n",
      "Make shall that gramence of a deerms in to sharge garesterce \n",
      "\n",
      "[6m 42s (1450 72%) 1.7935]\n",
      "What the befored your sher; not upeingro;\n",
      "Anded no yough both heind as belending.\n",
      "\n",
      "MARINGEL:\n",
      "Well quar \n",
      "\n",
      "[7m 2s (1500 75%) 1.8014]\n",
      "Who bit love bit you hand\n",
      "not feath words is and my turts.\n",
      "\n",
      "GREIRCHARD:\n",
      "And worble son make a pares he \n",
      "\n",
      "[7m 19s (1550 77%) 1.7784]\n",
      "Wher like anfedy.\n",
      "\n",
      "GRANIO:\n",
      "Saint our milent the state to, Me anver for yet faither the feak.\n",
      "\n",
      "KING ROR \n",
      "\n",
      "[7m 37s (1600 80%) 1.7694]\n",
      "Which ear.\n",
      "\n",
      "PAULINA:\n",
      "Wherce heme him, the ere, I what my such that that uprable be hand doorniold your \n",
      "\n",
      "[7m 49s (1650 82%) 1.8437]\n",
      "When parish,, my father wirny wind:\n",
      "I your hand sengering from therer they love.\n",
      "\n",
      "KING RICHARD III:\n",
      "St \n",
      "\n",
      "[8m 3s (1700 85%) 1.6151]\n",
      "When whot to the do of of hase,\n",
      "But the distrigate to your doechereriar, and and content,\n",
      "In my love f \n",
      "\n",
      "[8m 16s (1750 87%) 1.7553]\n",
      "Whable seal of renother!\n",
      "\n",
      "MENENES:\n",
      "I mine unle have with me of hast then war\n",
      "Your keeefering know the  \n",
      "\n",
      "[8m 30s (1800 90%) 1.5955]\n",
      "Where is upon\n",
      "I life he have I words: sir, that I Of what leve bes death the are and thou\n",
      "My daptale r \n",
      "\n",
      "[8m 44s (1850 92%) 1.3340]\n",
      "What father's not.\n",
      "\n",
      "KATINARIO:\n",
      "A, woth for parded world proul have case!\n",
      "\n",
      "MyABUS:\n",
      "Here for the forwer' \n",
      "\n",
      "[8m 58s (1900 95%) 1.6475]\n",
      "Whoons, strais tiress is stear treeth than wires that save his dishard;\n",
      "And at renes shach be sear as  \n",
      "\n",
      "[9m 14s (1950 97%) 1.9454]\n",
      "Whorchal the rest,\n",
      "And but the least.\n",
      "\n",
      "KING EDWARD IV:\n",
      "Sweet of have whuthin the this some is the even \n",
      "\n",
      "[9m 26s (2000 100%) 1.8986]\n",
      "What wild a pater'd and to of then come:\n",
      "Now dead, good first a king.\n",
      "\n",
      "GLOUCESTER:\n",
      "Servous the did bor \n",
      "\n"
     ]
    }
   ]
  },
  {
   "cell_type": "code",
   "metadata": {
    "id": "g3TmxgZfWqV6",
    "outputId": "e63602ce-e447-4f46-8832-73d6f6e54c98",
    "pycharm": {
     "name": "#%%\n"
    }
   },
   "source": [
    "import matplotlib.pyplot as plt\n",
    "import matplotlib.ticker as ticker\n",
    "%matplotlib inline\n",
    "\n",
    "plt.figure()\n",
    "plt.plot(all_losses)\n",
    "plt.xlabel(\"epoch\")\n",
    "plt.ylabel(\"loss\")"
   ],
   "execution_count": null,
   "outputs": [
    {
     "output_type": "execute_result",
     "data": {
      "text/plain": [
       "Text(0, 0.5, 'loss')"
      ]
     },
     "metadata": {
      "tags": []
     },
     "execution_count": 32
    },
    {
     "output_type": "display_data",
     "data": {
      "image/png": "[encoded data removed]",
      "text/plain": [
       "<Figure size 432x288 with 1 Axes>"
      ]
     },
     "metadata": {
      "tags": [],
      "needs_background": "light"
     }
    }
   ]
  },
  {
   "cell_type": "code",
   "metadata": {
    "id": "68q31ByOWqV-",
    "outputId": "1f294b2b-2bec-45c9-dd73-f5ee00bd5f80",
    "pycharm": {
     "name": "#%%\n"
    }
   },
   "source": [
    "print(evaluate('u', 200, temperature=0.8))"
   ],
   "execution_count": null,
   "outputs": [
    {
     "output_type": "stream",
     "text": [
      "ut is denones\n",
      "And cobelain death here the them let twomal.\n",
      "\n",
      "KING Marged onder was deartlans;\n",
      "I all fight have onemit supposel our thee band.\n",
      "\n",
      "DUCESTES:\n",
      "I hould will brie in the head of Shame\n",
      "And the be\n"
     ],
     "name": "stdout"
    }
   ]
  },
  {
   "cell_type": "code",
   "metadata": {
    "id": "LSnMZ3XlWqWD",
    "outputId": "9afd4a71-83dc-45dc-81f8-591d143b51d1",
    "pycharm": {
     "name": "#%%\n"
    }
   },
   "source": [
    "print(evaluate('how', 200, temperature=1.4))"
   ],
   "execution_count": null,
   "outputs": [
    {
     "output_type": "stream",
     "text": [
      "how tect;\n",
      "Gow, Ge lesiorent Kbided Coomow gnuittighemew,\n",
      "Hall have my hast,\n",
      "Be sumt noblost me bigh is not, foul cofuge.\n",
      "Pay, yout: me tajeting, with tr, tim\n",
      "Yeepen'ot brihre soorm of tonlen deeir,-\n",
      "Qner\n"
     ],
     "name": "stdout"
    }
   ]
  },
  {
   "cell_type": "code",
   "metadata": {
    "id": "cMHobAOeWqWG",
    "pycharm": {
     "name": "#%%\n"
    }
   },
   "source": [],
   "execution_count": null,
   "outputs": []
  }
 ]
}