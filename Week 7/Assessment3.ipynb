{
 "nbformat": 4,
 "nbformat_minor": 0,
 "metadata": {
  "kernelspec": {
   "display_name": "Python 3",
   "language": "python",
   "name": "python3"
  },
  "language_info": {
   "codemirror_mode": {
    "name": "ipython",
    "version": 3
   },
   "file_extension": ".py",
   "mimetype": "text/x-python",
   "name": "python",
   "nbconvert_exporter": "python",
   "pygments_lexer": "ipython3",
   "version": "3.7.4"
  },
  "colab": {
   "provenance": []
  }
 },
 "cells": [
  {
   "cell_type": "markdown",
   "metadata": {
    "id": "ZyUd9crEWvrB",
    "pycharm": {
     "name": "#%% md\n"
    }
   },
   "source": [
    "**RNN**"
   ]
  },
  {
   "cell_type": "code",
   "execution_count": 1,
   "outputs": [],
   "source": [
    "## Importing required packages\n",
    "import unidecode\n",
    "import string\n",
    "import random\n",
    "import re"
   ],
   "metadata": {
    "collapsed": false,
    "pycharm": {
     "name": "#%%\n"
    }
   }
  },
  {
   "cell_type": "code",
   "execution_count": 2,
   "outputs": [
    {
     "name": "stdout",
     "output_type": "stream",
     "text": [
      "file_len = 1115393\n"
     ]
    }
   ],
   "source": [
    "all_characters = string.printable\n",
    "## code to find length of all_characters and storing the value in n_characters\n",
    "n_characters = len(all_characters)\n",
    "## code to convert unicode characters into plain ASCII.\n",
    "file = unidecode.unidecode(open(r'C:\\Users\\tenu0.LABRINTH\\DataspellProjects\\DS-Lab\\Week 7\\Data\\shakespeare.txt').read())\n",
    "## code to find length of the file\n",
    "file_len = len(file)\n",
    "## printing the length of the file\n",
    "print('file_len =', file_len)"
   ],
   "metadata": {
    "collapsed": false,
    "pycharm": {
     "name": "#%%\n"
    }
   }
  },
  {
   "cell_type": "code",
   "metadata": {
    "scrolled": true,
    "id": "qEP-e_aEWqVX",
    "outputId": "f15a28b6-c583-4a3a-d1fe-5775f6b8ba83",
    "pycharm": {
     "name": "#%%\n"
    }
   },
   "source": [
    "file[:1000]"
   ],
   "execution_count": 3,
   "outputs": [
    {
     "data": {
      "text/plain": "\"First Citizen:\\nBefore we proceed any further, hear me speak.\\n\\nAll:\\nSpeak, speak.\\n\\nFirst Citizen:\\nYou are all resolved rather to die than to famish?\\n\\nAll:\\nResolved. resolved.\\n\\nFirst Citizen:\\nFirst, you know Caius Marcius is chief enemy to the people.\\n\\nAll:\\nWe know't, we know't.\\n\\nFirst Citizen:\\nLet us kill him, and we'll have corn at our own price.\\nIs't a verdict?\\n\\nAll:\\nNo more talking on't; let it be done: away, away!\\n\\nSecond Citizen:\\nOne word, good citizens.\\n\\nFirst Citizen:\\nWe are accounted poor citizens, the patricians good.\\nWhat authority surfeits on would relieve us: if they\\nwould yield us but the superfluity, while it were\\nwholesome, we might guess they relieved us humanely;\\nbut they think we are too dear: the leanness that\\nafflicts us, the object of our misery, is as an\\ninventory to particularise their abundance; our\\nsufferance is a gain to them Let us revenge this with\\nour pikes, ere we become rakes: for the gods know I\\nspeak this in hunger for bread, not in thirst for revenge.\\n\\n\""
     },
     "execution_count": 3,
     "metadata": {},
     "output_type": "execute_result"
    }
   ]
  },
  {
   "cell_type": "code",
   "metadata": {
    "id": "O0tSbQCJWqVb",
    "outputId": "e10cd1d6-7ca2-4ae4-d2bb-f0f9e8b77bf0",
    "pycharm": {
     "name": "#%%\n"
    }
   },
   "source": [
    "## Initializing the length of chunk\n",
    "chunk_len = 200\n",
    "## Function to split the string into chunks\n",
    "def random_chunk():\n",
    "    ## Initializing the starting index value of the big string \n",
    "    start_index = random.randint(0, file_len - chunk_len)\n",
    "    ## Initializing the ending index of the string \n",
    "    end_index = start_index + chunk_len + 1\n",
    "    ## returning the chunk\n",
    "    return file[start_index:end_index]\n",
    "\n",
    "print(random_chunk())"
   ],
   "execution_count": 4,
   "outputs": [
    {
     "name": "stdout",
     "output_type": "stream",
     "text": [
      "ng not itself none other can.\n",
      "\n",
      "DUKE OF YORK:\n",
      "Thou frantic woman, what dost thou make here?\n",
      "Shall thy old dugs once more a traitor rear?\n",
      "\n",
      "DUCHESS OF YORK:\n",
      "Sweet York, be patient. Hear me, gentle liege.\n",
      "\n"
     ]
    }
   ]
  },
  {
   "cell_type": "code",
   "metadata": {
    "id": "5en8K907WqVf",
    "pycharm": {
     "name": "#%%\n"
    }
   },
   "source": [
    "###importing required packages\n",
    "import torch\n",
    "import torch.nn as nn\n",
    "from torch.autograd import Variable\n",
    "\n",
    "### Creating recurrent neural network\n",
    "class RNN(nn.Module):\n",
    "    \n",
    "    def __init__(self, input_size, hidden_size, output_size, n_layers=1):\n",
    "        super(RNN, self).__init__()\n",
    "        self.input_size = input_size\n",
    "        self.hidden_size = hidden_size\n",
    "        self.output_size = output_size\n",
    "        self.n_layers = n_layers\n",
    "        self.encoder = nn.Embedding(input_size, hidden_size)\n",
    "        self.gru = nn.GRU(hidden_size, hidden_size, n_layers)\n",
    "        self.decoder = nn.Linear(hidden_size, output_size)\n",
    "    \n",
    "    def forward(self, input, hidden):\n",
    "        input = self.encoder(input.view(1, -1))\n",
    "        output, hidden = self.gru(input.view(1, 1, -1), hidden)\n",
    "        output = self.decoder(output.view(1, -1))\n",
    "        return output, hidden\n",
    "\n",
    "    def init_hidden(self):\n",
    "        return Variable(torch.zeros(self.n_layers, 1, self.hidden_size))"
   ],
   "execution_count": 5,
   "outputs": []
  },
  {
   "cell_type": "code",
   "metadata": {
    "id": "zrr6wRctWqVj",
    "outputId": "753ffe90-2a09-4b11-eb30-69e2893377e0",
    "pycharm": {
     "name": "#%%\n"
    }
   },
   "source": [
    "# Turn string into list of longs\n",
    "def char_tensor(string):\n",
    "    ## tensor is a array\n",
    "    tensor = torch.zeros(len(string)).long()\n",
    "    for c in range(len(string)):\n",
    "        tensor[c] = all_characters.index(string[c])\n",
    "    return Variable(tensor)\n",
    "\n",
    "print(char_tensor('abcDEF'))"
   ],
   "execution_count": 6,
   "outputs": [
    {
     "name": "stdout",
     "output_type": "stream",
     "text": [
      "tensor([10, 11, 12, 39, 40, 41])\n"
     ]
    }
   ]
  },
  {
   "cell_type": "code",
   "metadata": {
    "id": "aKgQNHuGWqVn",
    "pycharm": {
     "name": "#%%\n"
    }
   },
   "source": [
    "def random_training_set():    \n",
    "    chunk = random_chunk()\n",
    "    inp = char_tensor(chunk[:-1])\n",
    "    target = char_tensor(chunk[1:])\n",
    "    return inp, target"
   ],
   "execution_count": 7,
   "outputs": []
  },
  {
   "cell_type": "code",
   "metadata": {
    "id": "qnGOmNP7WqVr",
    "pycharm": {
     "name": "#%%\n"
    }
   },
   "source": [
    "def evaluate(prime_str='A', predict_len=100, temperature=0.8):\n",
    "    hidden = decoder.init_hidden()\n",
    "    prime_input = char_tensor(prime_str)\n",
    "    predicted = prime_str\n",
    "\n",
    "    # Use priming string to \"build up\" hidden state\n",
    "    for p in range(len(prime_str) - 1):\n",
    "        _, hidden = decoder(prime_input[p], hidden)\n",
    "    inp = prime_input[-1]\n",
    "    \n",
    "    for p in range(predict_len):\n",
    "        output, hidden = decoder(inp, hidden)\n",
    "        \n",
    "        # Sample from the network as a multinomial distribution\n",
    "        output_dist = output.data.view(-1).div(temperature).exp()\n",
    "        top_i = torch.multinomial(output_dist, 1)[0]\n",
    "        \n",
    "        # Add predicted character to string and use as next input\n",
    "        predicted_char = all_characters[top_i]\n",
    "        predicted += predicted_char\n",
    "        inp = char_tensor(predicted_char)\n",
    "\n",
    "    return predicted"
   ],
   "execution_count": 8,
   "outputs": []
  },
  {
   "cell_type": "code",
   "metadata": {
    "id": "KB1WzcnKWqVv",
    "pycharm": {
     "name": "#%%\n"
    }
   },
   "source": [
    "## Importing required packages\n",
    "import time, math\n",
    "## function to print amount of time passed\n",
    "def time_since(since):\n",
    "    s = time.time() - since\n",
    "    m = math.floor(s / 60)\n",
    "    s -= m * 60\n",
    "    return '%dm %ds' % (m, s)"
   ],
   "execution_count": 9,
   "outputs": []
  },
  {
   "cell_type": "code",
   "metadata": {
    "id": "EBMneDXLWqVz",
    "pycharm": {
     "name": "#%%\n"
    }
   },
   "source": [
    "def train(inp, target):\n",
    "    hidden = decoder.init_hidden()\n",
    "    decoder.zero_grad()\n",
    "    loss = 0\n",
    "\n",
    "    for c in range(chunk_len):\n",
    "        output, hidden = decoder(inp[c], hidden)\n",
    "        loss += criterion(output, target[c].unsqueeze(0))\n",
    "\n",
    "    loss.backward()\n",
    "    decoder_optimizer.step()\n",
    "\n",
    "    return loss.data.item() / chunk_len"
   ],
   "execution_count": 10,
   "outputs": []
  },
  {
   "cell_type": "code",
   "metadata": {
    "id": "oVWks1jQWqV2",
    "outputId": "e3e18bf4-d87e-41e3-b743-69c2a3c8f234",
    "pycharm": {
     "name": "#%%\n"
    }
   },
   "source": [
    "n_epochs = 2000 #Number of epochs\n",
    "print_every = 50\n",
    "plot_every = 20\n",
    "hidden_size = 100\n",
    "n_layers = 1\n",
    "lr = 0.005\n",
    "\n",
    "decoder = RNN(n_characters, hidden_size, n_characters, n_layers)\n",
    "## Optimizer\n",
    "decoder_optimizer = torch.optim.Adam(decoder.parameters(), lr=lr)\n",
    "## Loss function\n",
    "criterion = nn.CrossEntropyLoss()\n",
    "\n",
    "start = time.time()\n",
    "all_losses = []\n",
    "loss_avg = 0\n",
    "\n",
    "#In this for loop for every 100th iteration we are printing the time taken, loss and the chunk.\n",
    "for epoch in range(1, n_epochs + 1):\n",
    "    loss = train(*random_training_set())       \n",
    "    loss_avg += loss\n",
    "\n",
    "    if epoch % print_every == 0:\n",
    "        print('[%s (%d %d%%) %.4f]' % (time_since(start), epoch, epoch / n_epochs * 100, loss))\n",
    "        print(evaluate('Wh', 100), '\\n')\n",
    "\n",
    "    if epoch % plot_every == 0:\n",
    "        all_losses.append(loss_avg / plot_every)\n",
    "        loss_avg = 0"
   ],
   "execution_count": 11,
   "outputs": [
    {
     "name": "stdout",
     "output_type": "stream",
     "text": [
      "[0m 12s (50 2%) 2.5800]\n",
      "Whet and the the ki fanr dotere ucent.\n",
      "\n",
      "\n",
      "A,3to whur ane dout de tho the we re fou gowin, Iy bou we whe \n",
      "\n",
      "[0m 22s (100 5%) 2.2805]\n",
      "Whac-h:\n",
      "Somsore,\n",
      "Meit ont life furpaled whe aitt irve thind pomaind thant dims dow aind I all bon boun \n",
      "\n",
      "[0m 31s (150 7%) 2.3082]\n",
      "Whe blery, therin,\n",
      "Nay hee?\n",
      "\n",
      "KLOE wantet gor there\n",
      "The the.\n",
      "So to by to silliggmuris thereme.\n",
      "And mall \n",
      "\n",
      "[0m 43s (200 10%) 2.0512]\n",
      "Why lor forrck sond,\n",
      "Der, for tighe your fore hor my tee preafe, waren he saye than alan othis shother \n",
      "\n",
      "[0m 51s (250 12%) 2.1281]\n",
      "Why ivef my to sol't rif, to with the my in deanty's shent ugest and reed goarng!\n",
      "\n",
      "CORONFIO:\n",
      "Go he'd,  \n",
      "\n",
      "[1m 2s (300 15%) 2.0629]\n",
      "Whe hild frow dor pead tand\n",
      "But mathit lont\n",
      "I hes mave not the the not evinse.\n",
      "Yawh and the all whe\n",
      "er \n",
      "\n",
      "[1m 12s (350 17%) 2.0635]\n",
      "Whs, I chaf wemich a speand so ar will no bexwill vamurre with sou shouny, cration that I and pilt I w \n",
      "\n",
      "[1m 22s (400 20%) 2.2379]\n",
      "What will reput that letes pous.\n",
      "If a wire him pure the what a now thy thour why the a marmentring I m \n",
      "\n",
      "[1m 32s (450 22%) 1.7425]\n",
      "What my spilt dou his sun: my wade cossen thou thaad prilt heros th ast havo lover, is twut I gre ros  \n",
      "\n",
      "[1m 42s (500 25%) 1.8339]\n",
      "What lind day, what\n",
      "That lers and all'd the farraw ards pleneger's depliegnged and his not my died con \n",
      "\n",
      "[1m 53s (550 27%) 1.7005]\n",
      "Wh son edid for fart is idit, as to firthers'\n",
      "Hath pearthances your surt, leace st as\n",
      "thou has for mer \n",
      "\n",
      "[2m 3s (600 30%) 1.9346]\n",
      "Whan sean the mose.\n",
      "\n",
      "Sepen am I Ears.\n",
      "\n",
      "SiES:\n",
      "That the criver in the good so are the mine wor-anturupes \n",
      "\n",
      "[2m 12s (650 32%) 1.7567]\n",
      "Wh to faratere of fis leat and whoet:\n",
      "Shat here be here frall ontere not so him; and where gather.\n",
      "\n",
      "PR \n",
      "\n",
      "[2m 22s (700 35%) 1.7839]\n",
      "Why shear ave with kinther he well.\n",
      "\n",
      "STUCIO:\n",
      "In he stret is thee bler your buther,\n",
      "Hath to shellweall, \n",
      "\n",
      "[2m 32s (750 37%) 2.1795]\n",
      "Wher thou serse; I mought.\n",
      "\n",
      "Get; are and much head his last.\n",
      "\n",
      "GRUCHIONTIO:\n",
      "How shoughed on ainsir.\n",
      "\n",
      "HA \n",
      "\n",
      "[2m 43s (800 40%) 1.8531]\n",
      "Whs I cown, And with is, arang fore,\n",
      "That wellf, Hengst wholdis plarchiom,--\n",
      "\n",
      "HENES:\n",
      "But sir, wnothers \n",
      "\n",
      "[2m 53s (850 42%) 1.9919]\n",
      "Wher conepber, courch our hiter, good thear?\n",
      "\n",
      "GISTIO:\n",
      "\n",
      "DiULENT:\n",
      "My say in shore marings the brise the  \n",
      "\n",
      "[3m 2s (900 45%) 1.8551]\n",
      "Whill do my made time of steat,\n",
      "Thee mefore is qurame no had pare ise.\n",
      "\n",
      "ILAUT:\n",
      "In the kengused: would  \n",
      "\n",
      "[3m 13s (950 47%) 1.8760]\n",
      "Why pulds is mastal fead all speat wrise.\n",
      "\n",
      "QUEEN ELIZARD OF KING RICHARD IIIIIII:\n",
      "Ighdiester by wenty  \n",
      "\n",
      "[3m 25s (1000 50%) 1.9737]\n",
      "Whime, and him, braid winder, lay, am happruusate,\n",
      "And a whinks will be prome,\n",
      "For compurse poth the b \n",
      "\n",
      "[3m 36s (1050 52%) 2.3455]\n",
      "Whal to thinted\n",
      "The beling shing not hour followlents,\n",
      "So swor all:\n",
      "Gnow may truland seath hathe,\n",
      "Whim \n",
      "\n",
      "[3m 47s (1100 55%) 1.7405]\n",
      "Why, thim me, Wallow cure fame of leak;\n",
      "Pjother ange will beey me in be and brother brother.\n",
      "\n",
      "GLOUCEST \n",
      "\n",
      "[3m 56s (1150 57%) 1.8839]\n",
      "Whobeat ford thee she you, more to the ender to there\n",
      "We loo-\n",
      "wheart my may fere friese of for for his \n",
      "\n",
      "[4m 5s (1200 60%) 1.8341]\n",
      "Where sit suncy, ell as this to the Ktate\n",
      "Who mak it a preaptyhous in with home.\n",
      "\n",
      "CAPISKESTARA:\n",
      "Whe is \n",
      "\n",
      "[4m 14s (1250 62%) 1.6593]\n",
      "Why heath, what wises a have I so charce, shall clatiort\n",
      "He he do was gover sir?\n",
      "\n",
      "LUCENEN ORD:\n",
      "Why, I  \n",
      "\n",
      "[4m 24s (1300 65%) 1.9641]\n",
      "Wham the righ'd it brabes dead doy:\n",
      "Here thou not cope him ponle come you wilt me time.\n",
      "\n",
      "ETRUCHHIUS:\n",
      "A \n",
      "\n",
      "[4m 34s (1350 67%) 1.8003]\n",
      "Wherefor he a thoung not I\n",
      "Which thou a givey of thack'd for the wornila,\n",
      "What him a grantagas forth p \n",
      "\n",
      "[4m 42s (1400 70%) 1.8136]\n",
      "When their wringna\n",
      "no her not them in there my brothy, cundoss ouh is.\n",
      "\n",
      "Of rome borton in brown.\n",
      "\n",
      "SICA \n",
      "\n",
      "[4m 51s (1450 72%) 1.6719]\n",
      "Whine man furine my first, If thiny Ciffors,\n",
      "Fith mont strut of those this thy many Ras shour not dear \n",
      "\n",
      "[5m 0s (1500 75%) 1.6267]\n",
      "Whish not mate an as clenses, will bis\n",
      "as ssis the speater with wan as she the deats that\n",
      "not mided in \n",
      "\n",
      "[5m 9s (1550 77%) 1.5392]\n",
      "Whing wimes\n",
      "The father menather were,\n",
      "He'll susick me second, wore, and aganing come-hice is\n",
      "Lord is a \n",
      "\n",
      "[5m 19s (1600 80%) 1.8483]\n",
      "Where your frieng:\n",
      "But world and! the seet now the was he am have thame.\n",
      "\n",
      "Frorm I amer Pear'd whent th \n",
      "\n",
      "[5m 26s (1650 82%) 1.8581]\n",
      "Where comes me shall the oness\n",
      "As aNd socens, by thin susters, and sound the hare home.\n",
      "\n",
      "TRANCE:\n",
      "His p \n",
      "\n",
      "[5m 36s (1700 85%) 1.4844]\n",
      "What marding signion,\n",
      "Then I all to pation, and what infor this did the stilfeman:\n",
      "Before the king and \n",
      "\n",
      "[5m 43s (1750 87%) 1.6127]\n",
      "Wheges I'll hath at faith hered to good from do silf more\n",
      "And pation hid say hy deet this vaurlesing f \n",
      "\n",
      "[5m 53s (1800 90%) 1.8474]\n",
      "Why that he life; your us there that shuble matuling:\n",
      "She spen the is in a trace deyding in the carmen \n",
      "\n",
      "[6m 2s (1850 92%) 1.6368]\n",
      "Whuingued dider thou word whis condy come my\n",
      "send well but seet brot allight and do signg will proke,\n",
      " \n",
      "\n",
      "[6m 10s (1900 95%) 1.6341]\n",
      "Why pitiet fale?\n",
      "\n",
      "LAURE VINCEL:\n",
      "Henrives the my sure the loset have clust,\n",
      "What will Edour ais hath re \n",
      "\n",
      "[6m 20s (1950 97%) 1.8650]\n",
      "Where myseen supponant:\n",
      "A will love, for hath how him hill forthere of him dee,\n",
      "Unsure, for shold you, \n",
      "\n",
      "[6m 28s (2000 100%) 1.6971]\n",
      "Wh\n",
      "Ay, shave love, and like you.\n",
      "\n",
      "LUCENTIO:\n",
      "I fear for aon from in I lood\n",
      "And hear upine, the enounk o \n",
      "\n"
     ]
    }
   ]
  },
  {
   "cell_type": "code",
   "metadata": {
    "id": "g3TmxgZfWqV6",
    "outputId": "e63602ce-e447-4f46-8832-73d6f6e54c98",
    "pycharm": {
     "name": "#%%\n"
    }
   },
   "source": [
    "import matplotlib.pyplot as plt\n",
    "import matplotlib.ticker as ticker\n",
    "%matplotlib inline\n",
    "\n",
    "plt.figure()\n",
    "plt.plot(all_losses)\n",
    "plt.xlabel(\"epoch\")\n",
    "plt.ylabel(\"loss\")"
   ],
   "execution_count": 12,
   "outputs": [
    {
     "data": {
      "text/plain": "Text(0, 0.5, 'loss')"
     },
     "execution_count": 12,
     "metadata": {},
     "output_type": "execute_result"
    },
    {
     "data": {
      "text/plain": "<Figure size 432x288 with 1 Axes>",
      "image/png": "[encoded data removed]"
     },
     "metadata": {
      "needs_background": "light"
     },
     "output_type": "display_data"
    }
   ]
  },
  {
   "cell_type": "code",
   "metadata": {
    "id": "68q31ByOWqV-",
    "outputId": "1f294b2b-2bec-45c9-dd73-f5ee00bd5f80",
    "pycharm": {
     "name": "#%%\n"
    }
   },
   "source": [
    "print(evaluate('u', 200, temperature=0.8))"
   ],
   "execution_count": 13,
   "outputs": [
    {
     "name": "stdout",
     "output_type": "stream",
     "text": [
      "ure your thy part;\n",
      "The aming duke son on be or show untill geet I what\n",
      "Thou cuntion it ar my before you sordly recongin,\n",
      "Have ceell is wondou thou for yout condeate:\n",
      "The consunt streath your graive at,\n"
     ]
    }
   ]
  },
  {
   "cell_type": "code",
   "metadata": {
    "id": "LSnMZ3XlWqWD",
    "outputId": "9afd4a71-83dc-45dc-81f8-591d143b51d1",
    "pycharm": {
     "name": "#%%\n"
    }
   },
   "source": [
    "print(evaluate('how', 200, temperature=1.4))"
   ],
   "execution_count": 14,
   "outputs": [
    {
     "name": "stdout",
     "output_type": "stream",
     "text": [
      "howe feitine iti\n",
      "Sapeth mow's you to his got so.\n",
      "So suchions. Maith?\n",
      "\n",
      "Bond unsiniby, Joy,\n",
      "To you Geve tlackly' lecomn.\n",
      "\n",
      "POLNOYMPO:\n",
      "Bee! Mady daure, you, yalks;\n",
      "And Peccus Kake O tlund Goo,\n",
      "Whim oncaghare\n"
     ]
    }
   ]
  },
  {
   "cell_type": "code",
   "metadata": {
    "id": "cMHobAOeWqWG",
    "pycharm": {
     "name": "#%%\n"
    }
   },
   "source": [],
   "execution_count": 14,
   "outputs": []
  }
 ]
}