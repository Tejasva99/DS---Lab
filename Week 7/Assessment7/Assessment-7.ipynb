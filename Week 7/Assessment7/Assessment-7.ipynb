{
 "nbformat": 4,
 "nbformat_minor": 0,
 "metadata": {
  "kernelspec": {
   "display_name": "Python 3",
   "language": "python",
   "name": "python3"
  },
  "language_info": {
   "codemirror_mode": {
    "name": "ipython",
    "version": 3
   },
   "file_extension": ".py",
   "mimetype": "text/x-python",
   "name": "python",
   "nbconvert_exporter": "python",
   "pygments_lexer": "ipython3",
   "version": "3.7.4"
  },
  "colab": {
   "provenance": [],
   "collapsed_sections": []
  },
  "widgets": {
   "application/vnd.jupyter.widget-state+json": {
    "105b68669e33497fbc19e5e501ca3cdd": {
     "model_module": "@jupyter-widgets/controls",
     "model_name": "HBoxModel",
     "state": {
      "_view_name": "HBoxView",
      "_dom_classes": [],
      "_model_name": "HBoxModel",
      "_view_module": "@jupyter-widgets/controls",
      "_model_module_version": "1.5.0",
      "_view_count": null,
      "_view_module_version": "1.5.0",
      "box_style": "",
      "layout": "IPY_MODEL_f3d66b33b2d94a7cb90aca298d97f446",
      "_model_module": "@jupyter-widgets/controls",
      "children": [
       "IPY_MODEL_1876e163cb1f4d73ba3f1e39fd1f508d",
       "IPY_MODEL_656ea2ddbb0b45109b702a7f8bcf7b28"
      ]
     },
     "model_module_version": "1.5.0"
    },
    "f3d66b33b2d94a7cb90aca298d97f446": {
     "model_module": "@jupyter-widgets/base",
     "model_name": "LayoutModel",
     "state": {
      "_view_name": "LayoutView",
      "grid_template_rows": null,
      "right": null,
      "justify_content": null,
      "_view_module": "@jupyter-widgets/base",
      "overflow": null,
      "_model_module_version": "1.2.0",
      "_view_count": null,
      "flex_flow": null,
      "width": null,
      "min_width": null,
      "border": null,
      "align_items": null,
      "bottom": null,
      "_model_module": "@jupyter-widgets/base",
      "top": null,
      "grid_column": null,
      "overflow_y": null,
      "overflow_x": null,
      "grid_auto_flow": null,
      "grid_area": null,
      "grid_template_columns": null,
      "flex": null,
      "_model_name": "LayoutModel",
      "justify_items": null,
      "grid_row": null,
      "max_height": null,
      "align_content": null,
      "visibility": null,
      "align_self": null,
      "height": null,
      "min_height": null,
      "padding": null,
      "grid_auto_rows": null,
      "grid_gap": null,
      "max_width": null,
      "order": null,
      "_view_module_version": "1.2.0",
      "grid_template_areas": null,
      "object_position": null,
      "object_fit": null,
      "grid_auto_columns": null,
      "margin": null,
      "display": null,
      "left": null
     },
     "model_module_version": "1.2.0"
    },
    "1876e163cb1f4d73ba3f1e39fd1f508d": {
     "model_module": "@jupyter-widgets/controls",
     "model_name": "FloatProgressModel",
     "state": {
      "_view_name": "ProgressView",
      "style": "IPY_MODEL_471eac2fe32d4e818f892bc137ea6d4a",
      "_dom_classes": [],
      "description": "100%",
      "_model_name": "FloatProgressModel",
      "bar_style": "success",
      "max": 46827520,
      "_view_module": "@jupyter-widgets/controls",
      "_model_module_version": "1.5.0",
      "value": 46827520,
      "_view_count": null,
      "_view_module_version": "1.5.0",
      "orientation": "horizontal",
      "min": 0,
      "description_tooltip": null,
      "_model_module": "@jupyter-widgets/controls",
      "layout": "IPY_MODEL_472fb13f8e2444c7b7c3e5f7854608cc"
     },
     "model_module_version": "1.5.0"
    },
    "656ea2ddbb0b45109b702a7f8bcf7b28": {
     "model_module": "@jupyter-widgets/controls",
     "model_name": "HTMLModel",
     "state": {
      "_view_name": "HTMLView",
      "style": "IPY_MODEL_954d42418dc84fc08139afbe316f178a",
      "_dom_classes": [],
      "description": "",
      "_model_name": "HTMLModel",
      "placeholder": "​",
      "_view_module": "@jupyter-widgets/controls",
      "_model_module_version": "1.5.0",
      "value": " 44.7M/44.7M [00:00&lt;00:00, 120MB/s]",
      "_view_count": null,
      "_view_module_version": "1.5.0",
      "description_tooltip": null,
      "_model_module": "@jupyter-widgets/controls",
      "layout": "IPY_MODEL_63ec500f4c8643dfbbdb70162e765b46"
     },
     "model_module_version": "1.5.0"
    },
    "471eac2fe32d4e818f892bc137ea6d4a": {
     "model_module": "@jupyter-widgets/controls",
     "model_name": "ProgressStyleModel",
     "state": {
      "_view_name": "StyleView",
      "_model_name": "ProgressStyleModel",
      "description_width": "initial",
      "_view_module": "@jupyter-widgets/base",
      "_model_module_version": "1.5.0",
      "_view_count": null,
      "_view_module_version": "1.2.0",
      "bar_color": null,
      "_model_module": "@jupyter-widgets/controls"
     },
     "model_module_version": "1.5.0"
    },
    "472fb13f8e2444c7b7c3e5f7854608cc": {
     "model_module": "@jupyter-widgets/base",
     "model_name": "LayoutModel",
     "state": {
      "_view_name": "LayoutView",
      "grid_template_rows": null,
      "right": null,
      "justify_content": null,
      "_view_module": "@jupyter-widgets/base",
      "overflow": null,
      "_model_module_version": "1.2.0",
      "_view_count": null,
      "flex_flow": null,
      "width": null,
      "min_width": null,
      "border": null,
      "align_items": null,
      "bottom": null,
      "_model_module": "@jupyter-widgets/base",
      "top": null,
      "grid_column": null,
      "overflow_y": null,
      "overflow_x": null,
      "grid_auto_flow": null,
      "grid_area": null,
      "grid_template_columns": null,
      "flex": null,
      "_model_name": "LayoutModel",
      "justify_items": null,
      "grid_row": null,
      "max_height": null,
      "align_content": null,
      "visibility": null,
      "align_self": null,
      "height": null,
      "min_height": null,
      "padding": null,
      "grid_auto_rows": null,
      "grid_gap": null,
      "max_width": null,
      "order": null,
      "_view_module_version": "1.2.0",
      "grid_template_areas": null,
      "object_position": null,
      "object_fit": null,
      "grid_auto_columns": null,
      "margin": null,
      "display": null,
      "left": null
     },
     "model_module_version": "1.2.0"
    },
    "954d42418dc84fc08139afbe316f178a": {
     "model_module": "@jupyter-widgets/controls",
     "model_name": "DescriptionStyleModel",
     "state": {
      "_view_name": "StyleView",
      "_model_name": "DescriptionStyleModel",
      "description_width": "",
      "_view_module": "@jupyter-widgets/base",
      "_model_module_version": "1.5.0",
      "_view_count": null,
      "_view_module_version": "1.2.0",
      "_model_module": "@jupyter-widgets/controls"
     },
     "model_module_version": "1.5.0"
    },
    "63ec500f4c8643dfbbdb70162e765b46": {
     "model_module": "@jupyter-widgets/base",
     "model_name": "LayoutModel",
     "state": {
      "_view_name": "LayoutView",
      "grid_template_rows": null,
      "right": null,
      "justify_content": null,
      "_view_module": "@jupyter-widgets/base",
      "overflow": null,
      "_model_module_version": "1.2.0",
      "_view_count": null,
      "flex_flow": null,
      "width": null,
      "min_width": null,
      "border": null,
      "align_items": null,
      "bottom": null,
      "_model_module": "@jupyter-widgets/base",
      "top": null,
      "grid_column": null,
      "overflow_y": null,
      "overflow_x": null,
      "grid_auto_flow": null,
      "grid_area": null,
      "grid_template_columns": null,
      "flex": null,
      "_model_name": "LayoutModel",
      "justify_items": null,
      "grid_row": null,
      "max_height": null,
      "align_content": null,
      "visibility": null,
      "align_self": null,
      "height": null,
      "min_height": null,
      "padding": null,
      "grid_auto_rows": null,
      "grid_gap": null,
      "max_width": null,
      "order": null,
      "_view_module_version": "1.2.0",
      "grid_template_areas": null,
      "object_position": null,
      "object_fit": null,
      "grid_auto_columns": null,
      "margin": null,
      "display": null,
      "left": null
     },
     "model_module_version": "1.2.0"
    }
   }
  }
 },
 "cells": [
  {
   "cell_type": "code",
   "execution_count": 15,
   "outputs": [
    {
     "data": {
      "text/plain": "<matplotlib.pyplot._IonContext at 0x224ca0c89a0>"
     },
     "execution_count": 15,
     "metadata": {},
     "output_type": "execute_result"
    }
   ],
   "source": [
    "from __future__ import print_function, division\n",
    "### Importing pytorch packages\n",
    "import torch\n",
    "import torch.nn as nn\n",
    "import torch.optim as optim\n",
    "from torch.optim import lr_scheduler\n",
    "from torch.autograd import Variable\n",
    "import numpy as np\n",
    "import torchvision\n",
    "from torchvision import datasets, models, transforms\n",
    "import matplotlib.pyplot as plt\n",
    "import time\n",
    "import os\n",
    "import copy\n",
    "\n",
    "plt.ion()   # interactive mode"
   ],
   "metadata": {
    "collapsed": false,
    "pycharm": {
     "name": "#%%\n"
    }
   }
  },
  {
   "cell_type": "code",
   "execution_count": 16,
   "outputs": [],
   "source": [
    "data_transforms = {\n",
    "    'train': transforms.Compose([\n",
    "        transforms.RandomResizedCrop(224),\n",
    "        transforms.RandomHorizontalFlip(),\n",
    "        transforms.ToTensor(),\n",
    "        transforms.Normalize([0.485, 0.456, 0.406], [0.229, 0.224, 0.225])\n",
    "    ]),\n",
    "    'val': transforms.Compose([\n",
    "        transforms.Resize(256),\n",
    "        transforms.CenterCrop(224),\n",
    "        transforms.ToTensor(),\n",
    "        transforms.Normalize([0.485, 0.456, 0.406], [0.229, 0.224, 0.225])\n",
    "    ]),\n",
    "}\n",
    "\n",
    "### Directory\n",
    "data_dir = 'hymenoptera_data'\n",
    "## loading train and validation image datasetsconvnet\n",
    "image_datasets = {x: datasets.ImageFolder(os.path.join(data_dir, x),\n",
    "                                          data_transforms[x])\n",
    "                  for x in ['train', 'val']}\n",
    "dataloaders = {x: torch.utils.data.DataLoader(image_datasets[x], batch_size=4,\n",
    "                                             shuffle=True, num_workers=4)\n",
    "              for x in ['train', 'val']}\n",
    "dataset_sizes = {x: len(image_datasets[x]) for x in ['train', 'val']}\n",
    "class_names = image_datasets['train'].classes\n",
    "\n",
    "use_gpu = torch.cuda.is_available()"
   ],
   "metadata": {
    "collapsed": false,
    "pycharm": {
     "name": "#%%\n"
    }
   }
  },
  {
   "cell_type": "code",
   "execution_count": 17,
   "outputs": [
    {
     "data": {
      "text/plain": "<Figure size 432x288 with 1 Axes>",
      "image/png": "[encoded data removed]"
     },
     "metadata": {
      "needs_background": "light"
     },
     "output_type": "display_data"
    }
   ],
   "source": [
    "def imshow(inp, title=None):\n",
    "    \"\"\"Imshow for Tensor.\"\"\"\n",
    "    inp = inp.numpy().transpose((1, 2, 0))\n",
    "    mean = np.array([0.485, 0.456, 0.406])\n",
    "    std = np.array([0.229, 0.224, 0.225])\n",
    "    inp = std * inp + mean\n",
    "    inp = np.clip(inp, 0, 1)\n",
    "    plt.imshow(inp)\n",
    "    if title is not None:\n",
    "        plt.title(title)\n",
    "    plt.pause(0.001)  # pause a bit so that plots are updated\n",
    "\n",
    "\n",
    "# Get a batch of training data\n",
    "inputs, classes = next(iter(dataloaders['train']))\n",
    "\n",
    "# Make a grid from batch\n",
    "out = torchvision.utils.make_grid(inputs)\n",
    "\n",
    "imshow(out, title=[class_names[x] for x in classes])"
   ],
   "metadata": {
    "collapsed": false,
    "pycharm": {
     "name": "#%%\n"
    }
   }
  },
  {
   "cell_type": "code",
   "execution_count": 22,
   "outputs": [],
   "source": [
    "def train_model(model, criterion, optimizer, scheduler, num_epochs=5):\n",
    "    since = time.time()\n",
    "\n",
    "    best_model_wts = copy.deepcopy(model.state_dict())\n",
    "    best_acc = 0.0\n",
    "\n",
    "    for epoch in range(num_epochs):\n",
    "        print('Epoch {}/{}'.format(epoch, num_epochs - 1))\n",
    "        print('-' * 10)\n",
    "\n",
    "        # Each epoch has a training and validation phase\n",
    "        for phase in ['train', 'val']:\n",
    "            if phase == 'train':\n",
    "                scheduler.step()\n",
    "                model.train(True)  # Set model to training mode\n",
    "            else:\n",
    "                model.train(False)  # Set model to evaluate mode\n",
    "\n",
    "            running_loss = 0.0\n",
    "            running_corrects = 0\n",
    "\n",
    "            # Iterate over data.\n",
    "            for data in dataloaders[phase]:\n",
    "                # get the inputs\n",
    "                inputs, labels = data\n",
    "\n",
    "                # wrap them in Variable\n",
    "                if use_gpu:\n",
    "                    inputs = Variable(inputs.cuda())\n",
    "                    labels = Variable(labels.cuda())\n",
    "                else:\n",
    "                    inputs, labels = Variable(inputs), Variable(labels)\n",
    "\n",
    "                # zero the parameter gradients\n",
    "                optimizer.zero_grad()\n",
    "\n",
    "                # forward\n",
    "                outputs = model(inputs)\n",
    "                _, preds = torch.max(outputs.data, 1)\n",
    "                loss = criterion(outputs, labels)\n",
    "\n",
    "                # backward + optimize only if in training phase\n",
    "                if phase == 'train':\n",
    "                    loss.backward()\n",
    "                    optimizer.step()\n",
    "\n",
    "                # statistics\n",
    "                running_loss += loss.data * inputs.size(0)\n",
    "                running_corrects += torch.sum(preds == labels.data)\n",
    "\n",
    "            epoch_loss = running_loss / dataset_sizes[phase]\n",
    "            epoch_acc = running_corrects / dataset_sizes[phase]\n",
    "\n",
    "            print('{} Loss: {:.4f} Acc: {:.4f}'.format(\n",
    "                phase, epoch_loss, epoch_acc))\n",
    "\n",
    "            # deep copy the model\n",
    "            if phase == 'val' and epoch_acc > best_acc:\n",
    "                best_acc = epoch_acc\n",
    "                best_model_wts = copy.deepcopy(model.state_dict())\n",
    "\n",
    "        print()\n",
    "\n",
    "    time_elapsed = time.time() - since\n",
    "    print('Training complete in {:.0f}m {:.0f}s'.format(\n",
    "        time_elapsed // 60, time_elapsed % 60))\n",
    "    print('Best val Acc: {:4f}'.format(best_acc))\n",
    "\n",
    "    # load best model weights\n",
    "    model.load_state_dict(best_model_wts)\n",
    "    return model"
   ],
   "metadata": {
    "collapsed": false,
    "pycharm": {
     "name": "#%%\n"
    }
   }
  },
  {
   "cell_type": "code",
   "execution_count": 23,
   "outputs": [],
   "source": [
    "def visualize_model(model, num_images=6):\n",
    "    was_training = model.training\n",
    "    model.eval()\n",
    "    images_so_far = 0\n",
    "    fig = plt.figure()\n",
    "\n",
    "    for i, data in enumerate(dataloaders['val']):\n",
    "        inputs, labels = data\n",
    "        if use_gpu:\n",
    "            inputs, labels = Variable(inputs.cuda()), Variable(labels.cuda())\n",
    "        else:\n",
    "            inputs, labels = Variable(inputs), Variable(labels)\n",
    "\n",
    "        outputs = model(inputs)\n",
    "        _, preds = torch.max(outputs.data, 1)\n",
    "\n",
    "        for j in range(inputs.size()[0]):\n",
    "            images_so_far += 1\n",
    "            ax = plt.subplot(num_images//2, 2, images_so_far)\n",
    "            ax.axis('off')\n",
    "            ax.set_title('predicted: {}'.format(class_names[preds[j]]))\n",
    "            imshow(inputs.cpu().data[j])\n",
    "\n",
    "            if images_so_far == num_images:\n",
    "                model.train(mode=was_training)\n",
    "                return\n",
    "    model.train(mode=was_training)"
   ],
   "metadata": {
    "collapsed": false,
    "pycharm": {
     "name": "#%%\n"
    }
   }
  },
  {
   "cell_type": "code",
   "execution_count": 29,
   "outputs": [],
   "source": [
    "model_ft = models.resnet18(pretrained=True)\n",
    "num_ftrs = model_ft.fc.in_features\n",
    "model_ft.fc = nn.Linear(num_ftrs, 2)\n",
    "\n",
    "if use_gpu:\n",
    "    model_ft = model_ft.cuda()\n",
    "\n",
    "criterion = nn.CrossEntropyLoss()\n",
    "\n",
    "# Observe that all parameters are being optimized\n",
    "optimizer_ft = optim.SGD(model_ft.parameters(), lr=0.001, momentum=0.9)\n",
    "\n",
    "# Decay LR by a factor of 0.1 every 7 epochs\n",
    "exp_lr_scheduler = lr_scheduler.StepLR(optimizer_ft, step_size=7, gamma=0.1)"
   ],
   "metadata": {
    "collapsed": false,
    "pycharm": {
     "name": "#%%\n"
    }
   }
  },
  {
   "cell_type": "code",
   "execution_count": 25,
   "outputs": [
    {
     "name": "stdout",
     "output_type": "stream",
     "text": [
      "Epoch 0/49\n",
      "----------\n",
      "train Loss: 0.5332 Acc: 0.7131\n",
      "val Loss: 0.1694 Acc: 0.9477\n",
      "\n",
      "Epoch 1/49\n",
      "----------\n",
      "train Loss: 0.5942 Acc: 0.7459\n",
      "val Loss: 0.3668 Acc: 0.8824\n",
      "\n",
      "Epoch 2/49\n",
      "----------\n",
      "train Loss: 0.4799 Acc: 0.8320\n",
      "val Loss: 0.2715 Acc: 0.9085\n",
      "\n",
      "Epoch 3/49\n",
      "----------\n",
      "train Loss: 0.5188 Acc: 0.7910\n",
      "val Loss: 0.2616 Acc: 0.9346\n",
      "\n",
      "Epoch 4/49\n",
      "----------\n",
      "train Loss: 0.5317 Acc: 0.7828\n",
      "val Loss: 0.3451 Acc: 0.8758\n",
      "\n",
      "Epoch 5/49\n",
      "----------\n",
      "train Loss: 0.4911 Acc: 0.8074\n",
      "val Loss: 0.2159 Acc: 0.9150\n",
      "\n",
      "Epoch 6/49\n",
      "----------\n",
      "train Loss: 0.4628 Acc: 0.7705\n",
      "val Loss: 0.2272 Acc: 0.8954\n",
      "\n",
      "Epoch 7/49\n",
      "----------\n",
      "train Loss: 0.2927 Acc: 0.8730\n",
      "val Loss: 0.2143 Acc: 0.9281\n",
      "\n",
      "Epoch 8/49\n",
      "----------\n",
      "train Loss: 0.3004 Acc: 0.8566\n",
      "val Loss: 0.2150 Acc: 0.9281\n",
      "\n",
      "Epoch 9/49\n",
      "----------\n",
      "train Loss: 0.2435 Acc: 0.8811\n",
      "val Loss: 0.2245 Acc: 0.9216\n",
      "\n",
      "Epoch 10/49\n",
      "----------\n",
      "train Loss: 0.3150 Acc: 0.8607\n",
      "val Loss: 0.2084 Acc: 0.9281\n",
      "\n",
      "Epoch 11/49\n",
      "----------\n",
      "train Loss: 0.2901 Acc: 0.8852\n",
      "val Loss: 0.2459 Acc: 0.9085\n",
      "\n",
      "Epoch 12/49\n",
      "----------\n",
      "train Loss: 0.3430 Acc: 0.8689\n",
      "val Loss: 0.2164 Acc: 0.9281\n",
      "\n",
      "Epoch 13/49\n",
      "----------\n",
      "train Loss: 0.2933 Acc: 0.8811\n",
      "val Loss: 0.2357 Acc: 0.9216\n",
      "\n",
      "Epoch 14/49\n",
      "----------\n",
      "train Loss: 0.3343 Acc: 0.8484\n",
      "val Loss: 0.2526 Acc: 0.8954\n",
      "\n",
      "Epoch 15/49\n",
      "----------\n",
      "train Loss: 0.2042 Acc: 0.9262\n",
      "val Loss: 0.2237 Acc: 0.9150\n",
      "\n",
      "Epoch 16/49\n",
      "----------\n",
      "train Loss: 0.2769 Acc: 0.8730\n",
      "val Loss: 0.2136 Acc: 0.9346\n",
      "\n",
      "Epoch 17/49\n",
      "----------\n",
      "train Loss: 0.2559 Acc: 0.8975\n",
      "val Loss: 0.2750 Acc: 0.8824\n",
      "\n",
      "Epoch 18/49\n",
      "----------\n",
      "train Loss: 0.3172 Acc: 0.8443\n",
      "val Loss: 0.2305 Acc: 0.9150\n",
      "\n",
      "Epoch 19/49\n",
      "----------\n",
      "train Loss: 0.2616 Acc: 0.8811\n",
      "val Loss: 0.2193 Acc: 0.9216\n",
      "\n",
      "Epoch 20/49\n",
      "----------\n",
      "train Loss: 0.3058 Acc: 0.8689\n",
      "val Loss: 0.2107 Acc: 0.9150\n",
      "\n",
      "Epoch 21/49\n",
      "----------\n",
      "train Loss: 0.2742 Acc: 0.8730\n",
      "val Loss: 0.2243 Acc: 0.9216\n",
      "\n",
      "Epoch 22/49\n",
      "----------\n",
      "train Loss: 0.3003 Acc: 0.8852\n",
      "val Loss: 0.2106 Acc: 0.9412\n",
      "\n",
      "Epoch 23/49\n",
      "----------\n",
      "train Loss: 0.3357 Acc: 0.8361\n",
      "val Loss: 0.2304 Acc: 0.9150\n",
      "\n",
      "Epoch 24/49\n",
      "----------\n",
      "train Loss: 0.3040 Acc: 0.8689\n",
      "val Loss: 0.2230 Acc: 0.9281\n",
      "\n",
      "Epoch 25/49\n",
      "----------\n",
      "train Loss: 0.2822 Acc: 0.8893\n",
      "val Loss: 0.2498 Acc: 0.9020\n",
      "\n",
      "Epoch 26/49\n",
      "----------\n",
      "train Loss: 0.2790 Acc: 0.8811\n",
      "val Loss: 0.2236 Acc: 0.9346\n",
      "\n",
      "Epoch 27/49\n",
      "----------\n",
      "train Loss: 0.2674 Acc: 0.8770\n",
      "val Loss: 0.2370 Acc: 0.9020\n",
      "\n",
      "Epoch 28/49\n",
      "----------\n",
      "train Loss: 0.2950 Acc: 0.8607\n",
      "val Loss: 0.2235 Acc: 0.9216\n",
      "\n",
      "Epoch 29/49\n",
      "----------\n",
      "train Loss: 0.2299 Acc: 0.9098\n",
      "val Loss: 0.2244 Acc: 0.9216\n",
      "\n",
      "Epoch 30/49\n",
      "----------\n",
      "train Loss: 0.3665 Acc: 0.8443\n",
      "val Loss: 0.2978 Acc: 0.8758\n",
      "\n",
      "Epoch 31/49\n",
      "----------\n",
      "train Loss: 0.2755 Acc: 0.8770\n",
      "val Loss: 0.2216 Acc: 0.9412\n",
      "\n",
      "Epoch 32/49\n",
      "----------\n",
      "train Loss: 0.2442 Acc: 0.8975\n",
      "val Loss: 0.2113 Acc: 0.9281\n",
      "\n",
      "Epoch 33/49\n",
      "----------\n",
      "train Loss: 0.2625 Acc: 0.8770\n",
      "val Loss: 0.2553 Acc: 0.9020\n",
      "\n",
      "Epoch 34/49\n",
      "----------\n",
      "train Loss: 0.3352 Acc: 0.8402\n",
      "val Loss: 0.2122 Acc: 0.9281\n",
      "\n",
      "Epoch 35/49\n",
      "----------\n",
      "train Loss: 0.3071 Acc: 0.8689\n",
      "val Loss: 0.2322 Acc: 0.9085\n",
      "\n",
      "Epoch 36/49\n",
      "----------\n",
      "train Loss: 0.3515 Acc: 0.8566\n",
      "val Loss: 0.2310 Acc: 0.9216\n",
      "\n",
      "Epoch 37/49\n",
      "----------\n",
      "train Loss: 0.2396 Acc: 0.8852\n",
      "val Loss: 0.2157 Acc: 0.9346\n",
      "\n",
      "Epoch 38/49\n",
      "----------\n",
      "train Loss: 0.2524 Acc: 0.8934\n",
      "val Loss: 0.2202 Acc: 0.9150\n",
      "\n",
      "Epoch 39/49\n",
      "----------\n",
      "train Loss: 0.2663 Acc: 0.8893\n",
      "val Loss: 0.2238 Acc: 0.9150\n",
      "\n",
      "Epoch 40/49\n",
      "----------\n",
      "train Loss: 0.2786 Acc: 0.8811\n",
      "val Loss: 0.2081 Acc: 0.9346\n",
      "\n",
      "Epoch 41/49\n",
      "----------\n",
      "train Loss: 0.3175 Acc: 0.8689\n",
      "val Loss: 0.2217 Acc: 0.9281\n",
      "\n",
      "Epoch 42/49\n",
      "----------\n",
      "train Loss: 0.2646 Acc: 0.8811\n",
      "val Loss: 0.2239 Acc: 0.9150\n",
      "\n",
      "Epoch 43/49\n",
      "----------\n",
      "train Loss: 0.3095 Acc: 0.8648\n",
      "val Loss: 0.2267 Acc: 0.9216\n",
      "\n",
      "Epoch 44/49\n",
      "----------\n",
      "train Loss: 0.2532 Acc: 0.9057\n",
      "val Loss: 0.2359 Acc: 0.9150\n",
      "\n",
      "Epoch 45/49\n",
      "----------\n",
      "train Loss: 0.2173 Acc: 0.9139\n",
      "val Loss: 0.2413 Acc: 0.9020\n",
      "\n",
      "Epoch 46/49\n",
      "----------\n",
      "train Loss: 0.2446 Acc: 0.9016\n",
      "val Loss: 0.2123 Acc: 0.9281\n",
      "\n",
      "Epoch 47/49\n",
      "----------\n",
      "train Loss: 0.3295 Acc: 0.8525\n",
      "val Loss: 0.2243 Acc: 0.9020\n",
      "\n",
      "Epoch 48/49\n",
      "----------\n",
      "train Loss: 0.3813 Acc: 0.8320\n",
      "val Loss: 0.2396 Acc: 0.9216\n",
      "\n",
      "Epoch 49/49\n",
      "----------\n",
      "train Loss: 0.2869 Acc: 0.8811\n",
      "val Loss: 0.2249 Acc: 0.9150\n",
      "\n",
      "Training complete in 43m 20s\n",
      "Best val Acc: 0.947712\n"
     ]
    }
   ],
   "source": [
    "model_ft = train_model(model_ft, criterion, optimizer_ft, exp_lr_scheduler,num_epochs=50)"
   ],
   "metadata": {
    "collapsed": false,
    "pycharm": {
     "name": "#%%\n"
    }
   }
  },
  {
   "cell_type": "code",
   "metadata": {
    "id": "ENsuycPTZNHt",
    "colab": {
     "base_uri": "https://localhost:8080/",
     "height": 83,
     "referenced_widgets": [
      "105b68669e33497fbc19e5e501ca3cdd",
      "f3d66b33b2d94a7cb90aca298d97f446",
      "1876e163cb1f4d73ba3f1e39fd1f508d",
      "656ea2ddbb0b45109b702a7f8bcf7b28",
      "471eac2fe32d4e818f892bc137ea6d4a",
      "472fb13f8e2444c7b7c3e5f7854608cc",
      "954d42418dc84fc08139afbe316f178a",
      "63ec500f4c8643dfbbdb70162e765b46"
     ]
    },
    "executionInfo": {
     "status": "ok",
     "timestamp": 1594633145312,
     "user_tz": -330,
     "elapsed": 1627,
     "user": {
      "displayName": "Manoj Kumar",
      "photoUrl": "",
      "userId": "15297673998707979171"
     }
    },
    "outputId": "bb083d76-f3c8-4990-93ad-434d5820b671",
    "pycharm": {
     "name": "#%%\n"
    }
   },
   "source": [
    "model_ft = models.resnet18(pretrained=True)\n",
    "num_ftrs = model_ft.fc.in_features\n",
    "model_ft.fc = nn.Linear(num_ftrs, 2)\n",
    "\n",
    "if use_gpu:\n",
    "    model_ft = model_ft.cuda()\n",
    "\n",
    "criterion = nn.CrossEntropyLoss()\n",
    "\n",
    "# Observe that all parameters are being optimized\n",
    "optimizer_ft = optim.SGD(model_ft.parameters(), lr=0.001, momentum=0.9)\n",
    "\n",
    "# Decay LR by a factor of 0.1 every 7 epochs\n",
    "exp_lr_scheduler = lr_scheduler.StepLR(optimizer_ft, step_size=7, gamma=0.1)"
   ],
   "execution_count": null,
   "outputs": []
  },
  {
   "cell_type": "code",
   "metadata": {
    "id": "Ktwv4Jm9ZNHw",
    "outputId": "fb0709dd-bd18-444e-aab5-027fcaa11031",
    "pycharm": {
     "name": "#%%\n"
    }
   },
   "source": [
    "model_ft = train_model(model_ft, criterion, optimizer_ft, exp_lr_scheduler,num_epochs=50)"
   ],
   "execution_count": null,
   "outputs": []
  },
  {
   "cell_type": "code",
   "metadata": {
    "id": "0PdCDVKXZNHz",
    "colab": {
     "base_uri": "https://localhost:8080/",
     "height": 581
    },
    "executionInfo": {
     "status": "ok",
     "timestamp": 1594633160296,
     "user_tz": -330,
     "elapsed": 5582,
     "user": {
      "displayName": "Manoj Kumar",
      "photoUrl": "",
      "userId": "15297673998707979171"
     }
    },
    "outputId": "bee7058f-ada7-4ba4-9517-0d37728ec402",
    "pycharm": {
     "name": "#%%\n"
    }
   },
   "source": [
    "visualize_model(model_ft)"
   ],
   "execution_count": null,
   "outputs": [
    {
     "output_type": "display_data",
     "data": {
      "image/png": "[encoded data removed]",
      "text/plain": [
       "<Figure size 432x288 with 1 Axes>"
      ]
     },
     "metadata": {
      "tags": [],
      "needs_background": "light"
     }
    },
    {
     "output_type": "display_data",
     "data": {
      "image/png": "[encoded data removed]",
      "text/plain": [
       "<Figure size 432x288 with 1 Axes>"
      ]
     },
     "metadata": {
      "tags": [],
      "needs_background": "light"
     }
    },
    {
     "output_type": "display_data",
     "data": {
      "image/png": "[encoded data removed]",
      "text/plain": [
       "<Figure size 432x288 with 1 Axes>"
      ]
     },
     "metadata": {
      "tags": [],
      "needs_background": "light"
     }
    },
    {
     "output_type": "display_data",
     "data": {
      "image/png": "[encoded data removed]",
      "text/plain": [
       "<Figure size 432x288 with 1 Axes>"
      ]
     },
     "metadata": {
      "tags": [],
      "needs_background": "light"
     }
    },
    {
     "output_type": "display_data",
     "data": {
      "image/png": "[encoded data removed]",
      "text/plain": [
       "<Figure size 432x288 with 1 Axes>"
      ]
     },
     "metadata": {
      "tags": [],
      "needs_background": "light"
     }
    },
    {
     "output_type": "display_data",
     "data": {
      "image/png": "[encoded data removed]",
      "text/plain": [
       "<Figure size 432x288 with 1 Axes>"
      ]
     },
     "metadata": {
      "tags": [],
      "needs_background": "light"
     }
    }
   ]
  },
  {
   "cell_type": "code",
   "metadata": {
    "id": "iZ-QfL3jZNH2",
    "pycharm": {
     "name": "#%%\n"
    }
   },
   "source": [],
   "execution_count": null,
   "outputs": []
  }
 ]
}