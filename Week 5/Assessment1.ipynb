{
 "nbformat": 4,
 "nbformat_minor": 0,
 "metadata": {
  "kernelspec": {
   "display_name": "Python 3",
   "language": "python",
   "name": "python3"
  },
  "language_info": {
   "codemirror_mode": {
    "name": "ipython",
    "version": 3
   },
   "file_extension": ".py",
   "mimetype": "text/x-python",
   "name": "python",
   "nbconvert_exporter": "python",
   "pygments_lexer": "ipython3",
   "version": "3.7.4"
  },
  "colab": {
   "name": "Assessment1.ipynb",
   "provenance": [],
   "collapsed_sections": []
  }
 },
 "cells": [
  {
   "cell_type": "markdown",
   "metadata": {
    "id": "LmDeJwqut-f8",
    "pycharm": {
     "name": "#%% md\n"
    }
   },
   "source": [
    "**PCA**"
   ]
  },
  {
   "cell_type": "code",
   "metadata": {
    "id": "nSkrbW3ctudT",
    "pycharm": {
     "name": "#%%\n"
    }
   },
   "source": [
    "import numpy as np\n",
    "import matplotlib.pyplot as plt\n",
    "import os\n",
    "\n",
    "# Special function to read special files\n",
    "def unpickle(file):\n",
    "    import pickle\n",
    "    with open(file, 'rb') as fo:\n",
    "        dict = pickle.load(fo, encoding='bytes')\n",
    "    return dict\n",
    "\n",
    "## Visualize the images in CIFAR-10 Dataset\n",
    "## Here get_data unpickles the CIFAR Dataset and stores the data as 50000*3072 dimension in array X \n",
    "## and labels as 50000*1 dimension in array Y. \n",
    "## Visualize function shows the image corresponding to id number.\n",
    "\n",
    "def get_data(file):\n",
    "    my_dict = unpickle(file)\n",
    "    X = my_dict[b'data']\n",
    "    Y = my_dict[b'labels']\n",
    "    names = np.asarray(my_dict[b'filenames'])\n",
    "    list_class = (unpickle(r\"C:\\Users\\tenu0.LABRINTH\\DataspellProjects\\DS-Lab\\Week 5\\Dataset\\cifar-10\\batches.meta\")[b'label_names'])\n",
    "    return X, Y, names,list_class\n",
    "                     \n",
    "\n",
    "def visualize_image(X, Y, names, image_id):\n",
    "    rgb = X[image_id,:]\n",
    "    img = rgb.reshape(3, 32, 32).transpose([1, 2, 0])\n",
    "    plt.imshow(img)\n",
    "    plt.title(names[image_id])\n",
    "    plt.show()\n",
    "\n",
    "# Read images\n",
    "imgs1, labels1, names1, classes1 = get_data(r\"C:\\Users\\tenu0.LABRINTH\\DataspellProjects\\DS-Lab\\Week 5\\Dataset\\cifar-10\\data_batch_1\")\n",
    "imgs2, labels2, names2, classes2 = get_data(r\"C:\\Users\\tenu0.LABRINTH\\DataspellProjects\\DS-Lab\\Week 5\\Dataset\\cifar-10\\data_batch_2\")\n",
    "imgs3, labels3, names3, classes3 = get_data(r\"C:\\Users\\tenu0.LABRINTH\\DataspellProjects\\DS-Lab\\Week 5\\Dataset\\cifar-10\\data_batch_3\")\n",
    "imgs4, labels4, names4, classes4 = get_data(r\"C:\\Users\\tenu0.LABRINTH\\DataspellProjects\\DS-Lab\\Week 5\\Dataset\\cifar-10\\data_batch_4\")\n",
    "imgs5, labels5, names5, classes5 = get_data(r\"C:\\Users\\tenu0.LABRINTH\\DataspellProjects\\DS-Lab\\Week 5\\Dataset\\cifar-10\\data_batch_5\")\n",
    "\n",
    "#concatenating all the images into imgs_train list \n",
    "imgs_train = np.concatenate((imgs1,imgs2,imgs3,imgs4,imgs5), axis=0)\n",
    "\n",
    "#concatenating all the labels into labels_train list \n",
    "labels_train = np.concatenate((labels1,labels2,labels3,labels4,labels5), axis=0)\n",
    "\n",
    "#concatenating all the names into names_train list \n",
    "names_train = np.concatenate((names1,names2,names3,names4,names5), axis=0)\n",
    "\n",
    "#concatenating all the classes into classes_train list \n",
    "classes_train = np.concatenate((classes1,classes2,classes3,classes4,classes5), axis=0)\n",
    "\n",
    "#reading the images that are used for testing\n",
    "imgs_test, labels_test, names_test, classes_test = get_data(r\"C:\\Users\\tenu0.LABRINTH\\DataspellProjects\\DS-Lab\\Week 5\\Dataset\\cifar-10\\test_batch\")\n",
    "\n",
    "# Visualize the 5th image\n",
    "pick = 7\n",
    "print(\"Class =\", classes_train[labels_train[pick]])\n",
    "visualize_image(imgs_train, labels_train, names_train, pick)"
   ],
   "execution_count": 5,
   "outputs": [
    {
     "name": "stdout",
     "output_type": "stream",
     "text": [
      "Class = b'horse'\n"
     ]
    },
    {
     "data": {
      "text/plain": "<Figure size 432x288 with 1 Axes>",
      "image/png": "[encoded data removed]"
     },
     "metadata": {},
     "output_type": "display_data"
    }
   ]
  },
  {
   "cell_type": "code",
   "metadata": {
    "id": "satOElmztuda",
    "pycharm": {
     "name": "#%%\n"
    }
   },
   "source": [
    "imgs_train.shape"
   ],
   "execution_count": 6,
   "outputs": [
    {
     "data": {
      "text/plain": "(50000, 3072)"
     },
     "execution_count": 6,
     "metadata": {},
     "output_type": "execute_result"
    }
   ]
  },
  {
   "cell_type": "code",
   "metadata": {
    "id": "q4jMTN_Ctude",
    "pycharm": {
     "name": "#%%\n"
    }
   },
   "source": [
    "def preprocess_train(imgs):\n",
    "    \n",
    "    #convert image array [50000 x 3072] to image [50000 x 32 x 32 x 3]\n",
    "    imgs = imgs.reshape(imgs.shape[0], 3, 32, 32).transpose([0, 2, 3, 1])\n",
    "    \n",
    "    #convert to grayscale image [50000 x 32 x 32]\n",
    "    imgs = np.dot(imgs[...,:3], [0.299, 0.587, 0.114])\n",
    "    \n",
    "    # If we are dealing with training images, compute the mean\n",
    "    mean = np.mean(imgs, axis=0)\n",
    "    \n",
    "    #subtract by mean image\n",
    "    imgs = imgs - mean\n",
    "    \n",
    "    #convert back to image array [50000 x 1024]\n",
    "    print(imgs.shape)\n",
    "    imgs = imgs.reshape(imgs.shape[0], 1024)\n",
    "    print(imgs.shape)\n",
    "    \n",
    "    return imgs, mean\n",
    "\n",
    "def preprocess_test(imgs, mean):\n",
    "    \n",
    "    #convert image array [50000 x 3072] to image [50000 x 32 x 32 x 3]\n",
    "    imgs = imgs.reshape(imgs.shape[0], 3, 32, 32).transpose([0, 2, 3, 1])\n",
    "    \n",
    "    #convert to grayscale image [50000 x 32 x 32]\n",
    "    imgs = np.dot(imgs[...,:3], [0.299, 0.587, 0.114])\n",
    "    \n",
    "    #subtract by mean image calculated from the training set\n",
    "    imgs = imgs - mean\n",
    "    \n",
    "    #convert back to image array [50000 x 1024]\n",
    "    print(imgs.shape)\n",
    "    imgs = imgs.reshape(imgs.shape[0], 1024)\n",
    "    print(imgs.shape)\n",
    "    \n",
    "    return imgs"
   ],
   "execution_count": 7,
   "outputs": []
  },
  {
   "cell_type": "code",
   "metadata": {
    "id": "hiHIUq2_tudh",
    "pycharm": {
     "name": "#%%\n"
    }
   },
   "source": [
    "# Preprocess the images\n",
    "imgs_train, mean = preprocess_train(imgs_train)\n",
    "imgs_test = preprocess_test(imgs_test, mean)"
   ],
   "execution_count": 8,
   "outputs": [
    {
     "name": "stdout",
     "output_type": "stream",
     "text": [
      "(50000, 32, 32)\n",
      "(50000, 1024)\n",
      "(10000, 32, 32)\n",
      "(10000, 1024)\n"
     ]
    }
   ]
  },
  {
   "cell_type": "code",
   "metadata": {
    "id": "ITe4IP3gtudl",
    "pycharm": {
     "name": "#%%\n"
    }
   },
   "source": [
    "def find_eigenvalues_and_eigenvectors(A):\n",
    "    # Your code here\n",
    "    #C is the determinant of the matrix\n",
    "    C = 1 / len(A) * np.dot(A.T, A)\n",
    "    \n",
    "    #this will compute eigenvalues and eigen vectors\n",
    "    U, w, VT = np.linalg.svd(C, compute_uv=True)\n",
    "    return w, U"
   ],
   "execution_count": 9,
   "outputs": []
  },
  {
   "cell_type": "code",
   "metadata": {
    "id": "LRNEJvY8tudo",
    "pycharm": {
     "name": "#%%\n"
    }
   },
   "source": [
    "#calling the above function \n",
    "eigenvalues_train, eigenvectors_train = find_eigenvalues_and_eigenvectors(imgs_train)\n",
    "print(eigenvalues_train.shape)\n",
    "print(eigenvectors_train.shape)\n",
    "eigenvalues_test, eigenvectors_test = find_eigenvalues_and_eigenvectors(imgs_test)"
   ],
   "execution_count": 10,
   "outputs": [
    {
     "name": "stdout",
     "output_type": "stream",
     "text": [
      "(1024,)\n",
      "(1024, 1024)\n"
     ]
    }
   ]
  },
  {
   "cell_type": "code",
   "metadata": {
    "id": "Xur1G-7Htuds",
    "pycharm": {
     "name": "#%%\n"
    }
   },
   "source": [
    "# REORDER\n",
    "\n",
    "# Find the required order of indices to make decreasing order of eigenvalue\n",
    "sort_index = np.argsort(eigenvalues_train)[::-1]\n",
    "\n",
    "# Use the calculated order of indices to reorder eigenvalues and eigenvectors\n",
    "eigenvalues_train = eigenvalues_train[sort_index]\n",
    "eigenvectors_train = eigenvectors_train[:, sort_index]\n",
    "\n",
    "# Find the required order of indices to make decreasing order of eigenvalue\n",
    "sort_index = np.argsort(eigenvalues_test)[::-1]\n",
    "\n",
    "# Use the calculated order of indices to reorder eigenvalues and eigenvectors\n",
    "eigenvalues_test = eigenvalues_test[sort_index]\n",
    "eigenvectors_est = eigenvectors_test[:, sort_index]\n",
    "\n",
    "\n",
    "#see top 3 eigenvalues\n",
    "print(eigenvalues_train[:3])\n",
    "print(eigenvectors_train[:3])"
   ],
   "execution_count": 11,
   "outputs": [
    {
     "name": "stdout",
     "output_type": "stream",
     "text": [
      "[1145216.33719859  469187.86368005  275125.62506827]\n",
      "[[-0.04930287 -0.03217863 -0.02858416 ...  0.00216022  0.00481356\n",
      "   0.01851747]\n",
      " [-0.04918112 -0.03271296 -0.02820369 ... -0.00205114 -0.01104136\n",
      "  -0.03790172]\n",
      " [-0.04927026 -0.03337433 -0.02792019 ...  0.00119292  0.01437492\n",
      "   0.04834882]]\n"
     ]
    }
   ]
  },
  {
   "cell_type": "code",
   "metadata": {
    "id": "Y6PnW0sstudw",
    "pycharm": {
     "name": "#%%\n"
    }
   },
   "source": [
    "print(np.linalg.norm(eigenvectors_train[:,1]))    #checking if norm is 1\n",
    "# NORMALIZE (no need to normalize when using SVD as it returns normalized eigenvectors)\n",
    "# eigenvectors_train = eigenvectors_train / np.linalg.norm(eigenvectors_train, axis=0)"
   ],
   "execution_count": 12,
   "outputs": [
    {
     "name": "stdout",
     "output_type": "stream",
     "text": [
      "1.0000000000000004\n"
     ]
    }
   ]
  },
  {
   "cell_type": "code",
   "metadata": {
    "id": "FApCT4fttudz",
    "pycharm": {
     "name": "#%%\n"
    }
   },
   "source": [
    "eigenvectors_train.shape"
   ],
   "execution_count": 13,
   "outputs": [
    {
     "data": {
      "text/plain": "(1024, 1024)"
     },
     "execution_count": 13,
     "metadata": {},
     "output_type": "execute_result"
    }
   ]
  },
  {
   "cell_type": "code",
   "metadata": {
    "scrolled": true,
    "id": "QWoekNxPtud2",
    "pycharm": {
     "name": "#%%\n"
    }
   },
   "source": [
    "# Plot r vs M\n",
    "# Values of M to consider: 1, 2,..., n\n",
    "M = np.array(range(1, imgs_train.shape[1] + 1))\n",
    "\n",
    "# Calculate r for all values of M\n",
    "# Your code here\n",
    "# Hint: Look for \"numpy cumulative sum\"\n",
    "r = np.cumsum(eigenvalues_train)/np.sum(eigenvalues_train)\n",
    "\n",
    "# Plot r vs M\n",
    "plt.plot(M, r)\n",
    "# We take only first 1024 eigenvectors because\n",
    "# rest all correspond to eigen value 0\n",
    "plt.xlabel(\"M\", fontsize=20)\n",
    "plt.ylabel(\"r\", fontsize=20)\n",
    "plt.grid(\"on\")\n",
    "plt.show()"
   ],
   "execution_count": 14,
   "outputs": [
    {
     "data": {
      "text/plain": "<Figure size 432x288 with 1 Axes>",
      "image/png": "[encoded data removed]"
     },
     "metadata": {},
     "output_type": "display_data"
    }
   ]
  },
  {
   "cell_type": "code",
   "metadata": {
    "id": "j5efsGObtud5",
    "pycharm": {
     "name": "#%%\n"
    }
   },
   "source": [
    "r[25]"
   ],
   "execution_count": 15,
   "outputs": [
    {
     "data": {
      "text/plain": "0.8009697910061451"
     },
     "execution_count": 15,
     "metadata": {},
     "output_type": "execute_result"
    }
   ]
  },
  {
   "cell_type": "code",
   "metadata": {
    "id": "cR0JfXEhtud8",
    "pycharm": {
     "name": "#%%\n"
    }
   },
   "source": [
    "N = 25"
   ],
   "execution_count": 16,
   "outputs": []
  },
  {
   "cell_type": "code",
   "metadata": {
    "id": "NTDMYS0ytueA",
    "pycharm": {
     "name": "#%%\n"
    }
   },
   "source": [
    "#pca_vectors_train has 25(value of N) eigen vectors from the training dataset \n",
    "pca_vectors_train = eigenvectors_train[:, :N]\n",
    "#pca_vectors_test has 25(value of N) eigen vectors from the testing dataset \n",
    "pca_vectors_test = eigenvectors_test[:, :N]"
   ],
   "execution_count": 17,
   "outputs": []
  },
  {
   "cell_type": "code",
   "metadata": {
    "id": "-knfkOprtueD",
    "pycharm": {
     "name": "#%%\n"
    }
   },
   "source": [
    "#same like above but to find the pca features instead of eigen vectors\n",
    "pca_features_train = np.dot(imgs_train, pca_vectors_train)\n",
    "pca_features_test = np.dot(imgs_test, pca_vectors_test)\n",
    "\n",
    "print(imgs_train.shape)\n",
    "print(pca_features_train.shape)"
   ],
   "execution_count": 18,
   "outputs": [
    {
     "name": "stdout",
     "output_type": "stream",
     "text": [
      "(50000, 1024)\n",
      "(50000, 25)\n"
     ]
    }
   ]
  },
  {
   "cell_type": "code",
   "metadata": {
    "id": "JbTz9PKMtueG",
    "pycharm": {
     "name": "#%%\n"
    }
   },
   "source": [
    "number_of_samples =  100\n",
    "plt.figure(figsize=(10, 5))\n",
    "plt.subplot(141)\n",
    "plt.scatter(np.arange(number_of_samples), pca_features_train[:number_of_samples, 0], c='r')\n",
    "plt.xlabel('PCA 1st dimension')\n",
    "plt.ylim([-2500, 2500])\n",
    "plt.subplot(142)\n",
    "plt.scatter(np.arange(number_of_samples), pca_features_train[:number_of_samples, 1], c='y')\n",
    "plt.xlabel('PCA 2nd dimension')\n",
    "plt.ylim([-2500, 2500])\n",
    "plt.subplot(143)\n",
    "plt.scatter(np.arange(number_of_samples), pca_features_train[:number_of_samples, 3], c='y')\n",
    "plt.xlabel('PCA 3rd dimension')\n",
    "plt.ylim([-2500, 2500])\n",
    "plt.subplot(144)\n",
    "plt.scatter(np.arange(number_of_samples), pca_features_train[:number_of_samples, 4], c='y')\n",
    "plt.xlabel('PCA 4th dimension')\n",
    "plt.ylim([-2500, 2500])\n",
    "plt.title('Visualizing variances captured by eigenvectors')\n",
    "plt.show()"
   ],
   "execution_count": 19,
   "outputs": [
    {
     "data": {
      "text/plain": "<Figure size 720x360 with 4 Axes>",
      "image/png": "[encoded data removed]"
     },
     "metadata": {},
     "output_type": "display_data"
    }
   ]
  },
  {
   "cell_type": "code",
   "metadata": {
    "id": "BAIRIrr9tueJ",
    "pycharm": {
     "name": "#%%\n"
    }
   },
   "source": [
    "import math\n",
    "import collections\n",
    "\n",
    "#this function finds the euclidean distance between two points\n",
    "def dist(a, b):\n",
    "    sqSum = 0\n",
    "    for i in range(len(a)):\n",
    "        sqSum += (a[i] - b[i]) ** 2\n",
    "    return math.sqrt(sqSum)\n",
    "\n",
    "\n",
    "def kNN(k, train_features, train_labels, given_feature):\n",
    "    distances = []\n",
    "    for t in range(len(train_features)):\n",
    "        distances.append((dist(train_features[t], given_feature), train_labels[t]))\n",
    "    distances.sort()\n",
    "    #return the sorted K neighbours distances\n",
    "    return distances[:k]\n",
    "\n",
    "def kNN_classify(k, train_features, train_labels, given_feature):\n",
    "    #tally is an empty dictionary initially\n",
    "    tally = collections.Counter()\n",
    "    for nn in kNN(k, train_features, train_labels, given_feature):\n",
    "        #stroing the integer value of the last column in the dataset in the tally\n",
    "        tally.update(str(int(nn[-1])))\n",
    "    #return the top most common among the K neighbours\n",
    "    return int(tally.most_common(1)[0][0])"
   ],
   "execution_count": 20,
   "outputs": []
  },
  {
   "cell_type": "code",
   "metadata": {
    "id": "7FcfVdGjtueM",
    "pycharm": {
     "name": "#%%\n"
    }
   },
   "source": [
    "kNN_classify(3,  pca_features_train, labels_train, pca_features_test[1])"
   ],
   "execution_count": 21,
   "outputs": [
    {
     "data": {
      "text/plain": "8"
     },
     "execution_count": 21,
     "metadata": {},
     "output_type": "execute_result"
    }
   ]
  },
  {
   "cell_type": "code",
   "metadata": {
    "id": "sQHtWFjHtueP",
    "pycharm": {
     "name": "#%%\n"
    }
   },
   "source": [
    "labels_test[1]"
   ],
   "execution_count": 22,
   "outputs": [
    {
     "data": {
      "text/plain": "8"
     },
     "execution_count": 22,
     "metadata": {},
     "output_type": "execute_result"
    }
   ]
  },
  {
   "cell_type": "markdown",
   "metadata": {
    "collapsed": true,
    "id": "zHHObr_LtueT",
    "pycharm": {
     "name": "#%% md\n"
    }
   },
   "source": [
    "## Use kNN to classify the first 10 test images using pca_features"
   ]
  },
  {
   "cell_type": "code",
   "metadata": {
    "id": "UGEt2jGStueT",
    "pycharm": {
     "name": "#%%\n"
    }
   },
   "source": [
    "predicted_labels_test = []\n",
    "\n",
    "# Predict labels on the test set\n",
    "for i in range(10):\n",
    "    print(\"Predicting\", i+1, \"of 10\")\n",
    "    predicted_labels_test.append(kNN_classify(3, pca_features_train, labels_train, pca_features_test[i]))\n",
    "\n",
    "# Find accuracy\n",
    "kNN_test_accuracy_pca = np.mean(np.array(predicted_labels_test) == np.array(labels_test[:10]))\n",
    "print(\"Accuracy =\", kNN_test_accuracy_pca)"
   ],
   "execution_count": 23,
   "outputs": [
    {
     "name": "stdout",
     "output_type": "stream",
     "text": [
      "Predicting 1 of 10\n",
      "Predicting 2 of 10\n",
      "Predicting 3 of 10\n",
      "Predicting 4 of 10\n",
      "Predicting 5 of 10\n",
      "Predicting 6 of 10\n",
      "Predicting 7 of 10\n",
      "Predicting 8 of 10\n",
      "Predicting 9 of 10\n",
      "Predicting 10 of 10\n",
      "Accuracy = 0.2\n"
     ]
    }
   ]
  },
  {
   "cell_type": "code",
   "metadata": {
    "id": "w21Ztl7ZtueW",
    "pycharm": {
     "name": "#%%\n"
    }
   },
   "source": [
    "predicted_labels_test"
   ],
   "execution_count": 24,
   "outputs": [
    {
     "data": {
      "text/plain": "[4, 8, 0, 8, 6, 2, 6, 3, 0, 6]"
     },
     "execution_count": 24,
     "metadata": {},
     "output_type": "execute_result"
    }
   ]
  },
  {
   "cell_type": "code",
   "metadata": {
    "id": "wbO04WzptueZ",
    "pycharm": {
     "name": "#%%\n"
    }
   },
   "source": [
    "labels_test[:10]"
   ],
   "execution_count": 25,
   "outputs": [
    {
     "data": {
      "text/plain": "[3, 8, 8, 0, 6, 6, 1, 6, 3, 1]"
     },
     "execution_count": 25,
     "metadata": {},
     "output_type": "execute_result"
    }
   ]
  },
  {
   "cell_type": "code",
   "metadata": {
    "id": "TcpY2NsCtuec",
    "pycharm": {
     "name": "#%%\n"
    }
   },
   "source": [
    "values_of_N = [5, 10, 15, 20, 25]\n",
    "for N in values_of_N:\n",
    "    print(\"N = \" + str(N))\n",
    "    pca_vectors_train = eigenvectors_train[:, :N]\n",
    "    pca_vectors_test = eigenvectors_test[:, :N]\n",
    "\n",
    "    pca_features_train = np.dot(imgs_train, pca_vectors_train)\n",
    "    pca_features_test = np.dot(imgs_test, pca_vectors_test)\n",
    "\n",
    "    print(imgs_train.shape)\n",
    "    print(pca_features_train.shape)\n",
    "    predicted_labels_test = []\n",
    "\n",
    "    # Predict labels on the test set\n",
    "    for i in range(10):\n",
    "        print(\"Predicting\", i+1, \"of 10\")\n",
    "        predicted_labels_test.append(kNN_classify(3, pca_features_train, labels_train, pca_features_test[i]))\n",
    "\n",
    "    # Find accuracy\n",
    "    kNN_test_accuracy_pca = np.mean(np.array(predicted_labels_test) == np.array(labels_test[:10]))\n",
    "    print(\"Accuracy =\", kNN_test_accuracy_pca)"
   ],
   "execution_count": 26,
   "outputs": [
    {
     "name": "stdout",
     "output_type": "stream",
     "text": [
      "N = 5\n",
      "(50000, 1024)\n",
      "(50000, 5)\n",
      "Predicting 1 of 10\n",
      "Predicting 2 of 10\n",
      "Predicting 3 of 10\n",
      "Predicting 4 of 10\n",
      "Predicting 5 of 10\n",
      "Predicting 6 of 10\n",
      "Predicting 7 of 10\n",
      "Predicting 8 of 10\n",
      "Predicting 9 of 10\n",
      "Predicting 10 of 10\n",
      "Accuracy = 0.0\n",
      "N = 10\n",
      "(50000, 1024)\n",
      "(50000, 10)\n",
      "Predicting 1 of 10\n",
      "Predicting 2 of 10\n",
      "Predicting 3 of 10\n",
      "Predicting 4 of 10\n",
      "Predicting 5 of 10\n",
      "Predicting 6 of 10\n",
      "Predicting 7 of 10\n",
      "Predicting 8 of 10\n",
      "Predicting 9 of 10\n",
      "Predicting 10 of 10\n",
      "Accuracy = 0.3\n",
      "N = 15\n",
      "(50000, 1024)\n",
      "(50000, 15)\n",
      "Predicting 1 of 10\n",
      "Predicting 2 of 10\n",
      "Predicting 3 of 10\n",
      "Predicting 4 of 10\n",
      "Predicting 5 of 10\n",
      "Predicting 6 of 10\n",
      "Predicting 7 of 10\n",
      "Predicting 8 of 10\n",
      "Predicting 9 of 10\n",
      "Predicting 10 of 10\n",
      "Accuracy = 0.3\n",
      "N = 20\n",
      "(50000, 1024)\n",
      "(50000, 20)\n",
      "Predicting 1 of 10\n",
      "Predicting 2 of 10\n",
      "Predicting 3 of 10\n",
      "Predicting 4 of 10\n",
      "Predicting 5 of 10\n",
      "Predicting 6 of 10\n",
      "Predicting 7 of 10\n",
      "Predicting 8 of 10\n",
      "Predicting 9 of 10\n",
      "Predicting 10 of 10\n",
      "Accuracy = 0.3\n",
      "N = 25\n",
      "(50000, 1024)\n",
      "(50000, 25)\n",
      "Predicting 1 of 10\n",
      "Predicting 2 of 10\n",
      "Predicting 3 of 10\n",
      "Predicting 4 of 10\n",
      "Predicting 5 of 10\n",
      "Predicting 6 of 10\n",
      "Predicting 7 of 10\n",
      "Predicting 8 of 10\n",
      "Predicting 9 of 10\n",
      "Predicting 10 of 10\n",
      "Accuracy = 0.2\n"
     ]
    }
   ]
  },
  {
   "cell_type": "code",
   "metadata": {
    "id": "RpYKSaSwtuee",
    "pycharm": {
     "name": "#%%\n"
    }
   },
   "source": [],
   "execution_count": 26,
   "outputs": []
  }
 ]
}