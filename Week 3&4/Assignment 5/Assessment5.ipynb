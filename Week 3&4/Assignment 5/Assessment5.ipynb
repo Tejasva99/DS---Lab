{
 "nbformat": 4,
 "nbformat_minor": 0,
 "metadata": {
  "colab": {
   "name": "Assessment5.ipynb",
   "provenance": [],
   "collapsed_sections": []
  },
  "kernelspec": {
   "name": "python3",
   "display_name": "Python 3"
  }
 },
 "cells": [
  {
   "cell_type": "markdown",
   "metadata": {
    "id": "XbDnN-n81xFw",
    "pycharm": {
     "name": "#%% md\n"
    }
   },
   "source": [
    "**Logistic Regression**"
   ]
  },
  {
   "cell_type": "code",
   "metadata": {
    "id": "VI_eBj6R1v7s",
    "pycharm": {
     "name": "#%%\n"
    }
   },
   "source": [
    "import pandas as pd\n",
    "import numpy as np\n",
    "import matplotlib.pyplot as plt"
   ],
   "execution_count": null,
   "outputs": []
  },
  {
   "cell_type": "code",
   "metadata": {
    "id": "FnP2zbb919dk",
    "pycharm": {
     "name": "#%%\n"
    }
   },
   "source": [
    "df = pd.read_csv('iris.csv')\n",
    "\n",
    "df.head()"
   ],
   "execution_count": null,
   "outputs": []
  },
  {
   "cell_type": "code",
   "metadata": {
    "id": "qLoW0UiD3Xl8",
    "pycharm": {
     "name": "#%%\n"
    }
   },
   "source": [
    "# extract sepal length and sepal width of setosa and versicolor for our binary calssification problem\n",
    "X = df.iloc[0:100, [1, 2]].values\n",
    "\n",
    "y = df.iloc[0:100, 5].values\n",
    "# set output lable value to 1 if it is setosa and 0 if versicolor.\n",
    "y = np.where(y == 'Iris-setosa', 1, 0)"
   ],
   "execution_count": null,
   "outputs": []
  },
  {
   "cell_type": "code",
   "metadata": {
    "id": "HOYO-bJy3Xvq",
    "pycharm": {
     "name": "#%%\n"
    }
   },
   "source": [
    "# features standerdization\n",
    "X_std = np.copy(X)\n",
    "\n",
    "X_std[:,0] = (X_std[:,0] - X_std[:,0].mean()) / X_std[:,0].std()\n",
    "X_std[:,1] = (X_std[:,1] - X_std[:,1].mean()) / X_std[:,1].std()"
   ],
   "execution_count": null,
   "outputs": []
  },
  {
   "cell_type": "code",
   "metadata": {
    "id": "h02aZJBn3Xyb",
    "pycharm": {
     "name": "#%%\n"
    }
   },
   "source": [
    "# Define Logistic Regression hypothesis or sigmoid function\n",
    "\n",
    "def sigmoid(X, theta):\n",
    "    \n",
    "    z = np.dot(X, theta[1:]) + theta[0]\n",
    "    \n",
    "    return 1.0 / ( 1.0 + np.exp(-z))"
   ],
   "execution_count": null,
   "outputs": []
  },
  {
   "cell_type": "code",
   "metadata": {
    "id": "pg6h3BKP3X3C",
    "pycharm": {
     "name": "#%%\n"
    }
   },
   "source": [
    "# Define Logistic Regression Cost Function\n",
    "def lrCostFunction(y, hx):\n",
    "  \n",
    "    # compute cost for given theta parameters\n",
    "    j = -y.dot(np.log(hx)) - ((1 - y).dot(np.log(1-hx)))\n",
    "    \n",
    "    return j"
   ],
   "execution_count": null,
   "outputs": []
  },
  {
   "cell_type": "code",
   "metadata": {
    "id": "ylprFpFO3X50",
    "pycharm": {
     "name": "#%%\n"
    }
   },
   "source": [
    "# Gradient Descent function to minimize the Logistic Regression Cost Function.\n",
    "def lrGradient(X, y, theta, alpha, num_iter):\n",
    "    # empty list to store the value of the cost function over number of iterations\n",
    "    cost = []\n",
    "    \n",
    "    for i in range(num_iter):\n",
    "        # call sigmoid function \n",
    "        hx = sigmoid(X, theta)\n",
    "        # calculate error\n",
    "        error = hx - y\n",
    "        # calculate gradient\n",
    "        grad = X.T.dot(error)\n",
    "        # update values in theta\n",
    "        theta[0] = theta[0] - alpha * error.sum()\n",
    "        theta[1:] = theta[1:] - alpha * grad\n",
    "        \n",
    "        cost.append(lrCostFunction(y, hx))\n",
    "        \n",
    "    return cost        \n",
    "        "
   ],
   "execution_count": null,
   "outputs": []
  },
  {
   "cell_type": "code",
   "metadata": {
    "id": "6WxOgWzf3X8a",
    "pycharm": {
     "name": "#%%\n"
    }
   },
   "source": [
    "# m = Number of training examples\n",
    "# n = number of features\n",
    "m, n = X.shape\n",
    "\n",
    "# initialize theta(weights) parameters to zeros\n",
    "theta = np.zeros(1+n)\n",
    "\n",
    "# set learning rate to 0.01 and number of iterations to 500\n",
    "alpha = 0.01\n",
    "num_iter = 500\n",
    "\n",
    "cost = lrGradient(X_std, y, theta, alpha, num_iter)"
   ],
   "execution_count": null,
   "outputs": []
  },
  {
   "cell_type": "code",
   "metadata": {
    "id": "DpnC_Wfq3mzU",
    "pycharm": {
     "name": "#%%\n"
    }
   },
   "source": [
    "# Make a plot with number of iterations on the x-axis and the cost function on y-axis\n",
    "plt.plot(range(1, len(cost) + 1), cost)\n",
    "plt.xlabel('Iterations')\n",
    "plt.ylabel('Cost')\n",
    "plt.title('Logistic Regression')"
   ],
   "execution_count": null,
   "outputs": []
  },
  {
   "cell_type": "code",
   "metadata": {
    "id": "lxCHNf_y3nhR",
    "pycharm": {
     "name": "#%%\n"
    }
   },
   "source": [
    "# print theta paramters \n",
    "print ('\\n Logisitc Regression bias(intercept) term :', theta[0])\n",
    "print ('\\n Logisitc Regression estimated coefficients :', theta[1:])"
   ],
   "execution_count": null,
   "outputs": []
  },
  {
   "cell_type": "code",
   "metadata": {
    "id": "tW4WLmrC3nkZ",
    "pycharm": {
     "name": "#%%\n"
    }
   },
   "source": [
    "# function to predict the output label using the parameters\n",
    "def lrPredict(X):\n",
    "    \n",
    "    return np.where(sigmoid(X,theta) >= 0.5, 1, 0)"
   ],
   "execution_count": null,
   "outputs": []
  },
  {
   "cell_type": "code",
   "metadata": {
    "id": "3lLPm5lX3nnR",
    "pycharm": {
     "name": "#%%\n"
    }
   },
   "source": [
    "from matplotlib.colors import ListedColormap\n",
    "\n",
    "def plot_decision_boundry(X, y, classifier, h=0.02):\n",
    "    # h = step size in the mesh\n",
    "  \n",
    "    # setup marker generator and color map\n",
    "    markers = ('s', 'x', 'o', '^', 'v')\n",
    "    colors = ('red', 'blue', 'lightgreen', 'gray', 'cyan')\n",
    "    cmap = ListedColormap(colors[:len(np.unique(y))])\n",
    "\n",
    "    # plot the decision surface\n",
    "    x1_min, x1_max = X[:, 0].min() - 1, X[:, 0].max() + 1\n",
    "    x2_min, x2_max = X[:, 1].min() - 1, X[:, 1].max() + 1\n",
    "    xx1, xx2 = np.meshgrid(np.arange(x1_min, x1_max, h),\n",
    "                         np.arange(x2_min, x2_max, h))\n",
    "    Z = classifier(np.array([xx1.ravel(), xx2.ravel()]).T)\n",
    "    Z = Z.reshape(xx1.shape)\n",
    "    plt.contourf(xx1, xx2, Z, alpha=0.4, cmap=cmap)\n",
    "    plt.xlim(xx1.min(), xx1.max())\n",
    "    plt.ylim(xx2.min(), xx2.max())\n",
    "\n",
    "    # plot class samples\n",
    "    for idx, cl in enumerate(np.unique(y)):\n",
    "        plt.scatter(x=X[y == cl, 0], y=X[y == cl, 1],\n",
    "                    alpha=0.8, c=cmap(idx),\n",
    "                    marker=markers[idx], label=cl)\n",
    "  "
   ],
   "execution_count": null,
   "outputs": []
  },
  {
   "cell_type": "code",
   "metadata": {
    "id": "olOENTot3np5",
    "pycharm": {
     "name": "#%%\n"
    }
   },
   "source": [
    "plot_decision_boundry(X_std, y, classifier=lrPredict)\n",
    "plt.title('Standardized Logistic Regression - Gradient Descent')\n",
    "plt.xlabel('sepal length ')\n",
    "plt.ylabel('sepal width ')\n",
    "plt.legend(loc='upper left')\n",
    "plt.tight_layout()"
   ],
   "execution_count": null,
   "outputs": []
  },
  {
   "cell_type": "code",
   "metadata": {
    "id": "WlDnzgiJ3nsr",
    "pycharm": {
     "name": "#%%\n"
    }
   },
   "source": [
    "from sklearn import linear_model\n",
    "\n",
    "logreg = linear_model.LogisticRegression()\n",
    "\n",
    "logreg.fit(X_std, y)\n",
    "\n",
    "# print theta paramters \n",
    "print ('\\n sklearn bias(intercept) term :', logreg.intercept_)\n",
    "print ('\\n sklearn estimated coefficients :', logreg.coef_)"
   ],
   "execution_count": null,
   "outputs": []
  },
  {
   "cell_type": "code",
   "metadata": {
    "id": "axByTYme3nvU",
    "pycharm": {
     "name": "#%%\n"
    }
   },
   "source": [
    "plot_decision_boundry(X_std, y, classifier=logreg.predict)\n",
    "plt.title('Scikit  learn Logistic Regression Classifier')\n",
    "plt.xlabel('sepal length ')\n",
    "plt.ylabel('sepal width ')\n",
    "plt.legend(loc='upper left')\n",
    "plt.tight_layout()"
   ],
   "execution_count": null,
   "outputs": []
  },
  {
   "cell_type": "code",
   "metadata": {
    "id": "4giZzkMe34Vs",
    "pycharm": {
     "name": "#%%\n"
    }
   },
   "source": [],
   "execution_count": null,
   "outputs": []
  }
 ]
}