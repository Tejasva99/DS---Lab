{
 "cells": [
  {
   "cell_type": "code",
   "execution_count": 1,
   "metadata": {
    "pycharm": {
     "name": "#%%\n"
    }
   },
   "outputs": [
    {
     "name": "stdout",
     "output_type": "stream",
     "text": [
      "['“you must look for husbands for them whether you like it or not....”', '', '“well,” said she, “how’s my cossack?” (márya dmítrievna', 'always called natásha a cossack) and she stroked the child’s arm as', 'she came up fearless and gay to kiss her hand. “i know she’s a scamp', 'of a girl, but i like her.”', '', 'she took a pair of pear-shaped ruby earrings from her huge reticule and,', 'having given them to the rosy natásha, who beamed with the pleasure', 'of her saint’s-day fete, turned away at once and addressed herself to']\n"
     ]
    }
   ],
   "source": [
    "wp_text_stage0 = [line.strip().lower() for line in open(r\"C:\\Users\\tenu0.LABRINTH\\DataspellProjects\\DS-Lab\\Week 6\\Dataset\\War_And_Peace.txt\",encoding=\"utf8\")]\n",
    "print(wp_text_stage0[4000:4010])"
   ]
  },
  {
   "cell_type": "code",
   "execution_count": 2,
   "metadata": {
    "pycharm": {
     "name": "#%%\n"
    }
   },
   "outputs": [],
   "source": [
    "wp_text_stage1 = ' '.join(wp_text_stage0)"
   ]
  },
  {
   "cell_type": "code",
   "execution_count": 3,
   "metadata": {
    "pycharm": {
     "name": "#%%\n"
    }
   },
   "outputs": [
    {
     "name": "stdout",
     "output_type": "stream",
     "text": [
      "3224829\n",
      "rove my devotion to you and how i respect your father’s memory, i will do the impossible—your son shall be transferred to the guards. here is my hand on it. are you satisfied?”  “my dear benefactor! t\n"
     ]
    }
   ],
   "source": [
    "print(len(wp_text_stage1))\n",
    "print(wp_text_stage1[40000:40200])"
   ]
  },
  {
   "cell_type": "code",
   "execution_count": 4,
   "metadata": {
    "pycharm": {
     "name": "#%%\n"
    }
   },
   "outputs": [
    {
     "name": "stderr",
     "output_type": "stream",
     "text": [
      "[nltk_data] Downloading package punkt to\n",
      "[nltk_data]     C:\\Users\\tenu0.LABRINTH\\AppData\\Roaming\\nltk_data...\n",
      "[nltk_data]   Package punkt is already up-to-date!\n"
     ]
    },
    {
     "data": {
      "text/plain": "True"
     },
     "execution_count": 4,
     "metadata": {},
     "output_type": "execute_result"
    }
   ],
   "source": [
    "import nltk\n",
    "nltk.download('punkt')"
   ]
  },
  {
   "cell_type": "code",
   "execution_count": 5,
   "metadata": {
    "pycharm": {
     "name": "#%%\n"
    }
   },
   "outputs": [],
   "source": [
    "from nltk.tokenize import sent_tokenize\n",
    "wp_text_stage2 = sent_tokenize(wp_text_stage1)"
   ]
  },
  {
   "cell_type": "code",
   "execution_count": 6,
   "metadata": {
    "pycharm": {
     "name": "#%%\n"
    }
   },
   "outputs": [
    {
     "name": "stdout",
     "output_type": "stream",
     "text": [
      "26313\n",
      "['after tea, the company went into the sitting room and princess mary was asked to play on the clavichord.', 'anatole, laughing and in high spirits, came and leaned on his elbows, facing her and beside mademoiselle bourienne.', 'princess mary felt his look with a painfully joyous emotion.', 'her favorite sonata bore her into a most intimately poetic world and the look she felt upon her made that world still more poetic.', 'but anatole’s expression, though his eyes were fixed on her, referred not to her but to the movements of mademoiselle bourienne’s little foot, which he was then touching with his own under the clavichord.', 'mademoiselle bourienne was also looking at princess mary, and in her lovely eyes there was a look of fearful joy and hope that was also new to the princess.', '“how she loves me!” thought princess mary.', '“how happy i am now, and how happy i may be with such a friend and such a husband!', 'husband?', 'can it be possible?” she thought, not daring to look at his face, but still feeling his eyes gazing at her.']\n"
     ]
    }
   ],
   "source": [
    "print(len(wp_text_stage2))\n",
    "print(wp_text_stage2[5000:5010])"
   ]
  },
  {
   "cell_type": "code",
   "execution_count": 7,
   "metadata": {
    "pycharm": {
     "name": "#%%\n"
    }
   },
   "outputs": [],
   "source": [
    "fluff = set([line.strip() for line in open(\"Dataset/stoplist.txt\")])"
   ]
  },
  {
   "cell_type": "code",
   "execution_count": 8,
   "metadata": {
    "pycharm": {
     "name": "#%%\n"
    }
   },
   "outputs": [
    {
     "name": "stdout",
     "output_type": "stream",
     "text": [
      "['the whole air reeked with smoke', 'the excited faces of the soldiers were blackened with it', 'some were using their ramrods others putting powder on the touchpans or taking charges from their pouches while others were firing though who they were firing at could not be seen for the smoke which there was no wind to carry away', 'a pleasant humming and whistling of bullets were often heard', 'what is this thought prince andrew approaching the crowd of soldiers', 'it can t be an attack for they are not moving it can t be a square for they are not drawn up for that the commander of the regiment a thin feeble looking old man with a pleasant smile his eyelids drooping more than half over his old eyes giving him a mild expression rode up to bagratión and welcomed him as a host welcomes an honored guest', 'he reported that his regiment had been attacked by french cavalry and that though the attack had been repulsed he had lost more than half his men', 'he said the attack had been repulsed employing this military term to describe what had occurred to his regiment but in reality he did not himself know what had happened during that half hour to the troops entrusted to him and could not say with certainty whether the attack had been repulsed or his regiment had been broken up', 'all he knew was that at the commencement of the action balls and shells began flying all over his regiment and hitting men and that afterwards someone had shouted cavalry and our men had begun firing', 'they were still firing not at the cavalry which had disappeared but at french infantry who had come into the hollow and were firing at our men']\n"
     ]
    }
   ],
   "source": [
    "import re\n",
    "only_alnum = re.compile(r\"[^\\w]+\") ## \\w => unicode alphabet\n",
    "#only_alnum = re.compile(r\"[^a-z0-9]\") --> This will remove accented characters which are part of many names!\n",
    "\n",
    "## Replaces one or more occurrence of any characters other unicode alphabets and numbers\n",
    "def cleanUp(s):\n",
    "    return re.sub(only_alnum, \" \", s).strip()\n",
    "wp_text_stage3 = [cleanUp(s) for s in wp_text_stage2]\n",
    "print(wp_text_stage3[4000:4010])"
   ]
  },
  {
   "cell_type": "code",
   "execution_count": 9,
   "metadata": {
    "pycharm": {
     "name": "#%%\n"
    }
   },
   "outputs": [],
   "source": [
    "def choose_words(s):\n",
    "    return [w for w in s.split() if len(w) > 2 and w not in fluff]"
   ]
  },
  {
   "cell_type": "code",
   "execution_count": 10,
   "metadata": {
    "pycharm": {
     "name": "#%%\n"
    }
   },
   "outputs": [
    {
     "name": "stdout",
     "output_type": "stream",
     "text": [
      "[['the', 'whole', 'air', 'reeked', 'with', 'smoke'], ['the', 'excited', 'faces', 'the', 'soldiers', 'were', 'blackened', 'with'], ['some', 'were', 'using', 'their', 'ramrods', 'others', 'putting', 'powder', 'the', 'touchpans', 'taking', 'charges', 'from', 'their', 'pouches', 'while', 'others', 'were', 'firing', 'though', 'who', 'they', 'were', 'firing', 'could', 'not', 'seen', 'for', 'the', 'smoke', 'which', 'there', 'was', 'wind', 'carry', 'away'], ['pleasant', 'humming', 'and', 'whistling', 'bullets', 'were', 'often', 'heard'], ['what', 'this', 'thought', 'prince', 'andrew', 'approaching', 'the', 'crowd', 'soldiers'], ['can', 'attack', 'for', 'they', 'are', 'not', 'moving', 'can', 'square', 'for', 'they', 'are', 'not', 'drawn', 'for', 'that', 'the', 'commander', 'the', 'regiment', 'thin', 'feeble', 'looking', 'old', 'man', 'with', 'pleasant', 'smile', 'his', 'eyelids', 'drooping', 'more', 'than', 'half', 'over', 'his', 'old', 'eyes', 'giving', 'him', 'mild', 'expression', 'rode', 'bagratión', 'and', 'welcomed', 'him', 'host', 'welcomes', 'honored', 'guest'], ['reported', 'that', 'his', 'regiment', 'had', 'been', 'attacked', 'french', 'cavalry', 'and', 'that', 'though', 'the', 'attack', 'had', 'been', 'repulsed', 'had', 'lost', 'more', 'than', 'half', 'his', 'men'], ['said', 'the', 'attack', 'had', 'been', 'repulsed', 'employing', 'this', 'military', 'term', 'describe', 'what', 'had', 'occurred', 'his', 'regiment', 'but', 'reality', 'did', 'not', 'himself', 'know', 'what', 'had', 'happened', 'during', 'that', 'half', 'hour', 'the', 'troops', 'entrusted', 'him', 'and', 'could', 'not', 'say', 'with', 'certainty', 'whether', 'the', 'attack', 'had', 'been', 'repulsed', 'his', 'regiment', 'had', 'been', 'broken'], ['all', 'knew', 'was', 'that', 'the', 'commencement', 'the', 'action', 'balls', 'and', 'shells', 'began', 'flying', 'all', 'over', 'his', 'regiment', 'and', 'hitting', 'men', 'and', 'that', 'afterwards', 'someone', 'had', 'shouted', 'cavalry', 'and', 'our', 'men', 'had', 'begun', 'firing'], ['they', 'were', 'still', 'firing', 'not', 'the', 'cavalry', 'which', 'had', 'disappeared', 'but', 'french', 'infantry', 'who', 'had', 'come', 'into', 'the', 'hollow', 'and', 'were', 'firing', 'our', 'men']]\n"
     ]
    }
   ],
   "source": [
    "wp_text_stage4 = [choose_words(sentence) for sentence in wp_text_stage3]\n",
    "print(wp_text_stage4[4000:4010])"
   ]
  },
  {
   "cell_type": "code",
   "execution_count": 11,
   "metadata": {
    "pycharm": {
     "name": "#%%\n"
    }
   },
   "outputs": [
    {
     "name": "stdout",
     "output_type": "stream",
     "text": [
      "26313\n"
     ]
    }
   ],
   "source": [
    "print(len(wp_text_stage4))"
   ]
  },
  {
   "cell_type": "code",
   "execution_count": 12,
   "metadata": {
    "pycharm": {
     "name": "#%%\n"
    }
   },
   "outputs": [
    {
     "name": "stdout",
     "output_type": "stream",
     "text": [
      "run run run runner\n",
      "gun gun gun gun\n"
     ]
    }
   ],
   "source": [
    "from nltk.stem.snowball import SnowballStemmer\n",
    "stemmer = SnowballStemmer(\"english\")\n",
    "print(stemmer.stem(\"running\"), stemmer.stem(\"run\"), stemmer.stem(\"runs\"), stemmer.stem(\"runner\"))\n",
    "print(stemmer.stem(\"guns\"), stemmer.stem(\"gun\"), stemmer.stem(\"gunned\"), stemmer.stem(\"gunning\"))"
   ]
  },
  {
   "cell_type": "code",
   "execution_count": 13,
   "metadata": {
    "pycharm": {
     "name": "#%%\n"
    }
   },
   "outputs": [
    {
     "name": "stdout",
     "output_type": "stream",
     "text": [
      "['the', 'whole', 'air', 'reeked', 'with', 'smoke'] ['the', 'whole', 'air', 'reek', 'with', 'smoke']\n",
      "['the', 'excited', 'faces', 'the', 'soldiers', 'were', 'blackened', 'with'] ['the', 'excit', 'face', 'the', 'soldier', 'were', 'blacken', 'with']\n",
      "['some', 'were', 'using', 'their', 'ramrods', 'others', 'putting', 'powder', 'the', 'touchpans', 'taking', 'charges', 'from', 'their', 'pouches', 'while', 'others', 'were', 'firing', 'though', 'who', 'they', 'were', 'firing', 'could', 'not', 'seen', 'for', 'the', 'smoke', 'which', 'there', 'was', 'wind', 'carry', 'away'] ['some', 'were', 'use', 'their', 'ramrod', 'other', 'put', 'powder', 'the', 'touchpan', 'take', 'charg', 'from', 'their', 'pouch', 'while', 'other', 'were', 'fire', 'though', 'who', 'they', 'were', 'fire', 'could', 'not', 'seen', 'for', 'the', 'smoke', 'which', 'there', 'was', 'wind', 'carri', 'away']\n",
      "['pleasant', 'humming', 'and', 'whistling', 'bullets', 'were', 'often', 'heard'] ['pleasant', 'hum', 'and', 'whistl', 'bullet', 'were', 'often', 'heard']\n",
      "['what', 'this', 'thought', 'prince', 'andrew', 'approaching', 'the', 'crowd', 'soldiers'] ['what', 'this', 'thought', 'princ', 'andrew', 'approach', 'the', 'crowd', 'soldier']\n",
      "['can', 'attack', 'for', 'they', 'are', 'not', 'moving', 'can', 'square', 'for', 'they', 'are', 'not', 'drawn', 'for', 'that', 'the', 'commander', 'the', 'regiment', 'thin', 'feeble', 'looking', 'old', 'man', 'with', 'pleasant', 'smile', 'his', 'eyelids', 'drooping', 'more', 'than', 'half', 'over', 'his', 'old', 'eyes', 'giving', 'him', 'mild', 'expression', 'rode', 'bagratión', 'and', 'welcomed', 'him', 'host', 'welcomes', 'honored', 'guest'] ['can', 'attack', 'for', 'they', 'are', 'not', 'move', 'can', 'squar', 'for', 'they', 'are', 'not', 'drawn', 'for', 'that', 'the', 'command', 'the', 'regiment', 'thin', 'feebl', 'look', 'old', 'man', 'with', 'pleasant', 'smile', 'his', 'eyelid', 'droop', 'more', 'than', 'half', 'over', 'his', 'old', 'eye', 'give', 'him', 'mild', 'express', 'rode', 'bagratión', 'and', 'welcom', 'him', 'host', 'welcom', 'honor', 'guest']\n",
      "['reported', 'that', 'his', 'regiment', 'had', 'been', 'attacked', 'french', 'cavalry', 'and', 'that', 'though', 'the', 'attack', 'had', 'been', 'repulsed', 'had', 'lost', 'more', 'than', 'half', 'his', 'men'] ['report', 'that', 'his', 'regiment', 'had', 'been', 'attack', 'french', 'cavalri', 'and', 'that', 'though', 'the', 'attack', 'had', 'been', 'repuls', 'had', 'lost', 'more', 'than', 'half', 'his', 'men']\n",
      "['said', 'the', 'attack', 'had', 'been', 'repulsed', 'employing', 'this', 'military', 'term', 'describe', 'what', 'had', 'occurred', 'his', 'regiment', 'but', 'reality', 'did', 'not', 'himself', 'know', 'what', 'had', 'happened', 'during', 'that', 'half', 'hour', 'the', 'troops', 'entrusted', 'him', 'and', 'could', 'not', 'say', 'with', 'certainty', 'whether', 'the', 'attack', 'had', 'been', 'repulsed', 'his', 'regiment', 'had', 'been', 'broken'] ['said', 'the', 'attack', 'had', 'been', 'repuls', 'employ', 'this', 'militari', 'term', 'describ', 'what', 'had', 'occur', 'his', 'regiment', 'but', 'realiti', 'did', 'not', 'himself', 'know', 'what', 'had', 'happen', 'dure', 'that', 'half', 'hour', 'the', 'troop', 'entrust', 'him', 'and', 'could', 'not', 'say', 'with', 'certainti', 'whether', 'the', 'attack', 'had', 'been', 'repuls', 'his', 'regiment', 'had', 'been', 'broken']\n",
      "['all', 'knew', 'was', 'that', 'the', 'commencement', 'the', 'action', 'balls', 'and', 'shells', 'began', 'flying', 'all', 'over', 'his', 'regiment', 'and', 'hitting', 'men', 'and', 'that', 'afterwards', 'someone', 'had', 'shouted', 'cavalry', 'and', 'our', 'men', 'had', 'begun', 'firing'] ['all', 'knew', 'was', 'that', 'the', 'commenc', 'the', 'action', 'ball', 'and', 'shell', 'began', 'fli', 'all', 'over', 'his', 'regiment', 'and', 'hit', 'men', 'and', 'that', 'afterward', 'someon', 'had', 'shout', 'cavalri', 'and', 'our', 'men', 'had', 'begun', 'fire']\n",
      "['they', 'were', 'still', 'firing', 'not', 'the', 'cavalry', 'which', 'had', 'disappeared', 'but', 'french', 'infantry', 'who', 'had', 'come', 'into', 'the', 'hollow', 'and', 'were', 'firing', 'our', 'men'] ['they', 'were', 'still', 'fire', 'not', 'the', 'cavalri', 'which', 'had', 'disappear', 'but', 'french', 'infantri', 'who', 'had', 'come', 'into', 'the', 'hollow', 'and', 'were', 'fire', 'our', 'men']\n"
     ]
    }
   ],
   "source": [
    "def stem_list(wordlist):\n",
    "    return [stemmer.stem(word) for word in wordlist]\n",
    "for n in range(4000, 4010):\n",
    "    print(wp_text_stage4[n], stem_list(wp_text_stage4[n]))"
   ]
  },
  {
   "cell_type": "code",
   "execution_count": 14,
   "metadata": {
    "pycharm": {
     "name": "#%%\n"
    }
   },
   "outputs": [
    {
     "name": "stdout",
     "output_type": "stream",
     "text": [
      "[['the', 'whole', 'air', 'reek', 'with', 'smoke'], ['the', 'excit', 'face', 'the', 'soldier', 'were', 'blacken', 'with'], ['some', 'were', 'use', 'their', 'ramrod', 'other', 'put', 'powder', 'the', 'touchpan', 'take', 'charg', 'from', 'their', 'pouch', 'while', 'other', 'were', 'fire', 'though', 'who', 'they', 'were', 'fire', 'could', 'not', 'seen', 'for', 'the', 'smoke', 'which', 'there', 'was', 'wind', 'carri', 'away'], ['pleasant', 'hum', 'and', 'whistl', 'bullet', 'were', 'often', 'heard'], ['what', 'this', 'thought', 'princ', 'andrew', 'approach', 'the', 'crowd', 'soldier'], ['can', 'attack', 'for', 'they', 'are', 'not', 'move', 'can', 'squar', 'for', 'they', 'are', 'not', 'drawn', 'for', 'that', 'the', 'command', 'the', 'regiment', 'thin', 'feebl', 'look', 'old', 'man', 'with', 'pleasant', 'smile', 'his', 'eyelid', 'droop', 'more', 'than', 'half', 'over', 'his', 'old', 'eye', 'give', 'him', 'mild', 'express', 'rode', 'bagratión', 'and', 'welcom', 'him', 'host', 'welcom', 'honor', 'guest'], ['report', 'that', 'his', 'regiment', 'had', 'been', 'attack', 'french', 'cavalri', 'and', 'that', 'though', 'the', 'attack', 'had', 'been', 'repuls', 'had', 'lost', 'more', 'than', 'half', 'his', 'men'], ['said', 'the', 'attack', 'had', 'been', 'repuls', 'employ', 'this', 'militari', 'term', 'describ', 'what', 'had', 'occur', 'his', 'regiment', 'but', 'realiti', 'did', 'not', 'himself', 'know', 'what', 'had', 'happen', 'dure', 'that', 'half', 'hour', 'the', 'troop', 'entrust', 'him', 'and', 'could', 'not', 'say', 'with', 'certainti', 'whether', 'the', 'attack', 'had', 'been', 'repuls', 'his', 'regiment', 'had', 'been', 'broken'], ['all', 'knew', 'was', 'that', 'the', 'commenc', 'the', 'action', 'ball', 'and', 'shell', 'began', 'fli', 'all', 'over', 'his', 'regiment', 'and', 'hit', 'men', 'and', 'that', 'afterward', 'someon', 'had', 'shout', 'cavalri', 'and', 'our', 'men', 'had', 'begun', 'fire'], ['they', 'were', 'still', 'fire', 'not', 'the', 'cavalri', 'which', 'had', 'disappear', 'but', 'french', 'infantri', 'who', 'had', 'come', 'into', 'the', 'hollow', 'and', 'were', 'fire', 'our', 'men']]\n"
     ]
    }
   ],
   "source": [
    "wp_text_stage5 = [stem_list(s) for s in wp_text_stage4]\n",
    "print(wp_text_stage5[4000:4010])"
   ]
  },
  {
   "cell_type": "code",
   "execution_count": 15,
   "metadata": {
    "pycharm": {
     "name": "#%%\n"
    }
   },
   "outputs": [
    {
     "name": "stdout",
     "output_type": "stream",
     "text": [
      "Requirement already satisfied: gensim in c:\\users\\tenu0.labrinth\\anaconda3\\lib\\site-packages (4.1.2)\n",
      "Requirement already satisfied: numpy>=1.17.0 in c:\\users\\tenu0.labrinth\\anaconda3\\lib\\site-packages (from gensim) (1.21.5)\n",
      "Requirement already satisfied: scipy>=0.18.1 in c:\\users\\tenu0.labrinth\\anaconda3\\lib\\site-packages (from gensim) (1.7.3)\n",
      "Requirement already satisfied: smart-open>=1.8.1 in c:\\users\\tenu0.labrinth\\anaconda3\\lib\\site-packages (from gensim) (5.1.0)\n",
      "Note: you may need to restart the kernel to use updated packages.\n"
     ]
    }
   ],
   "source": [
    "pip install gensim"
   ]
  },
  {
   "cell_type": "code",
   "execution_count": 24,
   "metadata": {
    "pycharm": {
     "name": "#%%\n"
    }
   },
   "outputs": [],
   "source": [
    "import gensim\n",
    "from gensim.models import word2vec\n",
    "from gensim.models import Phrases\n",
    "import logging"
   ]
  },
  {
   "cell_type": "code",
   "execution_count": 25,
   "metadata": {
    "pycharm": {
     "name": "#%%\n"
    }
   },
   "outputs": [],
   "source": [
    "num_features = 300    # Word vector dimensionality                      \n",
    "min_word_count = 50   # Minimum word count                        \n",
    "num_workers = 4       # Number of threads to run in parallel\n",
    "context = 6           # Context window size                                                                                    \n",
    "downsampling = 1e-3   # Downsample setting for frequent words"
   ]
  },
  {
   "cell_type": "code",
   "execution_count": 38,
   "metadata": {
    "pycharm": {
     "name": "#%%\n"
    }
   },
   "outputs": [],
   "source": [
    "wp = word2vec.Word2Vec(wp_text_stage5, workers=num_workers, min_count = min_word_count, window = context, sample = downsampling)"
   ]
  },
  {
   "cell_type": "code",
   "execution_count": 39,
   "metadata": {
    "pycharm": {
     "name": "#%%\n"
    }
   },
   "outputs": [
    {
     "name": "stderr",
     "output_type": "stream",
     "text": [
      "C:\\Users\\tenu0.LABRINTH\\AppData\\Local\\Temp\\ipykernel_39648\\4092887727.py:1: DeprecationWarning: Call to deprecated `init_sims` (Gensim 4.0.0 implemented internal optimizations that make calls to init_sims() unnecessary. init_sims() is now obsoleted and will be completely removed in future versions. See https://github.com/RaRe-Technologies/gensim/wiki/Migrating-from-Gensim-3.x-to-4).\n",
      "  wp.init_sims(replace=True)\n"
     ]
    }
   ],
   "source": [
    "wp.init_sims(replace=True)"
   ]
  },
  {
   "cell_type": "code",
   "execution_count": 40,
   "metadata": {
    "pycharm": {
     "name": "#%%\n"
    }
   },
   "outputs": [
    {
     "data": {
      "text/plain": "26313"
     },
     "execution_count": 40,
     "metadata": {},
     "output_type": "execute_result"
    }
   ],
   "source": [
    "wp.corpus_count"
   ]
  },
  {
   "cell_type": "code",
   "execution_count": 41,
   "metadata": {
    "pycharm": {
     "name": "#%%\n"
    }
   },
   "outputs": [
    {
     "data": {
      "text/plain": "1183"
     },
     "execution_count": 41,
     "metadata": {},
     "output_type": "execute_result"
    }
   ],
   "source": [
    "len(wp.wv.index_to_key)"
   ]
  },
  {
   "cell_type": "code",
   "execution_count": 42,
   "metadata": {
    "pycharm": {
     "name": "#%%\n"
    }
   },
   "outputs": [
    {
     "data": {
      "text/plain": "['1812',\n 'abandon',\n 'abl',\n 'about',\n 'abov',\n 'accept',\n 'accompani',\n 'accord',\n 'account',\n 'acquaint',\n 'across',\n 'act',\n 'action',\n 'activ',\n 'ad',\n 'address',\n 'adjut',\n 'admit',\n 'advanc',\n 'advantag',\n 'affair',\n 'affect',\n 'afraid',\n 'after',\n 'again',\n 'against',\n 'age',\n 'agit',\n 'ago',\n 'agre',\n 'aid',\n 'aim',\n 'air',\n 'alexand',\n 'all',\n 'allow',\n 'almost',\n 'alon',\n 'along',\n 'alpátych',\n 'alreadi',\n 'also',\n 'alway',\n 'amid',\n 'among',\n 'amus',\n 'anatol',\n 'and',\n 'andrew',\n 'angri',\n 'angrili',\n 'ani',\n 'anim',\n 'anna',\n 'announc',\n 'anoth',\n 'answer',\n 'anxious',\n 'anyon',\n 'anyth',\n 'apart',\n 'appar',\n 'appear',\n 'appoint',\n 'approach',\n 'approv',\n 'are',\n 'arm',\n 'armi',\n 'around',\n 'arrang',\n 'arriv',\n 'artilleri',\n 'asham',\n 'asid',\n 'ask',\n 'asleep',\n 'assum',\n 'assur',\n 'attack',\n 'attend',\n 'attent',\n 'attract',\n 'austerlitz',\n 'austrian',\n 'author',\n 'avoid',\n 'await',\n 'away',\n 'awkward',\n 'back',\n 'bad',\n 'bagratión',\n 'balashëv',\n 'bald',\n 'ball',\n 'barclay',\n 'bare',\n 'battalion',\n 'batteri',\n 'battl',\n 'be',\n 'bear',\n 'beat',\n 'beauti',\n 'becam',\n 'becaus',\n 'becom',\n 'bed',\n 'been',\n 'befor',\n 'beg',\n 'began',\n 'begin',\n 'begun',\n 'behind',\n 'believ',\n 'belong',\n 'bennigsen',\n 'bent',\n 'berg',\n 'besid',\n 'best',\n 'better',\n 'between',\n 'beyond',\n 'bezúkhov',\n 'big',\n 'bilíbin',\n 'bit',\n 'black',\n 'blame',\n 'blood',\n 'blow',\n 'blue',\n 'blush',\n 'bodi',\n 'bold',\n 'bolkónski',\n 'bonapart',\n 'book',\n 'boot',\n 'borodinó',\n 'borzoi',\n 'borí',\n 'both',\n 'bound',\n 'bourienn',\n 'bow',\n 'box',\n 'boy',\n 'break',\n 'breath',\n 'bridg',\n 'bright',\n 'brilliant',\n 'bring',\n 'broad',\n 'broke',\n 'broken',\n 'brother',\n 'brought',\n 'burn',\n 'burst',\n 'busi',\n 'but',\n 'call',\n 'calm',\n 'came',\n 'camp',\n 'campaign',\n 'can',\n 'candl',\n 'cannon',\n 'cannot',\n 'cap',\n 'capit',\n 'captain',\n 'captur',\n 'card',\n 'care',\n 'carri',\n 'carriag',\n 'cart',\n 'case',\n 'caught',\n 'caus',\n 'cavalri',\n 'ceas',\n 'center',\n 'certain',\n 'chair',\n 'chanc',\n 'chang',\n 'chapter',\n 'charact',\n 'charm',\n 'cheek',\n 'cheer',\n 'chief',\n 'child',\n 'children',\n 'church',\n 'circl',\n 'circumst',\n 'citi',\n 'clean',\n 'clear',\n 'clever',\n 'cloak',\n 'clock',\n 'close',\n 'cloth',\n 'cloud',\n 'club',\n 'coat',\n 'cold',\n 'collect',\n 'colonel',\n 'column',\n 'come',\n 'comfort',\n 'command',\n 'common',\n 'compani',\n 'companion',\n 'complet',\n 'comrad',\n 'conceal',\n 'concept',\n 'concern',\n 'conclud',\n 'condit',\n 'confid',\n 'confus',\n 'connect',\n 'conscious',\n 'consid',\n 'consist',\n 'continu',\n 'contrari',\n 'convers',\n 'convinc',\n 'corner',\n 'cossack',\n 'could',\n 'council',\n 'count',\n 'countess',\n 'countri',\n 'cours',\n 'court',\n 'cover',\n 'cri',\n 'cross',\n 'crowd',\n 'cut',\n 'danc',\n 'danger',\n 'dare',\n 'dark',\n 'daughter',\n 'day',\n 'dead',\n 'deal',\n 'dear',\n 'death',\n 'decid',\n 'deep',\n 'definit',\n 'delight',\n 'demand',\n 'denísov',\n 'depend',\n 'describ',\n 'desir',\n 'despit',\n 'destroy',\n 'detach',\n 'detail',\n 'devil',\n 'devot',\n 'did',\n 'didn',\n 'die',\n 'differ',\n 'difficult',\n 'difficulti',\n 'dine',\n 'dinner',\n 'direct',\n 'discuss',\n 'distanc',\n 'distinct',\n 'distinguish',\n 'divis',\n 'dmítrievna',\n 'do',\n 'doctor',\n 'doe',\n 'dog',\n 'don',\n 'done',\n 'door',\n 'doubt',\n 'down',\n 'drag',\n 'draw',\n 'drawn',\n 'dread',\n 'dream',\n 'dress',\n 'drew',\n 'drink',\n 'drive',\n 'dron',\n 'drop',\n 'drove',\n 'dull',\n 'dure',\n 'duti',\n 'dólokhov',\n 'each',\n 'eager',\n 'ear',\n 'earli',\n 'earth',\n 'eat',\n 'effect',\n 'effort',\n 'either',\n 'elder',\n 'els',\n 'embrac',\n 'emperor',\n 'empti',\n 'end',\n 'enemi',\n 'engag',\n 'enjoy',\n 'enorm',\n 'enough',\n 'enter',\n 'equal',\n 'escap',\n 'especi',\n 'estat',\n 'even',\n 'event',\n 'ever',\n 'everi',\n 'everybodi',\n 'everyon',\n 'everyth',\n 'everywher',\n 'evid',\n 'examin',\n 'excel',\n 'except',\n 'excit',\n 'exclaim',\n 'execut',\n 'exist',\n 'expect',\n 'experi',\n 'experienc',\n 'explain',\n 'express',\n 'eye',\n 'face',\n 'fact',\n 'fall',\n 'fallen',\n 'famili',\n 'familiar',\n 'fanci',\n 'far',\n 'farther',\n 'fate',\n 'father',\n 'fear',\n 'feel',\n 'feet',\n 'fell',\n 'fellow',\n 'felt',\n 'few',\n 'field',\n 'fight',\n 'figur',\n 'fill',\n 'final',\n 'find',\n 'fine',\n 'finger',\n 'finish',\n 'fire',\n 'firm',\n 'first',\n 'fit',\n 'five',\n 'fix',\n 'flank',\n 'fli',\n 'floor',\n 'flush',\n 'follow',\n 'fond',\n 'fool',\n 'foot',\n 'for',\n 'forc',\n 'forest',\n 'forget',\n 'forgiv',\n 'forgotten',\n 'form',\n 'former',\n 'forward',\n 'found',\n 'four',\n 'free',\n 'freedom',\n 'french',\n 'frenchman',\n 'fresh',\n 'friend',\n 'frighten',\n 'from',\n 'front',\n 'frown',\n 'full',\n 'further',\n 'futur',\n 'gallop',\n 'garden',\n 'gate',\n 'gather',\n 'gave',\n 'gaze',\n 'general',\n 'genius',\n 'gentl',\n 'gentlemen',\n 'german',\n 'gestur',\n 'get',\n 'girl',\n 'give',\n 'given',\n 'glad',\n 'glanc',\n 'glass',\n 'glitter',\n 'go',\n 'god',\n 'gone',\n 'good',\n 'got',\n 'govern',\n 'governor',\n 'grand',\n 'gray',\n 'great',\n 'greater',\n 'greet',\n 'grew',\n 'ground',\n 'group',\n 'grow',\n 'grown',\n 'guard',\n 'guest',\n 'gun',\n 'gutenberg',\n 'habit',\n 'had',\n 'hair',\n 'half',\n 'hall',\n 'halt',\n 'hand',\n 'handsom',\n 'happen',\n 'happi',\n 'hard',\n 'harm',\n 'has',\n 'hastili',\n 'hat',\n 'have',\n 'head',\n 'health',\n 'hear',\n 'heard',\n 'heart',\n 'heaven',\n 'heavi',\n 'held',\n 'help',\n 'her',\n 'here',\n 'hero',\n 'herself',\n 'hide',\n 'high',\n 'higher',\n 'highest',\n 'hill',\n 'him',\n 'himself',\n 'hippolyt',\n 'his',\n 'histor',\n 'histori',\n 'historian',\n 'hold',\n 'home',\n 'honor',\n 'hope',\n 'horror',\n 'hors',\n 'hospit',\n 'hot',\n 'hour',\n 'hous',\n 'how',\n 'howev',\n 'human',\n 'hundr',\n 'hunt',\n 'hurrah',\n 'hurri',\n 'husband',\n 'hussar',\n 'hut',\n 'hélène',\n 'icon',\n 'idea',\n 'ill',\n 'imagin',\n 'immedi',\n 'import',\n 'imposs',\n 'impress',\n 'increas',\n 'indic',\n 'inevit',\n 'infantri',\n 'influenc',\n 'inform',\n 'inquir',\n 'insist',\n 'instant',\n 'instead',\n 'instruct',\n 'intend',\n 'intent',\n 'interest',\n 'interrupt',\n 'into',\n 'invit',\n 'involuntarili',\n 'irrit',\n 'it',\n 'itself',\n 'join',\n 'joke',\n 'journey',\n 'joy',\n 'judg',\n 'juli',\n 'jump',\n 'just',\n 'karatáev',\n 'keep',\n 'kept',\n 'kill',\n 'kind',\n 'king',\n 'kiss',\n 'knee',\n 'knew',\n 'know',\n 'known',\n 'kurágin',\n 'kutúzov',\n 'lad',\n 'ladi',\n 'laid',\n 'larg',\n 'last',\n 'late',\n 'later',\n 'latter',\n 'laugh',\n 'laughter',\n 'law',\n 'lay',\n 'lead',\n 'lean',\n 'learn',\n 'least',\n 'leav',\n 'led',\n 'left',\n 'leg',\n 'less',\n 'let',\n 'letter',\n 'lie',\n 'life',\n 'lift',\n 'light',\n 'like',\n 'line',\n 'lip',\n 'listen',\n 'lit',\n 'littl',\n 'live',\n 'long',\n 'longer',\n 'look',\n 'lord',\n 'lose',\n 'loss',\n 'lost',\n 'loud',\n 'love',\n 'low',\n 'lower',\n 'madam',\n 'made',\n 'mademoisell',\n 'maid',\n 'majesti',\n 'major',\n 'make',\n 'mamma',\n 'man',\n 'manag',\n 'mani',\n 'manner',\n 'march',\n 'mari',\n 'marri',\n 'marriag',\n 'marshal',\n 'mason',\n 'mass',\n 'master',\n 'matter',\n 'may',\n 'mean',\n 'meant',\n 'meet',\n 'member',\n 'memori',\n 'men',\n 'mention',\n 'mere',\n 'merri',\n 'met',\n 'michael',\n 'middl',\n 'might',\n 'mikháylovna',\n 'mile',\n 'militari',\n 'mind',\n 'minist',\n 'minut',\n 'miss',\n 'moment',\n 'mon',\n 'money',\n 'month',\n 'more',\n 'morn',\n 'moscow',\n 'most',\n 'mother',\n 'mount',\n 'mouth',\n 'move',\n 'movement',\n 'much',\n 'murat',\n 'music',\n 'must',\n 'mustach',\n 'mutter',\n 'myself',\n 'mysteri',\n 'márya',\n 'name',\n 'napoleon',\n 'nation',\n 'natur',\n 'natásha',\n 'near',\n 'nearer',\n 'necess',\n 'necessari',\n 'neck',\n 'need',\n 'neither',\n 'nesvítski',\n 'never',\n 'new',\n 'news',\n 'next',\n 'nichola',\n 'night',\n 'nod',\n 'nonsens',\n 'nor',\n 'nose',\n 'not',\n 'note',\n 'noth',\n 'notic',\n 'now',\n 'number',\n 'nurs',\n 'object',\n 'observ',\n 'obtain',\n 'occupi',\n 'occur',\n 'off',\n 'offer',\n 'offic',\n 'offici',\n 'often',\n 'old',\n 'onc',\n 'one',\n 'onli',\n 'onto',\n 'open',\n 'opinion',\n 'opposit',\n 'order',\n 'other',\n 'ought',\n 'our',\n 'out',\n 'over',\n 'own',\n 'pace',\n 'pack',\n 'pain',\n 'pale',\n 'paper',\n 'part',\n 'parti',\n 'particular',\n 'pass',\n 'passag',\n 'passion',\n 'past',\n 'path',\n 'paus',\n 'pay',\n 'peac',\n 'peasant',\n 'peculiar',\n 'peopl',\n 'perfect',\n 'perform',\n 'perhap',\n 'person',\n 'petersburg',\n 'physic',\n 'pierr',\n 'piti',\n 'place',\n 'plain',\n 'plan',\n 'play',\n 'pleas',\n 'pleasant',\n 'pleasur',\n 'point',\n 'polish',\n 'polit',\n 'poor',\n 'porch',\n 'posit',\n 'possess',\n 'possibl',\n 'post',\n 'power',\n 'pray',\n 'prayer',\n 'prepar',\n 'presenc',\n 'present',\n 'press',\n 'pretti',\n 'previous',\n 'princ',\n 'princess',\n 'prison',\n 'probabl',\n 'produc',\n 'project',\n 'promis',\n 'propos',\n 'prove',\n 'pull',\n 'purpos',\n 'push',\n 'put',\n 'pávlovna',\n 'pétya',\n 'quarter',\n 'question',\n 'quick',\n 'quiet',\n 'quit',\n 'rais',\n 'ran',\n 'rank',\n 'rapid',\n 'rather',\n 'reach',\n 'read',\n 'readi',\n 'real',\n 'realiz',\n 'realli',\n 'reason',\n 'recal',\n 'receiv',\n 'recept',\n 'recogn',\n 'red',\n 'refer',\n 'reflect',\n 'refus',\n 'regard',\n 'regiment',\n 'relat',\n 'remain',\n 'remark',\n 'rememb',\n 'remov',\n 'repeat',\n 'repli',\n 'report',\n 'reproach',\n 'resolut',\n 'respect',\n 'rest',\n 'result',\n 'retir',\n 'retreat',\n 'return',\n 'rich',\n 'ride',\n 'right',\n 'ring',\n 'rise',\n 'river',\n 'road',\n 'rode',\n 'roll',\n 'room',\n 'rose',\n 'rostopchín',\n 'rostóv',\n 'round',\n 'rubl',\n 'ruin',\n 'rule',\n 'run',\n 'rush',\n 'russia',\n 'russian',\n 'saber',\n 'sacrific',\n 'sad',\n 'saddl',\n 'said',\n 'sake',\n 'same',\n 'sat',\n 'satisfi',\n 'save',\n 'saw',\n 'say',\n 'scarc',\n 'scienc',\n 'scream',\n 'seat',\n 'second',\n 'secret',\n 'see',\n 'seek',\n 'seem',\n 'seen',\n 'seiz',\n 'self',\n 'send',\n 'sens',\n 'sent',\n 'separ',\n 'serf',\n 'serious',\n 'serv',\n 'servant',\n 'servic',\n 'set',\n 'settl',\n 'seven',\n 'sever',\n 'shall',\n 'share',\n 'she',\n 'shed',\n 'shook',\n 'short',\n 'shot',\n 'should',\n 'shoulder',\n 'shout',\n 'show',\n 'shown',\n 'sick',\n 'side',\n 'sigh',\n 'sight',\n 'sign',\n 'signific',\n 'silenc',\n 'silent',\n 'simpl',\n 'simpli',\n 'sinc',\n 'sing',\n 'singl',\n 'sir',\n 'sister',\n 'sit',\n 'six',\n 'sky',\n 'sleep',\n 'sleigh',\n 'slight',\n 'small',\n 'smile',\n 'smoke',\n 'smolénsk',\n 'snow',\n 'sob',\n 'societi',\n 'sofa',\n 'soft',\n 'soldier',\n 'solemn',\n 'some',\n 'someon',\n 'someth',\n 'sometim',\n 'son',\n 'soon',\n 'sorri',\n 'sorrow',\n 'sort',\n 'soul',\n 'sound',\n 'sovereign',\n 'speak',\n 'special',\n 'spectacl',\n 'spent',\n 'speránski',\n 'spirit',\n 'spite',\n 'splendid',\n 'spoke',\n 'spoken',\n 'spot',\n 'spread',\n 'squadron',\n 'staff',\n 'stand',\n 'start',\n 'state',\n 'station',\n 'stay',\n 'step',\n 'stern',\n 'still',\n 'stood',\n 'stop',\n 'stori',\n ...]"
     },
     "execution_count": 42,
     "metadata": {},
     "output_type": "execute_result"
    }
   ],
   "source": [
    "sorted(list(wp.wv.key_to_index))"
   ]
  },
  {
   "cell_type": "code",
   "execution_count": 43,
   "metadata": {
    "pycharm": {
     "name": "#%%\n"
    }
   },
   "outputs": [],
   "source": [
    "words = [\"chair\",\"car\",\"man\",\"woman\",\"clean\",\"close\",\"cloud\",\"coat\", \"confus\",\"danger\",\"daughter\",\"deal\",\"run\",\"walk\",\"count\",\"father\",\"girl\",\"near\",\"neck\",\"spoke\",\"spoken\",\"stand\",\"show\",\"shown\"]"
   ]
  },
  {
   "cell_type": "code",
   "execution_count": 44,
   "metadata": {
    "pycharm": {
     "name": "#%%\n"
    }
   },
   "outputs": [],
   "source": [
    "wp.wv.save_word2vec_format('wp.bin')"
   ]
  },
  {
   "cell_type": "code",
   "execution_count": 49,
   "metadata": {
    "pycharm": {
     "name": "#%%\n"
    }
   },
   "outputs": [
    {
     "ename": "TypeError",
     "evalue": "'Word2Vec' object is not subscriptable",
     "output_type": "error",
     "traceback": [
      "\u001B[1;31m---------------------------------------------------------------------------\u001B[0m",
      "\u001B[1;31mTypeError\u001B[0m                                 Traceback (most recent call last)",
      "Input \u001B[1;32mIn [49]\u001B[0m, in \u001B[0;36m<cell line: 2>\u001B[1;34m()\u001B[0m\n\u001B[0;32m      1\u001B[0m \u001B[38;5;28;01mimport\u001B[39;00m \u001B[38;5;21;01mnumpy\u001B[39;00m \u001B[38;5;28;01mas\u001B[39;00m \u001B[38;5;21;01mnp\u001B[39;00m\n\u001B[1;32m----> 2\u001B[0m X \u001B[38;5;241m=\u001B[39m np\u001B[38;5;241m.\u001B[39marray([wp[w] \u001B[38;5;28;01mfor\u001B[39;00m w \u001B[38;5;129;01min\u001B[39;00m wp\u001B[38;5;241m.\u001B[39mwv\u001B[38;5;241m.\u001B[39mindex_to_key \u001B[38;5;28;01mif\u001B[39;00m w \u001B[38;5;129;01min\u001B[39;00m words])\n\u001B[0;32m      3\u001B[0m X\n",
      "Input \u001B[1;32mIn [49]\u001B[0m, in \u001B[0;36m<listcomp>\u001B[1;34m(.0)\u001B[0m\n\u001B[0;32m      1\u001B[0m \u001B[38;5;28;01mimport\u001B[39;00m \u001B[38;5;21;01mnumpy\u001B[39;00m \u001B[38;5;28;01mas\u001B[39;00m \u001B[38;5;21;01mnp\u001B[39;00m\n\u001B[1;32m----> 2\u001B[0m X \u001B[38;5;241m=\u001B[39m np\u001B[38;5;241m.\u001B[39marray([\u001B[43mwp\u001B[49m\u001B[43m[\u001B[49m\u001B[43mw\u001B[49m\u001B[43m]\u001B[49m \u001B[38;5;28;01mfor\u001B[39;00m w \u001B[38;5;129;01min\u001B[39;00m wp\u001B[38;5;241m.\u001B[39mwv\u001B[38;5;241m.\u001B[39mindex_to_key \u001B[38;5;28;01mif\u001B[39;00m w \u001B[38;5;129;01min\u001B[39;00m words])\n\u001B[0;32m      3\u001B[0m X\n",
      "\u001B[1;31mTypeError\u001B[0m: 'Word2Vec' object is not subscriptable"
     ]
    }
   ],
   "source": [
    "import numpy as np\n",
    "X = np.array([wp[w] for w in wp.wv.index_to_key if w in words])\n",
    "X"
   ]
  },
  {
   "cell_type": "code",
   "execution_count": null,
   "metadata": {
    "pycharm": {
     "name": "#%%\n"
    }
   },
   "outputs": [],
   "source": [
    "from sklearn.cluster import KMeans\n",
    "km = KMeans(n_clusters = 4)\n",
    "km.fit(X)\n",
    "y_kmeans = km.predict(X)"
   ]
  },
  {
   "cell_type": "code",
   "execution_count": null,
   "metadata": {
    "pycharm": {
     "name": "#%%\n"
    }
   },
   "outputs": [],
   "source": [
    "from sklearn import manifold\n",
    "lle_data = manifold.LocallyLinearEmbedding(n_neighbors=10, n_components=2).fit_transform(X)"
   ]
  },
  {
   "cell_type": "code",
   "execution_count": null,
   "metadata": {
    "pycharm": {
     "name": "#%%\n"
    }
   },
   "outputs": [],
   "source": [
    "import matplotlib.pyplot as plt\n",
    "plt.scatter(lle_data[:,0],lle_data[:,1], c =y_kmeans )\n",
    "for i in range(len(words)-1):\n",
    "    plt.annotate(words[i], xy = (lle_data[i][0],lle_data[i][1]))\n",
    "plt.show()"
   ]
  },
  {
   "cell_type": "code",
   "execution_count": null,
   "metadata": {
    "pycharm": {
     "name": "#%%\n"
    }
   },
   "outputs": [],
   "source": []
  },
  {
   "cell_type": "code",
   "execution_count": null,
   "metadata": {
    "pycharm": {
     "name": "#%%\n"
    }
   },
   "outputs": [],
   "source": []
  }
 ],
 "metadata": {
  "kernelspec": {
   "display_name": "Python 3",
   "language": "python",
   "name": "python3"
  },
  "language_info": {
   "codemirror_mode": {
    "name": "ipython",
    "version": 3
   },
   "file_extension": ".py",
   "mimetype": "text/x-python",
   "name": "python",
   "nbconvert_exporter": "python",
   "pygments_lexer": "ipython3",
   "version": "3.7.4"
  }
 },
 "nbformat": 4,
 "nbformat_minor": 2
}