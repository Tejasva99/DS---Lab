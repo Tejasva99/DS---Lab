{
 "nbformat": 4,
 "nbformat_minor": 0,
 "metadata": {
  "kernelspec": {
   "display_name": "Python 3",
   "language": "python",
   "name": "python3"
  },
  "language_info": {
   "codemirror_mode": {
    "name": "ipython",
    "version": 3
   },
   "file_extension": ".py",
   "mimetype": "text/x-python",
   "name": "python",
   "nbconvert_exporter": "python",
   "pygments_lexer": "ipython3",
   "version": "3.7.4"
  },
  "colab": {
   "provenance": [],
   "collapsed_sections": []
  }
 },
 "cells": [
  {
   "cell_type": "markdown",
   "metadata": {
    "id": "4UNJcr2uOAgz"
   },
   "source": [
    "**Support Vector Machine**"
   ]
  },
  {
   "cell_type": "code",
   "metadata": {
    "id": "JzL0GR2YN3zo"
   },
   "source": [
    "from sklearn import datasets\n",
    "import numpy as np\n",
    "import time\n",
    "import pandas as pd\n",
    "from sklearn.metrics import accuracy_score\n",
    "from sklearn.model_selection import train_test_split\n",
    "from sklearn import svm"
   ],
   "execution_count": 2,
   "outputs": []
  },
  {
   "cell_type": "code",
   "metadata": {
    "id": "wamny3eFN3zt",
    "pycharm": {
     "name": "#%%\n"
    }
   },
   "source": [
    "# Loading credit card dataset\n",
    "data = pd.read_csv(r\"C:\\Users\\tenu0.LABRINTH\\DataspellProjects\\DS-Lab\\Week 6\\Dataset\\10kcc.csv\")\n",
    "# Loading the features and storing them in X\n",
    "X = data.iloc[:, 0:30]\n",
    "# Loading the labels and storing them in y\n",
    "y = data[\"Class\"]"
   ],
   "execution_count": 3,
   "outputs": []
  },
  {
   "cell_type": "code",
   "metadata": {
    "id": "PgatGC9nN3zx"
   },
   "source": [
    "## Train = 60 % , Test = 20 % , Train = 20 %\n",
    "X_train, X_test, X_validation = np.split(X, [int(.6 * len(X)), int(.8 * len(X))])\n",
    "Y_train, Y_test, Y_validation = np.split(y, [int(.6 * len(y)), int(.8 * len(y))])"
   ],
   "execution_count": 4,
   "outputs": []
  },
  {
   "cell_type": "code",
   "metadata": {
    "id": "9xAMmtvRN3z0",
    "outputId": "1015f2cb-c0e4-4d91-c4b7-af481d8ddb79"
   },
   "source": [
    "from sklearn.svm import LinearSVC\n",
    "## Creating the svm object\n",
    "clf = LinearSVC(random_state=0)\n",
    "# Intilizing the time object\n",
    "t0 = time.time()\n",
    "t1 = time.time()\n",
    "## Fitting the data into the trained model\n",
    "clf.fit(X_train, Y_train)\n",
    "print(\"Training time is \", round(time.time() - t0, 3),  \"seconds\")"
   ],
   "execution_count": 14,
   "outputs": [
    {
     "name": "stdout",
     "output_type": "stream",
     "text": [
      "Training time is  0.015 seconds\n"
     ]
    },
    {
     "name": "stderr",
     "output_type": "stream",
     "text": [
      "C:\\Users\\tenu0.LABRINTH\\anaconda3\\lib\\site-packages\\sklearn\\svm\\_base.py:1225: ConvergenceWarning: Liblinear failed to converge, increase the number of iterations.\n",
      "  warnings.warn(\n"
     ]
    }
   ]
  },
  {
   "cell_type": "code",
   "metadata": {
    "id": "GT0vHtRYN3z5",
    "outputId": "849656e7-032f-4210-ef59-ec151fb7e87c"
   },
   "source": [
    "# Testing the data on the trained model\n",
    "y_pred = clf.predict(X_test)\n",
    "print(\"Testing time is \", round(time.time() - t1, 3),  \"seconds\")"
   ],
   "execution_count": 20,
   "outputs": [
    {
     "name": "stdout",
     "output_type": "stream",
     "text": [
      "Testing time is  9.151 seconds\n"
     ]
    }
   ]
  },
  {
   "cell_type": "code",
   "metadata": {
    "id": "i1tYvAt9N3z8",
    "outputId": "ea43c798-566f-4ef3-99a7-b2d39e22a11b"
   },
   "source": [
    "accuracy_score(Y_test,y_pred)"
   ],
   "execution_count": 7,
   "outputs": [
    {
     "data": {
      "text/plain": "0.011"
     },
     "execution_count": 7,
     "metadata": {},
     "output_type": "execute_result"
    }
   ]
  },
  {
   "cell_type": "code",
   "metadata": {
    "id": "MkzgsaT2N30A",
    "outputId": "e37e097c-6652-4f10-9dbb-674746e33bf0"
   },
   "source": [
    "# Creating the svm object\n",
    "clf = svm.SVC(kernel='rbf', gamma=0.7)\n",
    "# Creating the time object\n",
    "t0 = time.time()\n",
    "t1 = time.time()\n",
    "# Fitting the data into the model\n",
    "clf.fit(X_train, Y_train)\n",
    "#Calculating the training time\n",
    "print(\"Training time is \", round(time.time() - t0, 3),  \"seconds\")"
   ],
   "execution_count": 8,
   "outputs": [
    {
     "name": "stdout",
     "output_type": "stream",
     "text": [
      "Training time is  1.692 seconds\n"
     ]
    }
   ]
  },
  {
   "cell_type": "code",
   "metadata": {
    "id": "KUVnFRdMN30D",
    "outputId": "4752a637-ec7c-42c5-8fa8-e8182ebecbb0"
   },
   "source": [
    "#testing the data on the trained model\n",
    "y_pred = clf.predict(X_test)\n",
    "# Calculating the testing time\n",
    "print(\"Testing time is \", round(time.time() - t1, 3),  \"seconds\")"
   ],
   "execution_count": 9,
   "outputs": [
    {
     "name": "stdout",
     "output_type": "stream",
     "text": [
      "Testing time is  2.691 seconds\n"
     ]
    }
   ]
  },
  {
   "cell_type": "code",
   "metadata": {
    "id": "0_pJIbXlN30H",
    "outputId": "fe355124-d9e9-467f-cdd7-b220f7b3155d"
   },
   "source": [
    "accuracy_score(Y_test,y_pred)"
   ],
   "execution_count": 10,
   "outputs": [
    {
     "data": {
      "text/plain": "0.989"
     },
     "execution_count": 10,
     "metadata": {},
     "output_type": "execute_result"
    }
   ]
  },
  {
   "cell_type": "code",
   "metadata": {
    "id": "bsl_rMOKN30K",
    "outputId": "9752fd10-2c89-4ad8-ad87-525bf1cc6eee"
   },
   "source": [
    "# Creating the svm object\n",
    "clf = svm.SVC(kernel='poly', degree=3)\n",
    "# Creating the time object\n",
    "t0 = time.time()\n",
    "t1 = time.time()\n",
    "# Fitting the data into the model\n",
    "clf.fit(X_train, Y_train)\n",
    "# Calculating the training time\n",
    "print(\"training time is \", round(time.time() - t0), \"seconds\")"
   ],
   "execution_count": 11,
   "outputs": [
    {
     "name": "stdout",
     "output_type": "stream",
     "text": [
      "training time is  0 seconds\n"
     ]
    }
   ]
  },
  {
   "cell_type": "code",
   "metadata": {
    "id": "QF0xYt5CN30N",
    "outputId": "ecff9da7-429e-4528-cf43-538709f39756"
   },
   "source": [
    "# Testing the data on the trained model\n",
    "y_pred = clf.predict(X_test)\n",
    "# Calculating the testing time\n",
    "print(\"testingtime is \", round(time.time() - t1), \"seconds\")"
   ],
   "execution_count": 12,
   "outputs": [
    {
     "name": "stdout",
     "output_type": "stream",
     "text": [
      "testingtime is  0 seconds\n"
     ]
    }
   ]
  },
  {
   "cell_type": "code",
   "metadata": {
    "id": "1aB3ThTHN30Q",
    "outputId": "580f0bda-d9d1-4a10-a814-4238e01c9b9c"
   },
   "source": [
    "accuracy_score(Y_test,y_pred)"
   ],
   "execution_count": 13,
   "outputs": [
    {
     "data": {
      "text/plain": "0.989"
     },
     "execution_count": 13,
     "metadata": {},
     "output_type": "execute_result"
    }
   ]
  },
  {
   "cell_type": "code",
   "metadata": {
    "id": "Od70N4jhN30U"
   },
   "source": [],
   "execution_count": 13,
   "outputs": []
  }
 ]
}