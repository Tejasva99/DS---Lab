{
 "cells": [
  {
   "cell_type": "code",
   "execution_count": 118,
   "metadata": {
    "pycharm": {
     "name": "#%%\n"
    }
   },
   "outputs": [
    {
     "data": {
      "text/plain": "    Weight  Colour   Label\n0      303       3  Banana\n1      370       1   Apple\n2      298       3  Banana\n3      277       3  Banana\n4      377       4   Apple\n5      299       3  Banana\n6      382       1   Apple\n7      374       4   Apple\n8      303       4  Banana\n9      309       3  Banana\n10     359       1   Apple\n11     366       1   Apple\n12     311       3  Banana\n13     302       3  Banana\n14     373       4   Apple\n15     305       3  Banana\n16     371       3   Apple",
      "text/html": "<div>\n<style scoped>\n    .dataframe tbody tr th:only-of-type {\n        vertical-align: middle;\n    }\n\n    .dataframe tbody tr th {\n        vertical-align: top;\n    }\n\n    .dataframe thead th {\n        text-align: right;\n    }\n</style>\n<table border=\"1\" class=\"dataframe\">\n  <thead>\n    <tr style=\"text-align: right;\">\n      <th></th>\n      <th>Weight</th>\n      <th>Colour</th>\n      <th>Label</th>\n    </tr>\n  </thead>\n  <tbody>\n    <tr>\n      <th>0</th>\n      <td>303</td>\n      <td>3</td>\n      <td>Banana</td>\n    </tr>\n    <tr>\n      <th>1</th>\n      <td>370</td>\n      <td>1</td>\n      <td>Apple</td>\n    </tr>\n    <tr>\n      <th>2</th>\n      <td>298</td>\n      <td>3</td>\n      <td>Banana</td>\n    </tr>\n    <tr>\n      <th>3</th>\n      <td>277</td>\n      <td>3</td>\n      <td>Banana</td>\n    </tr>\n    <tr>\n      <th>4</th>\n      <td>377</td>\n      <td>4</td>\n      <td>Apple</td>\n    </tr>\n    <tr>\n      <th>5</th>\n      <td>299</td>\n      <td>3</td>\n      <td>Banana</td>\n    </tr>\n    <tr>\n      <th>6</th>\n      <td>382</td>\n      <td>1</td>\n      <td>Apple</td>\n    </tr>\n    <tr>\n      <th>7</th>\n      <td>374</td>\n      <td>4</td>\n      <td>Apple</td>\n    </tr>\n    <tr>\n      <th>8</th>\n      <td>303</td>\n      <td>4</td>\n      <td>Banana</td>\n    </tr>\n    <tr>\n      <th>9</th>\n      <td>309</td>\n      <td>3</td>\n      <td>Banana</td>\n    </tr>\n    <tr>\n      <th>10</th>\n      <td>359</td>\n      <td>1</td>\n      <td>Apple</td>\n    </tr>\n    <tr>\n      <th>11</th>\n      <td>366</td>\n      <td>1</td>\n      <td>Apple</td>\n    </tr>\n    <tr>\n      <th>12</th>\n      <td>311</td>\n      <td>3</td>\n      <td>Banana</td>\n    </tr>\n    <tr>\n      <th>13</th>\n      <td>302</td>\n      <td>3</td>\n      <td>Banana</td>\n    </tr>\n    <tr>\n      <th>14</th>\n      <td>373</td>\n      <td>4</td>\n      <td>Apple</td>\n    </tr>\n    <tr>\n      <th>15</th>\n      <td>305</td>\n      <td>3</td>\n      <td>Banana</td>\n    </tr>\n    <tr>\n      <th>16</th>\n      <td>371</td>\n      <td>3</td>\n      <td>Apple</td>\n    </tr>\n  </tbody>\n</table>\n</div>"
     },
     "execution_count": 118,
     "metadata": {},
     "output_type": "execute_result"
    }
   ],
   "source": [
    "# Let us first read the data from the file\n",
    "import pandas as pd\n",
    "data = pd.read_csv(r'C:\\Users\\tenu0.LABRINTH\\DataspellProjects\\DS-Lab\\Algorithms\\Datasets\\00-fruits.csv')\n",
    "data"
   ]
  },
  {
   "cell_type": "code",
   "execution_count": 119,
   "metadata": {
    "pycharm": {
     "name": "#%%\n"
    }
   },
   "outputs": [
    {
     "data": {
      "text/plain": "    Weight  Colour Label\n0      303       3     B\n1      370       1     A\n2      298       3     B\n3      277       3     B\n4      377       4     A\n5      299       3     B\n6      382       1     A\n7      374       4     A\n8      303       4     B\n9      309       3     B\n10     359       1     A\n11     366       1     A\n12     311       3     B\n13     302       3     B\n14     373       4     A\n15     305       3     B\n16     371       3     A",
      "text/html": "<div>\n<style scoped>\n    .dataframe tbody tr th:only-of-type {\n        vertical-align: middle;\n    }\n\n    .dataframe tbody tr th {\n        vertical-align: top;\n    }\n\n    .dataframe thead th {\n        text-align: right;\n    }\n</style>\n<table border=\"1\" class=\"dataframe\">\n  <thead>\n    <tr style=\"text-align: right;\">\n      <th></th>\n      <th>Weight</th>\n      <th>Colour</th>\n      <th>Label</th>\n    </tr>\n  </thead>\n  <tbody>\n    <tr>\n      <th>0</th>\n      <td>303</td>\n      <td>3</td>\n      <td>B</td>\n    </tr>\n    <tr>\n      <th>1</th>\n      <td>370</td>\n      <td>1</td>\n      <td>A</td>\n    </tr>\n    <tr>\n      <th>2</th>\n      <td>298</td>\n      <td>3</td>\n      <td>B</td>\n    </tr>\n    <tr>\n      <th>3</th>\n      <td>277</td>\n      <td>3</td>\n      <td>B</td>\n    </tr>\n    <tr>\n      <th>4</th>\n      <td>377</td>\n      <td>4</td>\n      <td>A</td>\n    </tr>\n    <tr>\n      <th>5</th>\n      <td>299</td>\n      <td>3</td>\n      <td>B</td>\n    </tr>\n    <tr>\n      <th>6</th>\n      <td>382</td>\n      <td>1</td>\n      <td>A</td>\n    </tr>\n    <tr>\n      <th>7</th>\n      <td>374</td>\n      <td>4</td>\n      <td>A</td>\n    </tr>\n    <tr>\n      <th>8</th>\n      <td>303</td>\n      <td>4</td>\n      <td>B</td>\n    </tr>\n    <tr>\n      <th>9</th>\n      <td>309</td>\n      <td>3</td>\n      <td>B</td>\n    </tr>\n    <tr>\n      <th>10</th>\n      <td>359</td>\n      <td>1</td>\n      <td>A</td>\n    </tr>\n    <tr>\n      <th>11</th>\n      <td>366</td>\n      <td>1</td>\n      <td>A</td>\n    </tr>\n    <tr>\n      <th>12</th>\n      <td>311</td>\n      <td>3</td>\n      <td>B</td>\n    </tr>\n    <tr>\n      <th>13</th>\n      <td>302</td>\n      <td>3</td>\n      <td>B</td>\n    </tr>\n    <tr>\n      <th>14</th>\n      <td>373</td>\n      <td>4</td>\n      <td>A</td>\n    </tr>\n    <tr>\n      <th>15</th>\n      <td>305</td>\n      <td>3</td>\n      <td>B</td>\n    </tr>\n    <tr>\n      <th>16</th>\n      <td>371</td>\n      <td>3</td>\n      <td>A</td>\n    </tr>\n  </tbody>\n</table>\n</div>"
     },
     "execution_count": 119,
     "metadata": {},
     "output_type": "execute_result"
    }
   ],
   "source": [
    "def fruitLabels(s):\n",
    "    s = s.strip().lower()\n",
    "    if s == \"apple\":\n",
    "        return \"A\"\n",
    "    if s == \"banana\":\n",
    "        return \"B\"\n",
    "    return \"X\"\n",
    "import pandas as pd\n",
    "data = pd.read_csv(r\"C:\\Users\\tenu0.LABRINTH\\DataspellProjects\\DS-Lab\\Algorithms\\Datasets\\00-fruits.csv\", converters={\"Label\":fruitLabels})\n",
    "data"
   ]
  },
  {
   "cell_type": "code",
   "execution_count": 120,
   "metadata": {
    "pycharm": {
     "name": "#%%\n"
    }
   },
   "outputs": [
    {
     "data": {
      "text/plain": "<Figure size 432x288 with 1 Axes>",
      "image/png": "[encoded data removed]"
     },
     "metadata": {
      "needs_background": "light"
     },
     "output_type": "display_data"
    }
   ],
   "source": [
    "import matplotlib.pyplot as plt\n",
    "plt.plot(data.Weight, data.Colour, \".\")\n",
    "plt.show()"
   ]
  },
  {
   "cell_type": "code",
   "execution_count": 121,
   "metadata": {
    "pycharm": {
     "name": "#%%\n"
    }
   },
   "outputs": [
    {
     "data": {
      "text/plain": "<Figure size 432x288 with 1 Axes>",
      "image/png": "[encoded data removed]"
     },
     "metadata": {
      "needs_background": "light"
     },
     "output_type": "display_data"
    }
   ],
   "source": [
    "apples = data[data.Label == \"A\"]\n",
    "bananas = data[data.Label == \"B\"]\n",
    "plt.plot(apples.Weight, apples.Colour, \"r.\")\n",
    "plt.plot(bananas.Weight, bananas.Colour, \"y.\")\n",
    "plt.show()"
   ]
  },
  {
   "cell_type": "code",
   "execution_count": 122,
   "metadata": {
    "pycharm": {
     "name": "#%%\n"
    }
   },
   "outputs": [
    {
     "data": {
      "text/plain": "<Figure size 432x288 with 1 Axes>",
      "image/png": "[encoded data removed]"
     },
     "metadata": {
      "needs_background": "light"
     },
     "output_type": "display_data"
    }
   ],
   "source": [
    "plt.plot(apples.Weight, apples.Colour, \"r.\")\n",
    "plt.plot(bananas.Weight, bananas.Colour, \"y.\")\n",
    "plt.xlabel(\"Weight -- in grams\")\n",
    "plt.ylabel(\"Colour -- r-o-y-g-b-p\")\n",
    "plt.show()"
   ]
  },
  {
   "cell_type": "markdown",
   "metadata": {
    "pycharm": {
     "name": "#%% md\n"
    }
   },
   "source": [
    "**Exercise 1** :: Change the points for Apples to big circles and the points for Bananas to crosses. Edit the areas marked with ??? in the code below.\n",
    "\n",
    "**Exercise 2** :: Add a legend"
   ]
  },
  {
   "cell_type": "code",
   "execution_count": 123,
   "metadata": {
    "pycharm": {
     "name": "#%%\n"
    }
   },
   "outputs": [
    {
     "data": {
      "text/plain": "<Figure size 432x288 with 1 Axes>",
      "image/png": "[encoded data removed]"
     },
     "metadata": {
      "needs_background": "light"
     },
     "output_type": "display_data"
    }
   ],
   "source": [
    "#Exercise1&2\n",
    "plt.plot(apples.Weight, apples.Colour, \"o\")\n",
    "plt.plot(bananas.Weight, bananas.Colour, \"X\")\n",
    "plt.xlabel(\"Weight -- in grams\")\n",
    "plt.ylabel(\"Colour -- r-o-y-g-b-p\")\n",
    "plt.legend([\"Apples\",\"Bananas\"])\n",
    "plt.show()"
   ]
  },
  {
   "cell_type": "code",
   "execution_count": 124,
   "metadata": {
    "pycharm": {
     "name": "#%%\n"
    }
   },
   "outputs": [
    {
     "data": {
      "text/plain": "<Figure size 432x288 with 1 Axes>",
      "image/png": "[encoded data removed]"
     },
     "metadata": {
      "needs_background": "light"
     },
     "output_type": "display_data"
    }
   ],
   "source": [
    "plt.plot(apples.Weight, apples.Colour, \"r.\")\n",
    "plt.plot(bananas.Weight, bananas.Colour, \"y.\")\n",
    "plt.xlabel(\"Weight -- in grams\")\n",
    "plt.ylabel(\"Colour -- r-o-y-g-b-p\")\n",
    "plt.plot([373, 280], [1, 3], \"ko\")\n",
    "plt.show()"
   ]
  },
  {
   "cell_type": "code",
   "execution_count": 125,
   "metadata": {
    "pycharm": {
     "name": "#%%\n"
    }
   },
   "outputs": [],
   "source": [
    "import math\n",
    "def dist(a, b):\n",
    "    sqSum = 0\n",
    "    for i in range(len(a)):\n",
    "        sqSum += (a[i] - b[i]) ** 2\n",
    "    return math.sqrt(sqSum)"
   ]
  },
  {
   "cell_type": "code",
   "execution_count": 126,
   "metadata": {
    "pycharm": {
     "name": "#%%\n"
    }
   },
   "outputs": [
    {
     "name": "stdout",
     "output_type": "stream",
     "text": [
      "[303 3 'B']\n",
      "[370 1 'A']\n"
     ]
    }
   ],
   "source": [
    "f0 = data.values[0]\n",
    "print(f0)\n",
    "f1 = data.values[1]\n",
    "print(f1)"
   ]
  },
  {
   "cell_type": "code",
   "execution_count": 127,
   "metadata": {
    "pycharm": {
     "name": "#%%\n"
    }
   },
   "outputs": [
    {
     "data": {
      "text/plain": "67.02984409947557"
     },
     "execution_count": 127,
     "metadata": {},
     "output_type": "execute_result"
    }
   ],
   "source": [
    "dist(f1[:2], f0[:2])"
   ]
  },
  {
   "cell_type": "code",
   "execution_count": 128,
   "metadata": {
    "pycharm": {
     "name": "#%%\n"
    }
   },
   "outputs": [
    {
     "data": {
      "text/plain": "5.0"
     },
     "execution_count": 128,
     "metadata": {},
     "output_type": "execute_result"
    }
   ],
   "source": [
    "f2 = data.values[2]\n",
    "dist(f2[:2], f0[:2])"
   ]
  },
  {
   "cell_type": "markdown",
   "metadata": {
    "pycharm": {
     "name": "#%% md\n"
    }
   },
   "source": [
    "**Exercise 3** :: Find the distance between the fruits in line 2, and line 1\n"
   ]
  },
  {
   "cell_type": "code",
   "execution_count": 129,
   "metadata": {
    "pycharm": {
     "name": "#%%\n"
    }
   },
   "outputs": [
    {
     "data": {
      "text/plain": "72.02777242147643"
     },
     "execution_count": 129,
     "metadata": {},
     "output_type": "execute_result"
    }
   ],
   "source": [
    "##Let us calculate the distance between f1 and f2\n",
    "dist(f2[:2], f1[:2])"
   ]
  },
  {
   "cell_type": "markdown",
   "source": [
    "find distance for all"
   ],
   "metadata": {
    "collapsed": false,
    "pycharm": {
     "name": "#%% md\n"
    }
   }
  },
  {
   "cell_type": "code",
   "execution_count": 130,
   "outputs": [
    {
     "data": {
      "text/plain": "[9.0,\n 12.0,\n 13.0,\n 16.0,\n 17.0,\n 17.0,\n 19.0,\n 23.0,\n 25.0,\n 73.0,\n 80.0,\n 84.0,\n 85.0,\n 87.0,\n 88.0,\n 91.0,\n 96.0]"
     },
     "execution_count": 130,
     "metadata": {},
     "output_type": "execute_result"
    }
   ],
   "source": [
    "test_pt = [286, 366, 271, 334, 303, 330, 243, 389, 357, 299]\n",
    "distances = []\n",
    "for t in data.values:\n",
    "\n",
    "    distances.append(dist(t[:1],test_pt))\n",
    "\n",
    "distances.sort()\n",
    "distances"
   ],
   "metadata": {
    "collapsed": false,
    "pycharm": {
     "name": "#%%\n"
    }
   }
  },
  {
   "cell_type": "code",
   "execution_count": 131,
   "outputs": [],
   "source": [
    "from sklearn.model_selection import train_test_split\n",
    "from sklearn.preprocessing import StandardScaler\n",
    "\n",
    "# Split the data - 75% train, 25% test\n",
    "X= data.drop('Label', axis=1)\n",
    "y = data.Label\n",
    "X_train, X_test, y_train, y_test = train_test_split(X, y, test_size=0.25, random_state=1)\n",
    "\n",
    "# Scale the X data\n",
    "\n",
    "scaler = StandardScaler()\n",
    "X_train = scaler.fit_transform(X_train)\n",
    "X_test = scaler.transform(X_test)"
   ],
   "metadata": {
    "collapsed": false,
    "pycharm": {
     "name": "#%%\n"
    }
   }
  },
  {
   "cell_type": "code",
   "execution_count": 132,
   "outputs": [
    {
     "name": "stdout",
     "output_type": "stream",
     "text": [
      "['B', 'B', 'A', 'B', 'A']\n"
     ]
    }
   ],
   "source": [
    "def knn_predict(X_train, X_test, y_train, y_test, k):\n",
    "\n",
    "    from collections import Counter\n",
    "    y_hat_test = []\n",
    "\n",
    "    for test_point in X_test:\n",
    "        distances = []\n",
    "\n",
    "        for train_point in X_train:\n",
    "            distance = dist(test_point, train_point)\n",
    "            distances.append(distance)\n",
    "\n",
    "        df_dists = pd.DataFrame(data=distances, columns=['dist'],\n",
    "                                index=y_train.index)\n",
    "\n",
    "\n",
    "        df_nn = df_dists.sort_values(by=['dist'], axis=0)[:k]\n",
    "\n",
    "        counter = Counter(y_train[df_nn.index])\n",
    "\n",
    "        prediction = counter.most_common()[0][0]\n",
    "\n",
    "        y_hat_test.append(prediction)\n",
    "\n",
    "    return y_hat_test\n",
    "\n",
    "y_hat_test = knn_predict(X_train, X_test, y_train, y_test, k=5)\n",
    "\n",
    "print(y_hat_test)"
   ],
   "metadata": {
    "collapsed": false,
    "pycharm": {
     "name": "#%%\n"
    }
   }
  },
  {
   "cell_type": "code",
   "execution_count": 133,
   "outputs": [
    {
     "name": "stdout",
     "output_type": "stream",
     "text": [
      "1.0\n"
     ]
    }
   ],
   "source": [
    "from sklearn.metrics import accuracy_score\n",
    "\n",
    "print(accuracy_score(y_test, y_hat_test))"
   ],
   "metadata": {
    "collapsed": false,
    "pycharm": {
     "name": "#%%\n"
    }
   }
  },
  {
   "cell_type": "code",
   "execution_count": 134,
   "outputs": [
    {
     "name": "stdout",
     "output_type": "stream",
     "text": [
      "Sklearn KNN Accuracy: 1.0\n"
     ]
    }
   ],
   "source": [
    "from sklearn.neighbors import KNeighborsClassifier\n",
    "\n",
    "clf = KNeighborsClassifier(n_neighbors=5, p=1)\n",
    "clf.fit(X_train, y_train)\n",
    "y_pred_test = clf.predict(X_test)\n",
    "\n",
    "print(f\"Sklearn KNN Accuracy: {accuracy_score(y_test, y_pred_test)}\")"
   ],
   "metadata": {
    "collapsed": false,
    "pycharm": {
     "name": "#%%\n"
    }
   }
  },
  {
   "cell_type": "code",
   "execution_count": 135,
   "outputs": [
    {
     "data": {
      "text/plain": "<Figure size 576x432 with 1 Axes>",
      "image/png": "[encoded data removed]"
     },
     "metadata": {
      "needs_background": "light"
     },
     "output_type": "display_data"
    }
   ],
   "source": [
    "accuracies = []\n",
    "\n",
    "for k in range(1,100):\n",
    "    y_hat_test = knn_predict(X_train, X_test, y_train, y_test, k)\n",
    "    accuracies.append(accuracy_score(y_test, y_hat_test))\n",
    "\n",
    "fig, ax = plt.subplots(figsize=(8,6))\n",
    "ax.plot(range(1,100), accuracies)\n",
    "ax.set_xlabel('# of Nearest Neighbors (k)')\n",
    "ax.set_ylabel('Accuracy (%)');"
   ],
   "metadata": {
    "collapsed": false,
    "pycharm": {
     "name": "#%%\n"
    }
   }
  }
 ],
 "metadata": {
  "kernelspec": {
   "display_name": "Python 3",
   "language": "python",
   "name": "python3"
  },
  "language_info": {
   "codemirror_mode": {
    "name": "ipython",
    "version": 3
   },
   "file_extension": ".py",
   "mimetype": "text/x-python",
   "name": "python",
   "nbconvert_exporter": "python",
   "pygments_lexer": "ipython3",
   "version": "3.7.4"
  }
 },
 "nbformat": 4,
 "nbformat_minor": 2
}